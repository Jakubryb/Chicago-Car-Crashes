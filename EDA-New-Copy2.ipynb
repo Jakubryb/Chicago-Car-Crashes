{
 "cells": [
  {
   "cell_type": "markdown",
   "metadata": {},
   "source": [
    "# Cleaning\n",
    "\n",
    "This notebook illustrates detailed download and cleaning of the Chicago Crash data. \n",
    "\n",
    "Our Problem focused on what factors contribute to **severe** traffic incidents for just drivers at **night**. \n",
    "\n",
    "* **Severe** traffic incidents we defined as `FATAL` or `INCAPACITATING` from the `INJURY_TYPE` column. \n",
    "\n",
    "* **Night** we defined as the hours between 10pm to 5 am, or hours `22` through `5` in the `CRASH_HOUR` column. \n",
    "\n",
    "* Final output is `final_df` which will be used in the following notebook(s)."
   ]
  },
  {
   "cell_type": "markdown",
   "metadata": {},
   "source": [
    "### Loading the Neccessary Packages and CSV Files"
   ]
  },
  {
   "cell_type": "code",
   "execution_count": 1,
   "metadata": {},
   "outputs": [],
   "source": [
    "#Importing the neccessary packages\n",
    "import pandas as pd\n",
    "import numpy as np\n",
    "import matplotlib.pyplot as plt\n",
    "\n",
    "from sklearn.model_selection import train_test_split, GridSearchCV\n",
    "from sklearn.feature_selection import SelectKBest, chi2\n",
    "from sklearn.linear_model import LogisticRegression\n",
    "from sklearn.preprocessing import OneHotEncoder, StandardScaler, LabelEncoder\n",
    "from sklearn.tree import DecisionTreeClassifier, plot_tree\n",
    "from sklearn.neighbors import KNeighborsClassifier\n",
    "from imblearn.over_sampling import SMOTE\n",
    "from imblearn.under_sampling import RandomUnderSampler\n",
    "from sklearn.metrics import confusion_matrix, plot_confusion_matrix,\\\n",
    "    precision_score, recall_score, accuracy_score, f1_score, log_loss,\\\n",
    "    roc_curve, roc_auc_score, classification_report, plot_roc_curve\n",
    "from sklearn.metrics import roc_curve, classification_report\n",
    "# from sklearn_pandas import DataFrameMapper\n",
    "from sklearn.compose import ColumnTransformer\n",
    "from sklearn.pipeline import Pipeline\n",
    "from imblearn.pipeline import Pipeline as imb_Pipeline"
   ]
  },
  {
   "cell_type": "code",
   "execution_count": 2,
   "metadata": {},
   "outputs": [],
   "source": [
    "crash_df = pd.read_csv('data/Traffic_Crashes_-_crashes.csv')\n",
    "people_df = pd.read_csv('data/Traffic_Crashes_-_people.csv', low_memory=False)"
   ]
  },
  {
   "cell_type": "markdown",
   "metadata": {},
   "source": [
    "### Dropping Unneccessary Columns\n",
    "\n",
    "#### `crash_df` dropping Justification: \n",
    "\n",
    "* `RD_NO` - Police Dep. Report number, another identifying number associated with each record, we kept `CRASH_RECORD_ID` as the joining record number for each dataframe. \n",
    "* `CRASH_DATE_EST_I` - used when crash is reported to police days after the crash, this dataframe inclues crash day of week, hour and month so we can drop the specific date.\n",
    "* `CRASH_DATE` - this dataframe inclues crash day of week, hour and month so we can drop the specific date.\n",
    "* `REPORT_TYPE` - administrative report type, not a factor relevant to causing a crash.\n",
    "* `HIT_AND_RUN_I` - not a factor relevant to causing a crash.\n",
    "* `DATE_POLICE_NOTIFIED` - not a factor relevant to causing a crash.\n",
    "* `STREET_NO` - of location related data we chose to keep latitude, longitude\n",
    "* `BEAT_OF_OCCURENCE` - not a factor relevant to causing a crash.\n",
    "* `PHOTOS_TAKEN_I` - not a factor relevant to causing a crash.\n",
    "* `STATEMENTS_TAKEN` - not a factor relevant to causing a crash.\n",
    "* `MOST_SEVERE_INJURY` - basing our severity of injury off of information from the `people_df` dataframe, including this and other injury related columns would cause multicolliniarity in our modeling. \n",
    "* `INJURIES_FATAL`\n",
    "* `INJURIES_NON_INCAPACITATING`\n",
    "* `INJURIES_REPORTED_NOT_EVIDENT`\n",
    "* `INJURIES_NO_INDICATION`\n",
    "* `INJURIES_UNKNOWN`\n",
    "* `LONGITUDE`\n",
    "* `LATITUDE`"
   ]
  },
  {
   "cell_type": "code",
   "execution_count": 3,
   "metadata": {},
   "outputs": [
    {
     "name": "stdout",
     "output_type": "stream",
     "text": [
      "<class 'pandas.core.frame.DataFrame'>\n",
      "RangeIndex: 554228 entries, 0 to 554227\n",
      "Data columns (total 49 columns):\n",
      " #   Column                         Non-Null Count   Dtype  \n",
      "---  ------                         --------------   -----  \n",
      " 0   CRASH_RECORD_ID                554228 non-null  object \n",
      " 1   RD_NO                          549766 non-null  object \n",
      " 2   CRASH_DATE_EST_I               41950 non-null   object \n",
      " 3   CRASH_DATE                     554228 non-null  object \n",
      " 4   POSTED_SPEED_LIMIT             554228 non-null  int64  \n",
      " 5   TRAFFIC_CONTROL_DEVICE         554228 non-null  object \n",
      " 6   DEVICE_CONDITION               554228 non-null  object \n",
      " 7   WEATHER_CONDITION              554228 non-null  object \n",
      " 8   LIGHTING_CONDITION             554228 non-null  object \n",
      " 9   FIRST_CRASH_TYPE               554228 non-null  object \n",
      " 10  TRAFFICWAY_TYPE                554228 non-null  object \n",
      " 11  LANE_CNT                       198970 non-null  float64\n",
      " 12  ALIGNMENT                      554228 non-null  object \n",
      " 13  ROADWAY_SURFACE_COND           554228 non-null  object \n",
      " 14  ROAD_DEFECT                    554228 non-null  object \n",
      " 15  REPORT_TYPE                    540273 non-null  object \n",
      " 16  CRASH_TYPE                     554228 non-null  object \n",
      " 17  INTERSECTION_RELATED_I         125851 non-null  object \n",
      " 18  NOT_RIGHT_OF_WAY_I             26204 non-null   object \n",
      " 19  HIT_AND_RUN_I                  167405 non-null  object \n",
      " 20  DAMAGE                         554228 non-null  object \n",
      " 21  DATE_POLICE_NOTIFIED           554228 non-null  object \n",
      " 22  PRIM_CONTRIBUTORY_CAUSE        554228 non-null  object \n",
      " 23  SEC_CONTRIBUTORY_CAUSE         554228 non-null  object \n",
      " 24  STREET_NO                      554228 non-null  int64  \n",
      " 25  STREET_DIRECTION               554224 non-null  object \n",
      " 26  STREET_NAME                    554227 non-null  object \n",
      " 27  BEAT_OF_OCCURRENCE             554223 non-null  float64\n",
      " 28  PHOTOS_TAKEN_I                 6872 non-null    object \n",
      " 29  STATEMENTS_TAKEN_I             11233 non-null   object \n",
      " 30  DOORING_I                      1795 non-null    object \n",
      " 31  WORK_ZONE_I                    3478 non-null    object \n",
      " 32  WORK_ZONE_TYPE                 2752 non-null    object \n",
      " 33  WORKERS_PRESENT_I              865 non-null     object \n",
      " 34  NUM_UNITS                      554227 non-null  float64\n",
      " 35  MOST_SEVERE_INJURY             553087 non-null  object \n",
      " 36  INJURIES_TOTAL                 553098 non-null  float64\n",
      " 37  INJURIES_FATAL                 553098 non-null  float64\n",
      " 38  INJURIES_INCAPACITATING        553098 non-null  float64\n",
      " 39  INJURIES_NON_INCAPACITATING    553098 non-null  float64\n",
      " 40  INJURIES_REPORTED_NOT_EVIDENT  553098 non-null  float64\n",
      " 41  INJURIES_NO_INDICATION         553098 non-null  float64\n",
      " 42  INJURIES_UNKNOWN               553098 non-null  float64\n",
      " 43  CRASH_HOUR                     554228 non-null  int64  \n",
      " 44  CRASH_DAY_OF_WEEK              554228 non-null  int64  \n",
      " 45  CRASH_MONTH                    554228 non-null  int64  \n",
      " 46  LATITUDE                       551029 non-null  float64\n",
      " 47  LONGITUDE                      551029 non-null  float64\n",
      " 48  LOCATION                       551029 non-null  object \n",
      "dtypes: float64(12), int64(5), object(32)\n",
      "memory usage: 207.2+ MB\n"
     ]
    }
   ],
   "source": [
    "crash_df.info()"
   ]
  },
  {
   "cell_type": "code",
   "execution_count": 4,
   "metadata": {},
   "outputs": [
    {
     "data": {
      "text/plain": [
       "16    42587\n",
       "15    42326\n",
       "17    41653\n",
       "14    37575\n",
       "18    34490\n",
       "13    34297\n",
       "12    32896\n",
       "8     28751\n",
       "11    28532\n",
       "9     25573\n",
       "10    25327\n",
       "19    25290\n",
       "7     23174\n",
       "20    20244\n",
       "21    18065\n",
       "22    16648\n",
       "23    14129\n",
       "6     12268\n",
       "0     11546\n",
       "1      9847\n",
       "2      8404\n",
       "5      7521\n",
       "3      6842\n",
       "4      6243\n",
       "Name: CRASH_HOUR, dtype: int64"
      ]
     },
     "execution_count": 4,
     "metadata": {},
     "output_type": "execute_result"
    }
   ],
   "source": [
    "crash_df['CRASH_HOUR'].value_counts()"
   ]
  },
  {
   "cell_type": "code",
   "execution_count": null,
   "metadata": {},
   "outputs": [],
   "source": []
  },
  {
   "cell_type": "code",
   "execution_count": 5,
   "metadata": {},
   "outputs": [],
   "source": [
    "crash_df_cleaned = crash_df[['CRASH_RECORD_ID', 'TRAFFIC_CONTROL_DEVICE', 'DEVICE_CONDITION', \n",
    "                             #'LATITUDE', 'LONGITUDE',\n",
    "                             'WEATHER_CONDITION', 'LIGHTING_CONDITION', 'ROADWAY_SURFACE_COND', \n",
    "                             'CRASH_HOUR', 'CRASH_DAY_OF_WEEK', 'CRASH_MONTH']]"
   ]
  },
  {
   "cell_type": "markdown",
   "metadata": {},
   "source": [
    "#### `people_df` dropping Justification: \n",
    "\n",
    "* `PERSON_ID` - unique ID for each person record, \n",
    "\n",
    "... do we need to fill in reasons for all these? "
   ]
  },
  {
   "cell_type": "code",
   "execution_count": 6,
   "metadata": {},
   "outputs": [],
   "source": [
    "people_df_cleaned = people_df[['CRASH_RECORD_ID', 'AGE', \n",
    "                               'BAC_RESULT VALUE', 'INJURY_CLASSIFICATION', 'PERSON_TYPE']]"
   ]
  },
  {
   "cell_type": "markdown",
   "metadata": {},
   "source": [
    "## Subsetting crash records between 10 pm and 6 am"
   ]
  },
  {
   "cell_type": "code",
   "execution_count": 7,
   "metadata": {},
   "outputs": [
    {
     "data": {
      "text/plain": [
       "Index(['CRASH_RECORD_ID', 'TRAFFIC_CONTROL_DEVICE', 'DEVICE_CONDITION',\n",
       "       'WEATHER_CONDITION', 'LIGHTING_CONDITION', 'ROADWAY_SURFACE_COND',\n",
       "       'CRASH_HOUR', 'CRASH_DAY_OF_WEEK', 'CRASH_MONTH'],\n",
       "      dtype='object')"
      ]
     },
     "execution_count": 7,
     "metadata": {},
     "output_type": "execute_result"
    }
   ],
   "source": [
    "night_time_df = crash_df_cleaned.copy()\n",
    "#night_time_df = night_time_df[(night_time_df['CRASH_HOUR'] >= 22) | (night_time_df['CRASH_HOUR'] <= 6)]\n",
    "night_time_df.columns"
   ]
  },
  {
   "cell_type": "markdown",
   "metadata": {},
   "source": [
    "### change1"
   ]
  },
  {
   "cell_type": "code",
   "execution_count": 8,
   "metadata": {},
   "outputs": [
    {
     "data": {
      "text/plain": [
       "NONE                                 353351\n",
       "UNKNOWN                              234396\n",
       "FAILED TO YIELD                       89917\n",
       "OTHER                                 84309\n",
       "FOLLOWED TOO CLOSELY                  62148\n",
       "IMPROPER BACKING                      30836\n",
       "IMPROPER TURN                         25741\n",
       "IMPROPER LANE CHANGE                  25627\n",
       "IMPROPER PASSING                      21591\n",
       "DISREGARDED CONTROL DEVICES           16374\n",
       "TOO FAST FOR CONDITIONS               15674\n",
       "IMPROPER PARKING                       3758\n",
       "WRONG WAY/SIDE                         3754\n",
       "CELL PHONE USE OTHER THAN TEXTING      1608\n",
       "EVADING POLICE VEHICLE                 1596\n",
       "OVERCORRECTED                          1198\n",
       "EMERGENCY VEHICLE ON CALL               924\n",
       "TEXTING                                 425\n",
       "STOPPED SCHOOL BUS                      113\n",
       "LICENSE RESTRICTIONS                     44\n",
       "Name: DRIVER_ACTION, dtype: int64"
      ]
     },
     "execution_count": 8,
     "metadata": {},
     "output_type": "execute_result"
    }
   ],
   "source": [
    "people_df['DRIVER_ACTION'].value_counts()"
   ]
  },
  {
   "cell_type": "markdown",
   "metadata": {},
   "source": [
    "### change1end"
   ]
  },
  {
   "cell_type": "markdown",
   "metadata": {},
   "source": [
    "## Joining all two data sets"
   ]
  },
  {
   "cell_type": "code",
   "execution_count": 9,
   "metadata": {},
   "outputs": [
    {
     "data": {
      "text/plain": [
<<<<<<< Updated upstream
       "((554228, 9), (1226112, 5))"
=======
       "((93448, 9), (1226112, 5))"
>>>>>>> Stashed changes
      ]
     },
     "execution_count": 9,
     "metadata": {},
     "output_type": "execute_result"
    }
   ],
   "source": [
    "#checking the shape\n",
    "night_time_df.shape, people_df_cleaned.shape"
   ]
  },
  {
   "cell_type": "code",
   "execution_count": 10,
   "metadata": {},
   "outputs": [
    {
     "data": {
      "text/plain": [
<<<<<<< Updated upstream
       "(1225784, 13)"
=======
       "(188737, 13)"
>>>>>>> Stashed changes
      ]
     },
     "execution_count": 10,
     "metadata": {},
     "output_type": "execute_result"
    }
   ],
   "source": [
    "merge = pd.merge(night_time_df, people_df_cleaned, how='left', on='CRASH_RECORD_ID')\n",
    "merge.shape"
   ]
  },
  {
   "cell_type": "code",
   "execution_count": 11,
   "metadata": {},
   "outputs": [
    {
     "data": {
      "text/plain": [
<<<<<<< Updated upstream
       " 25.0     25220\n",
       " 26.0     24959\n",
       " 27.0     24753\n",
       " 28.0     24208\n",
       " 24.0     24187\n",
       "          ...  \n",
       "-47.0         1\n",
       "-49.0         1\n",
       " 106.0        1\n",
       "-177.0        1\n",
       "-40.0         1\n",
       "Name: AGE, Length: 116, dtype: int64"
=======
       " 26.0     4787\n",
       " 24.0     4678\n",
       " 25.0     4661\n",
       " 27.0     4540\n",
       " 23.0     4409\n",
       "          ... \n",
       "-1.0         2\n",
       " 109.0       2\n",
       " 100.0       1\n",
       " 104.0       1\n",
       " 108.0       1\n",
       "Name: AGE, Length: 100, dtype: int64"
>>>>>>> Stashed changes
      ]
     },
     "execution_count": 11,
     "metadata": {},
     "output_type": "execute_result"
    }
   ],
   "source": [
    "merge['AGE'].value_counts()"
   ]
  },
  {
   "cell_type": "markdown",
   "metadata": {},
   "source": [
    "## Further Exploring Columns\n",
    "\n",
    "#### `INJURY_CLASSIFICATION` target Variable - this includes all people involved in incident, cyclists, passengers, drivers, etc. "
   ]
  },
  {
   "cell_type": "code",
   "execution_count": 12,
   "metadata": {},
   "outputs": [
    {
     "data": {
      "text/plain": [
<<<<<<< Updated upstream
       "NO INDICATION OF INJURY     1122230\n",
       "NONINCAPACITATING INJURY      57052\n",
       "REPORTED, NOT EVIDENT         32978\n",
       "INCAPACITATING INJURY         11118\n",
       "FATAL                           682\n",
=======
       "NO INDICATION OF INJURY     166740\n",
       "NONINCAPACITATING INJURY     12731\n",
       "REPORTED, NOT EVIDENT         5501\n",
       "INCAPACITATING INJURY         2834\n",
       "FATAL                          310\n",
>>>>>>> Stashed changes
       "Name: INJURY_CLASSIFICATION, dtype: int64"
      ]
     },
     "execution_count": 12,
     "metadata": {},
     "output_type": "execute_result"
    }
   ],
   "source": [
    "merge['INJURY_CLASSIFICATION'].value_counts()"
   ]
  },
  {
   "cell_type": "code",
   "execution_count": 13,
   "metadata": {},
   "outputs": [],
   "source": [
    "# fatal / incapacitate = 1\n",
    "merge.loc[(merge['INJURY_CLASSIFICATION'] == 'FATAL') | \n",
    "           (merge['INJURY_CLASSIFICATION'] == 'INCAPACITATING INJURY') | \n",
    "           (merge['INJURY_CLASSIFICATION'] == 'NONINCAPACITATING INJURY') |\n",
    "           (merge['INJURY_CLASSIFICATION'] == 'REPORTED, NOT EVIDENT'), 'INJURY_CLASSIFICATION'] = 1\n",
    "\n",
    "# else = 0\n",
    "merge.loc[(merge['INJURY_CLASSIFICATION'] == 'NO INDICATION OF INJURY'), 'INJURY_CLASSIFICATION'] = 0\n",
    "\n",
    "merge['INJURY_CLASSIFICATION'].fillna(0, inplace=True)"
   ]
  },
  {
   "cell_type": "code",
   "execution_count": 14,
   "metadata": {},
   "outputs": [
    {
     "data": {
      "text/plain": [
<<<<<<< Updated upstream
       "0    1123954\n",
       "1     101830\n",
=======
       "0    167361\n",
       "1     21376\n",
>>>>>>> Stashed changes
       "Name: INJURY_CLASSIFICATION, dtype: int64"
      ]
     },
     "execution_count": 14,
     "metadata": {},
     "output_type": "execute_result"
    }
   ],
   "source": [
    "merge[\"INJURY_CLASSIFICATION\"].value_counts()"
   ]
  },
  {
   "cell_type": "code",
   "execution_count": 15,
   "metadata": {},
   "outputs": [
    {
     "data": {
      "text/plain": [
<<<<<<< Updated upstream
       "0    0.916927\n",
       "1    0.083073\n",
=======
       "0    0.886742\n",
       "1    0.113258\n",
>>>>>>> Stashed changes
       "Name: INJURY_CLASSIFICATION, dtype: float64"
      ]
     },
     "execution_count": 15,
     "metadata": {},
     "output_type": "execute_result"
    }
   ],
   "source": [
    "merge[\"INJURY_CLASSIFICATION\"].value_counts(normalize=True)"
   ]
  },
  {
   "cell_type": "code",
<<<<<<< Updated upstream
   "execution_count": 17,
   "metadata": {},
   "outputs": [
    {
     "ename": "KeyError",
     "evalue": "'False: boolean label can not be used without a boolean index'",
     "output_type": "error",
     "traceback": [
      "\u001b[1;31m---------------------------------------------------------------------------\u001b[0m",
      "\u001b[1;31mKeyError\u001b[0m                                  Traceback (most recent call last)",
      "\u001b[1;32m~\\AppData\\Local\\Temp/ipykernel_8632/377093915.py\u001b[0m in \u001b[0;36m<module>\u001b[1;34m\u001b[0m\n\u001b[1;32m----> 1\u001b[1;33m \u001b[0mCrash_Injury\u001b[0m\u001b[1;33m=\u001b[0m \u001b[0mmerge\u001b[0m\u001b[1;33m.\u001b[0m\u001b[0mloc\u001b[0m\u001b[1;33m[\u001b[0m\u001b[1;33m[\u001b[0m\u001b[1;34m\"INJURY_CLASSIFICATION\"\u001b[0m\u001b[1;33m]\u001b[0m \u001b[1;33m==\u001b[0m \u001b[1;36m1\u001b[0m\u001b[1;33m]\u001b[0m\u001b[1;33m\u001b[0m\u001b[1;33m\u001b[0m\u001b[0m\n\u001b[0m",
      "\u001b[1;32m~\\anaconda3\\lib\\site-packages\\pandas\\core\\indexing.py\u001b[0m in \u001b[0;36m__getitem__\u001b[1;34m(self, key)\u001b[0m\n\u001b[0;32m    929\u001b[0m \u001b[1;33m\u001b[0m\u001b[0m\n\u001b[0;32m    930\u001b[0m             \u001b[0mmaybe_callable\u001b[0m \u001b[1;33m=\u001b[0m \u001b[0mcom\u001b[0m\u001b[1;33m.\u001b[0m\u001b[0mapply_if_callable\u001b[0m\u001b[1;33m(\u001b[0m\u001b[0mkey\u001b[0m\u001b[1;33m,\u001b[0m \u001b[0mself\u001b[0m\u001b[1;33m.\u001b[0m\u001b[0mobj\u001b[0m\u001b[1;33m)\u001b[0m\u001b[1;33m\u001b[0m\u001b[1;33m\u001b[0m\u001b[0m\n\u001b[1;32m--> 931\u001b[1;33m             \u001b[1;32mreturn\u001b[0m \u001b[0mself\u001b[0m\u001b[1;33m.\u001b[0m\u001b[0m_getitem_axis\u001b[0m\u001b[1;33m(\u001b[0m\u001b[0mmaybe_callable\u001b[0m\u001b[1;33m,\u001b[0m \u001b[0maxis\u001b[0m\u001b[1;33m=\u001b[0m\u001b[0maxis\u001b[0m\u001b[1;33m)\u001b[0m\u001b[1;33m\u001b[0m\u001b[1;33m\u001b[0m\u001b[0m\n\u001b[0m\u001b[0;32m    932\u001b[0m \u001b[1;33m\u001b[0m\u001b[0m\n\u001b[0;32m    933\u001b[0m     \u001b[1;32mdef\u001b[0m \u001b[0m_is_scalar_access\u001b[0m\u001b[1;33m(\u001b[0m\u001b[0mself\u001b[0m\u001b[1;33m,\u001b[0m \u001b[0mkey\u001b[0m\u001b[1;33m:\u001b[0m \u001b[0mtuple\u001b[0m\u001b[1;33m)\u001b[0m\u001b[1;33m:\u001b[0m\u001b[1;33m\u001b[0m\u001b[1;33m\u001b[0m\u001b[0m\n",
      "\u001b[1;32m~\\anaconda3\\lib\\site-packages\\pandas\\core\\indexing.py\u001b[0m in \u001b[0;36m_getitem_axis\u001b[1;34m(self, key, axis)\u001b[0m\n\u001b[0;32m   1161\u001b[0m \u001b[1;33m\u001b[0m\u001b[0m\n\u001b[0;32m   1162\u001b[0m         \u001b[1;31m# fall thru to straight lookup\u001b[0m\u001b[1;33m\u001b[0m\u001b[1;33m\u001b[0m\u001b[1;33m\u001b[0m\u001b[0m\n\u001b[1;32m-> 1163\u001b[1;33m         \u001b[0mself\u001b[0m\u001b[1;33m.\u001b[0m\u001b[0m_validate_key\u001b[0m\u001b[1;33m(\u001b[0m\u001b[0mkey\u001b[0m\u001b[1;33m,\u001b[0m \u001b[0maxis\u001b[0m\u001b[1;33m)\u001b[0m\u001b[1;33m\u001b[0m\u001b[1;33m\u001b[0m\u001b[0m\n\u001b[0m\u001b[0;32m   1164\u001b[0m         \u001b[1;32mreturn\u001b[0m \u001b[0mself\u001b[0m\u001b[1;33m.\u001b[0m\u001b[0m_get_label\u001b[0m\u001b[1;33m(\u001b[0m\u001b[0mkey\u001b[0m\u001b[1;33m,\u001b[0m \u001b[0maxis\u001b[0m\u001b[1;33m=\u001b[0m\u001b[0maxis\u001b[0m\u001b[1;33m)\u001b[0m\u001b[1;33m\u001b[0m\u001b[1;33m\u001b[0m\u001b[0m\n\u001b[0;32m   1165\u001b[0m \u001b[1;33m\u001b[0m\u001b[0m\n",
      "\u001b[1;32m~\\anaconda3\\lib\\site-packages\\pandas\\core\\indexing.py\u001b[0m in \u001b[0;36m_validate_key\u001b[1;34m(self, key, axis)\u001b[0m\n\u001b[0;32m    970\u001b[0m         \u001b[1;31m# boolean not in slice and with boolean index\u001b[0m\u001b[1;33m\u001b[0m\u001b[1;33m\u001b[0m\u001b[1;33m\u001b[0m\u001b[0m\n\u001b[0;32m    971\u001b[0m         \u001b[1;32mif\u001b[0m \u001b[0misinstance\u001b[0m\u001b[1;33m(\u001b[0m\u001b[0mkey\u001b[0m\u001b[1;33m,\u001b[0m \u001b[0mbool\u001b[0m\u001b[1;33m)\u001b[0m \u001b[1;32mand\u001b[0m \u001b[1;32mnot\u001b[0m \u001b[0mis_bool_dtype\u001b[0m\u001b[1;33m(\u001b[0m\u001b[0mself\u001b[0m\u001b[1;33m.\u001b[0m\u001b[0mobj\u001b[0m\u001b[1;33m.\u001b[0m\u001b[0mindex\u001b[0m\u001b[1;33m)\u001b[0m\u001b[1;33m:\u001b[0m\u001b[1;33m\u001b[0m\u001b[1;33m\u001b[0m\u001b[0m\n\u001b[1;32m--> 972\u001b[1;33m             raise KeyError(\n\u001b[0m\u001b[0;32m    973\u001b[0m                 \u001b[1;34mf\"{key}: boolean label can not be used without a boolean index\"\u001b[0m\u001b[1;33m\u001b[0m\u001b[1;33m\u001b[0m\u001b[0m\n\u001b[0;32m    974\u001b[0m             )\n",
      "\u001b[1;31mKeyError\u001b[0m: 'False: boolean label can not be used without a boolean index'"
     ]
    }
   ],
   "source": [
    "Crash_Injury= merge.loc[[\"INJURY_CLASSIFICATION\"] == 1]"
=======
   "execution_count": 16,
   "metadata": {},
   "outputs": [],
   "source": [
    "#Crash_Injury= merge.loc[[\"INJURY_CLASSIFICATION\"] == 1]"
>>>>>>> Stashed changes
   ]
  },
  {
   "cell_type": "code",
   "execution_count": null,
   "metadata": {},
   "outputs": [],
   "source": []
  },
  {
   "cell_type": "code",
<<<<<<< Updated upstream
   "execution_count": null,
=======
   "execution_count": 17,
>>>>>>> Stashed changes
   "metadata": {},
   "outputs": [],
   "source": [
    "merge = merge.drop(columns=['CRASH_RECORD_ID'])"
   ]
  },
  {
   "cell_type": "markdown",
   "metadata": {},
   "source": [
    "### changing traffic control device"
   ]
  },
  {
   "cell_type": "code",
<<<<<<< Updated upstream
   "execution_count": null,
=======
   "execution_count": 18,
>>>>>>> Stashed changes
   "metadata": {},
   "outputs": [],
   "source": [
    "merge.loc[merge['TRAFFIC_CONTROL_DEVICE'] == 'NO CONTROLS', 'TRAFFIC_CONTROL_DEVICE'] = 0\n",
    "merge.loc[merge['TRAFFIC_CONTROL_DEVICE'] != 0, 'TRAFFIC_CONTROL_DEVICE'] = 1\n",
    "\n",
    "merge.loc[merge.DEVICE_CONDITION == 'FUNCTIONING PROPERLY', 'DEVICE_CONDITION'] = 1\n",
    "merge.loc[merge.DEVICE_CONDITION != 1, 'DEVICE_CONDITION'] = 0\n",
    "\n",
    "merge['DEVICE_CONDITION'] = merge['DEVICE_CONDITION'].astype(float)\n",
    "merge['TRAFFIC_CONTROL_DEVICE'] = merge['TRAFFIC_CONTROL_DEVICE'].astype(float)"
   ]
  },
  {
   "cell_type": "markdown",
   "metadata": {},
   "source": [
    "### changing weather"
   ]
  },
  {
   "cell_type": "code",
<<<<<<< Updated upstream
   "execution_count": null,
=======
   "execution_count": 19,
>>>>>>> Stashed changes
   "metadata": {},
   "outputs": [],
   "source": [
    "# 1 is clear\n",
    "merge.loc[merge['WEATHER_CONDITION'] == 'CLEAR', 'WEATHER_CONDITION'] = 1\n",
    "\n",
    "# 0 is not clear\n",
    "merge.loc[merge['WEATHER_CONDITION'] != 1, 'WEATHER_CONDITION'] = 0\n",
    "\n",
    "merge['WEATHER_CONDITION'] = merge['WEATHER_CONDITION'].astype(float)"
   ]
  },
  {
   "cell_type": "markdown",
   "metadata": {},
   "source": [
    "### changing lighting condition"
   ]
  },
  {
   "cell_type": "code",
<<<<<<< Updated upstream
   "execution_count": null,
=======
   "execution_count": 20,
>>>>>>> Stashed changes
   "metadata": {},
   "outputs": [],
   "source": [
    "# ohe this during train test split"
   ]
  },
  {
   "cell_type": "code",
<<<<<<< Updated upstream
   "execution_count": null,
   "metadata": {},
   "outputs": [],
=======
   "execution_count": 21,
   "metadata": {},
   "outputs": [
    {
     "data": {
      "text/plain": [
       "DARKNESS, LIGHTED ROAD    129460\n",
       "DAYLIGHT                   21619\n",
       "DARKNESS                   20302\n",
       "DAWN                        8099\n",
       "UNKNOWN                     6812\n",
       "DUSK                        2445\n",
       "Name: LIGHTING_CONDITION, dtype: int64"
      ]
     },
     "execution_count": 21,
     "metadata": {},
     "output_type": "execute_result"
    }
   ],
>>>>>>> Stashed changes
   "source": [
    "merge['LIGHTING_CONDITION'].value_counts()"
   ]
  },
  {
   "cell_type": "markdown",
   "metadata": {},
   "source": [
    "### changing roadway surface cond"
   ]
  },
  {
   "cell_type": "code",
<<<<<<< Updated upstream
   "execution_count": null,
=======
   "execution_count": 22,
>>>>>>> Stashed changes
   "metadata": {},
   "outputs": [],
   "source": [
    "merge.loc[merge['ROADWAY_SURFACE_COND'] == 'OTHER', 'ROADWAY_SURFACE_COND'] = 'UNKNOWN'"
   ]
  },
  {
   "cell_type": "code",
<<<<<<< Updated upstream
   "execution_count": null,
   "metadata": {},
   "outputs": [],
=======
   "execution_count": 23,
   "metadata": {},
   "outputs": [
    {
     "data": {
      "text/plain": [
       "DRY                135465\n",
       "WET                 31526\n",
       "UNKNOWN             13430\n",
       "SNOW OR SLUSH        6527\n",
       "ICE                  1712\n",
       "SAND, MUD, DIRT        77\n",
       "Name: ROADWAY_SURFACE_COND, dtype: int64"
      ]
     },
     "execution_count": 23,
     "metadata": {},
     "output_type": "execute_result"
    }
   ],
>>>>>>> Stashed changes
   "source": [
    "merge['ROADWAY_SURFACE_COND'].value_counts()"
   ]
  },
  {
   "cell_type": "markdown",
   "metadata": {},
   "source": [
    "### changing age"
   ]
  },
  {
   "cell_type": "code",
<<<<<<< Updated upstream
   "execution_count": null,
   "metadata": {
    "scrolled": true
   },
   "outputs": [],
=======
   "execution_count": 24,
   "metadata": {
    "scrolled": true
   },
   "outputs": [
    {
     "name": "stdout",
     "output_type": "stream",
     "text": [
      "<class 'pandas.core.frame.DataFrame'>\n",
      "Int64Index: 188737 entries, 0 to 188736\n",
      "Data columns (total 12 columns):\n",
      " #   Column                  Non-Null Count   Dtype  \n",
      "---  ------                  --------------   -----  \n",
      " 0   TRAFFIC_CONTROL_DEVICE  188737 non-null  float64\n",
      " 1   DEVICE_CONDITION        188737 non-null  float64\n",
      " 2   WEATHER_CONDITION       188737 non-null  float64\n",
      " 3   LIGHTING_CONDITION      188737 non-null  object \n",
      " 4   ROADWAY_SURFACE_COND    188737 non-null  object \n",
      " 5   CRASH_HOUR              188737 non-null  int64  \n",
      " 6   CRASH_DAY_OF_WEEK       188737 non-null  int64  \n",
      " 7   CRASH_MONTH             188737 non-null  int64  \n",
      " 8   AGE                     123583 non-null  float64\n",
      " 9   BAC_RESULT VALUE        962 non-null     float64\n",
      " 10  INJURY_CLASSIFICATION   188737 non-null  int64  \n",
      " 11  PERSON_TYPE             188282 non-null  object \n",
      "dtypes: float64(5), int64(4), object(3)\n",
      "memory usage: 18.7+ MB\n"
     ]
    }
   ],
>>>>>>> Stashed changes
   "source": [
    "merge.info()"
   ]
  },
  {
   "cell_type": "code",
<<<<<<< Updated upstream
   "execution_count": null,
=======
   "execution_count": 25,
>>>>>>> Stashed changes
   "metadata": {},
   "outputs": [],
   "source": [
    "merge.loc[merge['AGE'] <= 0, 'AGE'] = None"
   ]
  },
  {
   "cell_type": "code",
<<<<<<< Updated upstream
   "execution_count": null,
=======
   "execution_count": 26,
>>>>>>> Stashed changes
   "metadata": {},
   "outputs": [],
   "source": [
    "merge.dropna(subset=['AGE'], inplace=True)"
   ]
  },
  {
   "cell_type": "code",
<<<<<<< Updated upstream
   "execution_count": null,
   "metadata": {
    "scrolled": true
   },
   "outputs": [],
=======
   "execution_count": 27,
   "metadata": {
    "scrolled": true
   },
   "outputs": [
    {
     "name": "stdout",
     "output_type": "stream",
     "text": [
      "<class 'pandas.core.frame.DataFrame'>\n",
      "Int64Index: 122305 entries, 1 to 188731\n",
      "Data columns (total 12 columns):\n",
      " #   Column                  Non-Null Count   Dtype  \n",
      "---  ------                  --------------   -----  \n",
      " 0   TRAFFIC_CONTROL_DEVICE  122305 non-null  float64\n",
      " 1   DEVICE_CONDITION        122305 non-null  float64\n",
      " 2   WEATHER_CONDITION       122305 non-null  float64\n",
      " 3   LIGHTING_CONDITION      122305 non-null  object \n",
      " 4   ROADWAY_SURFACE_COND    122305 non-null  object \n",
      " 5   CRASH_HOUR              122305 non-null  int64  \n",
      " 6   CRASH_DAY_OF_WEEK       122305 non-null  int64  \n",
      " 7   CRASH_MONTH             122305 non-null  int64  \n",
      " 8   AGE                     122305 non-null  float64\n",
      " 9   BAC_RESULT VALUE        940 non-null     float64\n",
      " 10  INJURY_CLASSIFICATION   122305 non-null  int64  \n",
      " 11  PERSON_TYPE             122305 non-null  object \n",
      "dtypes: float64(5), int64(4), object(3)\n",
      "memory usage: 12.1+ MB\n"
     ]
    }
   ],
>>>>>>> Stashed changes
   "source": [
    "merge.info()"
   ]
  },
  {
   "cell_type": "code",
<<<<<<< Updated upstream
   "execution_count": null,
=======
   "execution_count": 28,
>>>>>>> Stashed changes
   "metadata": {},
   "outputs": [],
   "source": [
    "merge = merge.loc[merge['PERSON_TYPE'] == 'DRIVER']"
   ]
  },
  {
   "cell_type": "code",
<<<<<<< Updated upstream
   "execution_count": null,
   "metadata": {
    "scrolled": true
   },
   "outputs": [],
=======
   "execution_count": 29,
   "metadata": {
    "scrolled": true
   },
   "outputs": [
    {
     "name": "stdout",
     "output_type": "stream",
     "text": [
      "<class 'pandas.core.frame.DataFrame'>\n",
      "Int64Index: 95487 entries, 3 to 188731\n",
      "Data columns (total 12 columns):\n",
      " #   Column                  Non-Null Count  Dtype  \n",
      "---  ------                  --------------  -----  \n",
      " 0   TRAFFIC_CONTROL_DEVICE  95487 non-null  float64\n",
      " 1   DEVICE_CONDITION        95487 non-null  float64\n",
      " 2   WEATHER_CONDITION       95487 non-null  float64\n",
      " 3   LIGHTING_CONDITION      95487 non-null  object \n",
      " 4   ROADWAY_SURFACE_COND    95487 non-null  object \n",
      " 5   CRASH_HOUR              95487 non-null  int64  \n",
      " 6   CRASH_DAY_OF_WEEK       95487 non-null  int64  \n",
      " 7   CRASH_MONTH             95487 non-null  int64  \n",
      " 8   AGE                     95487 non-null  float64\n",
      " 9   BAC_RESULT VALUE        938 non-null    float64\n",
      " 10  INJURY_CLASSIFICATION   95487 non-null  int64  \n",
      " 11  PERSON_TYPE             95487 non-null  object \n",
      "dtypes: float64(5), int64(4), object(3)\n",
      "memory usage: 9.5+ MB\n"
     ]
    }
   ],
>>>>>>> Stashed changes
   "source": [
    "merge.info()"
   ]
  },
  {
   "cell_type": "code",
<<<<<<< Updated upstream
   "execution_count": null,
   "metadata": {
    "scrolled": true
   },
   "outputs": [],
=======
   "execution_count": 30,
   "metadata": {
    "scrolled": true
   },
   "outputs": [
    {
     "data": {
      "text/plain": [
       "<BarContainer object of 96 artists>"
      ]
     },
     "execution_count": 30,
     "metadata": {},
     "output_type": "execute_result"
    },
    {
     "data": {
      "image/png": "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\n",
      "text/plain": [
       "<Figure size 432x288 with 1 Axes>"
      ]
     },
     "metadata": {
      "needs_background": "light"
     },
     "output_type": "display_data"
    }
   ],
>>>>>>> Stashed changes
   "source": [
    "fig, ax = plt.subplots()\n",
    "\n",
    "ax.bar(list(merge['AGE'].value_counts().index), merge['AGE'].value_counts().values)"
   ]
  },
  {
   "cell_type": "code",
<<<<<<< Updated upstream
   "execution_count": null,
=======
   "execution_count": 31,
>>>>>>> Stashed changes
   "metadata": {},
   "outputs": [],
   "source": [
    "merge.drop(columns=['PERSON_TYPE'], inplace=True)"
   ]
  },
  {
   "cell_type": "markdown",
   "metadata": {},
   "source": [
    "### changing bac_result_value"
   ]
  },
  {
   "cell_type": "code",
<<<<<<< Updated upstream
   "execution_count": null,
=======
   "execution_count": 32,
>>>>>>> Stashed changes
   "metadata": {},
   "outputs": [],
   "source": [
    "#merge.rename(columns={'BAC_RESULT VALUE':'BAC_RESULT_VALUE'})\n",
    "\n",
    "merge['BAC_RESULT VALUE'].fillna(0, inplace=True)\n",
    "\n",
    "# 1 value is drunk\n",
    "merge.loc[merge['BAC_RESULT VALUE'] >= 0.08, 'BAC_RESULT VALUE'] = 1\n",
    "\n",
    "# 0 value is non drunk\n",
    "merge.loc[merge['BAC_RESULT VALUE'] < 0.08, 'BAC_RESULT VALUE'] = 0"
   ]
  },
  {
   "cell_type": "markdown",
   "metadata": {},
   "source": [
    "### changing day of week"
   ]
  },
  {
   "cell_type": "code",
<<<<<<< Updated upstream
   "execution_count": null,
=======
   "execution_count": 33,
>>>>>>> Stashed changes
   "metadata": {},
   "outputs": [],
   "source": [
    "# binning weekends and weekday nights\n",
    "\n",
    "# 1 value is a weekend night\n",
    "merge.loc[merge['CRASH_DAY_OF_WEEK'] >= 6, 'CRASH_DAY_OF_WEEK'] = 1\n",
    "\n",
    "# 0 value is a weekday night\n",
    "merge.loc[merge['CRASH_DAY_OF_WEEK'] != 1, 'CRASH_DAY_OF_WEEK'] = 0"
   ]
  },
  {
   "cell_type": "markdown",
   "metadata": {},
   "source": [
    "### changing lane count (deprecated)\n",
    "\n",
    "dropping because too many null values that we don't want to skew data with mean/median, and don't want to assume a distribution for synthetic data"
   ]
  },
  {
   "cell_type": "code",
<<<<<<< Updated upstream
   "execution_count": null,
=======
   "execution_count": 34,
>>>>>>> Stashed changes
   "metadata": {},
   "outputs": [],
   "source": [
    "# index = merge[merge['LANE_CNT'] > 12].index\n",
    "\n",
    "# merge.drop(index, inplace=True)"
   ]
  },
  {
   "cell_type": "code",
<<<<<<< Updated upstream
   "execution_count": null,
=======
   "execution_count": 35,
>>>>>>> Stashed changes
   "metadata": {},
   "outputs": [],
   "source": [
    "# merge['LANE_CNT'].value_counts()"
   ]
  },
  {
   "cell_type": "code",
<<<<<<< Updated upstream
   "execution_count": null,
=======
   "execution_count": 36,
>>>>>>> Stashed changes
   "metadata": {},
   "outputs": [],
   "source": [
    "# merge['LANE_CNT'].value_counts().sum()"
   ]
  },
  {
   "cell_type": "code",
<<<<<<< Updated upstream
   "execution_count": null,
=======
   "execution_count": 37,
>>>>>>> Stashed changes
   "metadata": {},
   "outputs": [],
   "source": [
    "# fig, ax = plt.subplots()\n",
    "\n",
    "# ax.bar(list(merge['LANE_CNT'].value_counts().index), merge['LANE_CNT'].value_counts().values)"
   ]
  },
  {
   "cell_type": "code",
<<<<<<< Updated upstream
   "execution_count": null,
=======
   "execution_count": 38,
>>>>>>> Stashed changes
   "metadata": {},
   "outputs": [],
   "source": [
    "# merge['LANE_CNT'].fillna(merge['LANE_CNT'].median(), inplace=True)"
   ]
  },
  {
   "cell_type": "code",
<<<<<<< Updated upstream
   "execution_count": null,
=======
   "execution_count": 39,
>>>>>>> Stashed changes
   "metadata": {},
   "outputs": [],
   "source": [
    "# fig, ax = plt.subplots()\n",
    "\n",
    "# ax.bar(list(merge['LANE_CNT'].value_counts().index), merge['LANE_CNT'].value_counts().values)"
   ]
  },
  {
   "cell_type": "markdown",
   "metadata": {},
   "source": [
    "## compile final df"
   ]
  },
  {
   "cell_type": "code",
<<<<<<< Updated upstream
   "execution_count": null,
   "metadata": {
    "scrolled": true
   },
   "outputs": [],
=======
   "execution_count": 40,
   "metadata": {
    "scrolled": true
   },
   "outputs": [
    {
     "name": "stdout",
     "output_type": "stream",
     "text": [
      "<class 'pandas.core.frame.DataFrame'>\n",
      "Int64Index: 95487 entries, 3 to 188731\n",
      "Data columns (total 11 columns):\n",
      " #   Column                  Non-Null Count  Dtype  \n",
      "---  ------                  --------------  -----  \n",
      " 0   TRAFFIC_CONTROL_DEVICE  95487 non-null  float64\n",
      " 1   DEVICE_CONDITION        95487 non-null  float64\n",
      " 2   WEATHER_CONDITION       95487 non-null  float64\n",
      " 3   LIGHTING_CONDITION      95487 non-null  object \n",
      " 4   ROADWAY_SURFACE_COND    95487 non-null  object \n",
      " 5   CRASH_HOUR              95487 non-null  int64  \n",
      " 6   CRASH_DAY_OF_WEEK       95487 non-null  int64  \n",
      " 7   CRASH_MONTH             95487 non-null  int64  \n",
      " 8   AGE                     95487 non-null  float64\n",
      " 9   BAC_RESULT VALUE        95487 non-null  float64\n",
      " 10  INJURY_CLASSIFICATION   95487 non-null  int64  \n",
      "dtypes: float64(5), int64(4), object(2)\n",
      "memory usage: 8.7+ MB\n"
     ]
    }
   ],
>>>>>>> Stashed changes
   "source": [
    "final_df = merge.copy()\n",
    "final_df.info()"
   ]
  },
  {
   "cell_type": "code",
<<<<<<< Updated upstream
   "execution_count": null,
=======
   "execution_count": 41,
>>>>>>> Stashed changes
   "metadata": {},
   "outputs": [],
   "source": [
    "# final_df.to_csv('final_df.csv')"
   ]
  },
  {
   "cell_type": "markdown",
   "metadata": {},
   "source": [
    "#### Exporting the `final_df` into csv file"
   ]
  },
  {
   "cell_type": "code",
<<<<<<< Updated upstream
   "execution_count": null,
=======
   "execution_count": 42,
>>>>>>> Stashed changes
   "metadata": {},
   "outputs": [],
   "source": [
    "#clean_data = final_df.to_csv('clean_data.csv', index = False)"
   ]
  },
  {
   "cell_type": "markdown",
   "metadata": {},
   "source": [
    "## first model"
   ]
  },
  {
   "cell_type": "markdown",
   "metadata": {},
   "source": [
    "### smote oversampling"
   ]
  },
  {
   "cell_type": "code",
<<<<<<< Updated upstream
   "execution_count": null,
=======
   "execution_count": 43,
>>>>>>> Stashed changes
   "metadata": {},
   "outputs": [],
   "source": [
    "X = final_df.drop(columns=['INJURY_CLASSIFICATION'])\n",
    "y = final_df['INJURY_CLASSIFICATION']\n",
    "\n",
    "X_train, X_test, y_train, y_test = train_test_split(X,\n",
    "                                                    y,\n",
    "                                                    test_size=0.2,\n",
    "                                                    stratify=y,\n",
    "                                                    random_state=11)"
   ]
  },
  {
   "cell_type": "code",
<<<<<<< Updated upstream
   "execution_count": null,
=======
   "execution_count": 44,
>>>>>>> Stashed changes
   "metadata": {},
   "outputs": [],
   "source": [
    "# Create a column transformer\n",
    "col_transformer = ColumnTransformer(transformers=[\n",
    "    ('ohe', OneHotEncoder(categories='auto', handle_unknown='ignore'), ['LIGHTING_CONDITION', 'ROADWAY_SURFACE_COND'])\n",
    "], remainder='passthrough')\n",
    "\n",
    "over = SMOTE(sampling_strategy='minority')\n",
    "#under = RandomUnderSampler(sampling_strategy=0.5)\n",
    "\n",
    "# Create a pipeline containing the column transformer and model\n",
    "pipeline = imb_Pipeline(steps=[\n",
    "    ('col_transformer', col_transformer),\n",
    "    ('o', over),\n",
    "    ('classifier', DecisionTreeClassifier(random_state=11))\n",
    "])"
   ]
  },
  {
   "cell_type": "code",
<<<<<<< Updated upstream
   "execution_count": null,
=======
   "execution_count": 45,
>>>>>>> Stashed changes
   "metadata": {},
   "outputs": [],
   "source": [
    "param_grid = [{'classifier__max_depth':[1, 3, 5]}]\n",
    "\n",
    "grid_search = GridSearchCV(estimator=pipeline,\n",
    "                           param_grid=param_grid,\n",
    "                           scoring='accuracy',\n",
    "                           cv=5\n",
    "                           )\n",
    "\n",
    "grid_search.fit(X_train, y_train)\n",
    "\n",
    "y_pred = grid_search.predict(X_test)\n",
    "cv_score_smoted = grid_search.best_score_\n",
    "test_score_smoted = grid_search.score(X_test, y_test)"
   ]
  },
  {
   "cell_type": "code",
<<<<<<< Updated upstream
   "execution_count": null,
   "metadata": {},
   "outputs": [],
=======
   "execution_count": 46,
   "metadata": {},
   "outputs": [
    {
     "data": {
      "text/plain": [
       "(0.6786838532998727, 0.7085035082207561)"
      ]
     },
     "execution_count": 46,
     "metadata": {},
     "output_type": "execute_result"
    }
   ],
>>>>>>> Stashed changes
   "source": [
    "cv_score_smoted, test_score_smoted"
   ]
  },
  {
   "cell_type": "code",
<<<<<<< Updated upstream
   "execution_count": null,
   "metadata": {},
   "outputs": [],
=======
   "execution_count": 47,
   "metadata": {},
   "outputs": [
    {
     "data": {
      "text/plain": [
       "array([[12847,  1606],\n",
       "       [ 3961,   684]], dtype=int64)"
      ]
     },
     "execution_count": 47,
     "metadata": {},
     "output_type": "execute_result"
    }
   ],
>>>>>>> Stashed changes
   "source": [
    "confusion_matrix(y_pred, y_test)"
   ]
  },
  {
   "cell_type": "markdown",
   "metadata": {},
   "source": [
    "### smote over and undersampling"
   ]
  },
  {
   "cell_type": "code",
<<<<<<< Updated upstream
   "execution_count": null,
=======
   "execution_count": 48,
>>>>>>> Stashed changes
   "metadata": {},
   "outputs": [],
   "source": [
    "X = final_df.drop(columns=['INJURY_CLASSIFICATION'])\n",
    "y = final_df['INJURY_CLASSIFICATION']\n",
    "\n",
    "X_train, X_test, y_train, y_test = train_test_split(X,\n",
    "                                                    y,\n",
    "                                                    test_size=0.2,\n",
    "                                                    stratify=y,\n",
    "                                                    random_state=11)"
   ]
  },
  {
   "cell_type": "code",
<<<<<<< Updated upstream
   "execution_count": null,
=======
   "execution_count": 49,
>>>>>>> Stashed changes
   "metadata": {},
   "outputs": [],
   "source": [
    "# Create a column transformer\n",
    "col_transformer = ColumnTransformer(transformers=[\n",
    "    ('ohe', OneHotEncoder(categories='auto', handle_unknown='ignore'), ['LIGHTING_CONDITION', 'ROADWAY_SURFACE_COND'])\n",
    "], remainder='passthrough')\n",
    "\n",
    "over = SMOTE(sampling_strategy='minority')\n",
    "under = RandomUnderSampler(sampling_strategy='not minority')\n",
    "\n",
    "# Create a pipeline containing the column transformer and model\n",
    "pipeline = imb_Pipeline(steps=[\n",
    "    ('col_transformer', col_transformer),\n",
    "    ('o', over),\n",
    "    ('u', under),\n",
    "    ('classifier', DecisionTreeClassifier(random_state=11))\n",
    "])"
   ]
  },
  {
   "cell_type": "code",
<<<<<<< Updated upstream
   "execution_count": null,
=======
   "execution_count": 50,
>>>>>>> Stashed changes
   "metadata": {},
   "outputs": [],
   "source": [
    "param_grid = [{'classifier__max_depth':[1, 3, 5]}]\n",
    "\n",
    "grid_search = GridSearchCV(estimator=pipeline,\n",
    "                           param_grid=param_grid,\n",
    "                           scoring='accuracy',\n",
    "                           cv=5\n",
    "                           )\n",
    "\n",
    "grid_search.fit(X_train, y_train)\n",
    "\n",
    "y_pred = grid_search.predict(X_test)\n",
    "print(grid_search.best_params_)\n",
    "cv_score_smoted = grid_search.best_score_\n",
    "test_score_smoted = grid_search.score(X_test, y_test)"
   ]
  },
  {
   "cell_type": "code",
<<<<<<< Updated upstream
   "execution_count": null,
   "metadata": {
    "scrolled": true
   },
   "outputs": [],
=======
   "execution_count": 51,
   "metadata": {
    "scrolled": true
   },
   "outputs": [
    {
     "data": {
      "text/plain": [
       "[Text(1264.21875, 1993.2, 'ohe__x0_DARKNESS, LIGHTED ROAD <= 0.0\\ngini = 0.5\\nsamples = 134458\\nvalue = [67229, 67229]'),\n",
       " Text(749.8125, 1630.8000000000002, 'DEVICE_CONDITION <= 0.0\\ngini = 0.451\\nsamples = 32968\\nvalue = [21642, 11326]'),\n",
       " Text(453.375, 1268.4, 'ohe__x0_DAWN <= 0.005\\ngini = 0.381\\nsamples = 17189\\nvalue = [12780, 4409]'),\n",
       " Text(279.0, 906.0, 'ohe__x1_DRY <= 0.001\\ngini = 0.347\\nsamples = 14297\\nvalue = [11101, 3196]'),\n",
       " Text(139.5, 543.5999999999999, 'ohe__x1_WET <= 0.009\\ngini = 0.227\\nsamples = 3944\\nvalue = [3430, 514]'),\n",
       " Text(69.75, 181.19999999999982, 'gini = 0.142\\nsamples = 1969\\nvalue = [1818, 151]'),\n",
       " Text(209.25, 181.19999999999982, 'gini = 0.3\\nsamples = 1975\\nvalue = [1612, 363]'),\n",
       " Text(418.5, 543.5999999999999, 'ohe__x1_DRY <= 0.998\\ngini = 0.384\\nsamples = 10353\\nvalue = [7671, 2682]'),\n",
       " Text(348.75, 181.19999999999982, 'gini = 0.0\\nsamples = 313\\nvalue = [0, 313]'),\n",
       " Text(488.25, 181.19999999999982, 'gini = 0.361\\nsamples = 10040\\nvalue = [7671, 2369]'),\n",
       " Text(627.75, 906.0, 'ohe__x0_DAWN <= 0.999\\ngini = 0.487\\nsamples = 2892\\nvalue = [1679, 1213]'),\n",
       " Text(558.0, 543.5999999999999, 'gini = 0.0\\nsamples = 478\\nvalue = [0, 478]'),\n",
       " Text(697.5, 543.5999999999999, 'CRASH_DAY_OF_WEEK <= 0.001\\ngini = 0.424\\nsamples = 2414\\nvalue = [1679, 735]'),\n",
       " Text(627.75, 181.19999999999982, 'gini = 0.295\\nsamples = 1188\\nvalue = [974, 214]'),\n",
       " Text(767.25, 181.19999999999982, 'gini = 0.489\\nsamples = 1226\\nvalue = [705, 521]'),\n",
       " Text(1046.25, 1268.4, 'DEVICE_CONDITION <= 0.999\\ngini = 0.492\\nsamples = 15779\\nvalue = [8862, 6917]'),\n",
       " Text(976.5, 906.0, 'gini = 0.0\\nsamples = 1730\\nvalue = [0, 1730]'),\n",
       " Text(1116.0, 906.0, 'ohe__x1_DRY <= 0.001\\ngini = 0.466\\nsamples = 14049\\nvalue = [8862, 5187]'),\n",
       " Text(976.5, 543.5999999999999, 'ohe__x0_DAWN <= 0.001\\ngini = 0.289\\nsamples = 2769\\nvalue = [2284, 485]'),\n",
       " Text(906.75, 181.19999999999982, 'gini = 0.244\\nsamples = 2056\\nvalue = [1763, 293]'),\n",
       " Text(1046.25, 181.19999999999982, 'gini = 0.394\\nsamples = 713\\nvalue = [521, 192]'),\n",
       " Text(1255.5, 543.5999999999999, 'ohe__x1_DRY <= 0.999\\ngini = 0.486\\nsamples = 11280\\nvalue = [6578, 4702]'),\n",
       " Text(1185.75, 181.19999999999982, 'gini = 0.0\\nsamples = 507\\nvalue = [0, 507]'),\n",
       " Text(1325.25, 181.19999999999982, 'gini = 0.476\\nsamples = 10773\\nvalue = [6578, 4195]'),\n",
       " Text(1778.625, 1630.8000000000002, 'ohe__x0_DARKNESS, LIGHTED ROAD <= 1.0\\ngini = 0.495\\nsamples = 101490\\nvalue = [45587, 55903]'),\n",
       " Text(1708.875, 1268.4, 'gini = 0.0\\nsamples = 5919\\nvalue = [0, 5919]'),\n",
       " Text(1848.375, 1268.4, 'ohe__x1_DRY <= 0.0\\ngini = 0.499\\nsamples = 95571\\nvalue = [45587, 49984]'),\n",
       " Text(1674.0, 906.0, 'ohe__x1_WET <= 0.002\\ngini = 0.475\\nsamples = 20932\\nvalue = [12785, 8147]'),\n",
       " Text(1534.5, 543.5999999999999, 'CRASH_MONTH <= 2.0\\ngini = 0.34\\nsamples = 5265\\nvalue = [4121, 1144]'),\n",
       " Text(1464.75, 181.19999999999982, 'gini = 0.418\\nsamples = 1397\\nvalue = [982, 415]'),\n",
       " Text(1604.25, 181.19999999999982, 'gini = 0.306\\nsamples = 3868\\nvalue = [3139, 729]'),\n",
       " Text(1813.5, 543.5999999999999, 'ohe__x1_WET <= 1.0\\ngini = 0.494\\nsamples = 15667\\nvalue = [8664, 7003]'),\n",
       " Text(1743.75, 181.19999999999982, 'gini = 0.0\\nsamples = 912\\nvalue = [0, 912]'),\n",
       " Text(1883.25, 181.19999999999982, 'gini = 0.485\\nsamples = 14755\\nvalue = [8664, 6091]'),\n",
       " Text(2022.75, 906.0, 'ohe__x1_DRY <= 1.0\\ngini = 0.493\\nsamples = 74639\\nvalue = [32802, 41837]'),\n",
       " Text(1953.0, 543.5999999999999, 'gini = 0.0\\nsamples = 4219\\nvalue = [0, 4219]'),\n",
       " Text(2092.5, 543.5999999999999, 'CRASH_DAY_OF_WEEK <= 0.0\\ngini = 0.498\\nsamples = 70420\\nvalue = [32802, 37618]'),\n",
       " Text(2022.75, 181.19999999999982, 'gini = 0.497\\nsamples = 23892\\nvalue = [12792, 11100]'),\n",
       " Text(2162.25, 181.19999999999982, 'gini = 0.49\\nsamples = 46528\\nvalue = [20010, 26518]')]"
      ]
     },
     "execution_count": 51,
     "metadata": {},
     "output_type": "execute_result"
    },
    {
     "data": {
      "image/png": "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\n",
      "text/plain": [
       "<Figure size 2880x2880 with 1 Axes>"
      ]
     },
     "metadata": {
      "needs_background": "light"
     },
     "output_type": "display_data"
    }
   ],
>>>>>>> Stashed changes
   "source": [
    "pipeline = imb_Pipeline(steps=[\n",
    "    ('col_transformer', col_transformer),\n",
    "    ('o', over),\n",
    "    ('u', under),\n",
    "    ('classifier', DecisionTreeClassifier(random_state=11, max_depth=5))\n",
    "])\n",
    "\n",
    "fig, ax = plt.subplots(figsize=(40, 40))\n",
    "\n",
    "pipeline.fit(X_train, y_train)\n",
    "feature_list = pipeline['col_transformer'].get_feature_names()\n",
    "plot_tree(pipeline['classifier'], ax=ax, feature_names=feature_list)"
   ]
  },
  {
   "cell_type": "code",
<<<<<<< Updated upstream
   "execution_count": null,
   "metadata": {
    "scrolled": true
   },
   "outputs": [],
=======
   "execution_count": 52,
   "metadata": {
    "scrolled": true
   },
   "outputs": [
    {
     "data": {
      "text/plain": [
       "(0.6740235574496305, 0.7085035082207561)"
      ]
     },
     "execution_count": 52,
     "metadata": {},
     "output_type": "execute_result"
    }
   ],
>>>>>>> Stashed changes
   "source": [
    "cv_score_smoted, test_score_smoted"
   ]
  },
  {
   "cell_type": "code",
<<<<<<< Updated upstream
   "execution_count": null,
   "metadata": {
    "scrolled": true
   },
   "outputs": [],
=======
   "execution_count": 53,
   "metadata": {
    "scrolled": true
   },
   "outputs": [
    {
     "data": {
      "text/plain": [
       "array([[12847,  1606],\n",
       "       [ 3961,   684]], dtype=int64)"
      ]
     },
     "execution_count": 53,
     "metadata": {},
     "output_type": "execute_result"
    }
   ],
>>>>>>> Stashed changes
   "source": [
    "confusion_matrix(y_pred, y_test)"
   ]
  },
  {
   "cell_type": "code",
<<<<<<< Updated upstream
   "execution_count": null,
   "metadata": {},
   "outputs": [],
=======
   "execution_count": 54,
   "metadata": {},
   "outputs": [
    {
     "data": {
      "text/plain": [
       "0.5180681570797352"
      ]
     },
     "execution_count": 54,
     "metadata": {},
     "output_type": "execute_result"
    }
   ],
>>>>>>> Stashed changes
   "source": [
    "roc_auc_score(y_pred, y_test)"
   ]
  },
  {
   "cell_type": "markdown",
   "metadata": {},
   "source": [
    "### no smote"
   ]
  },
  {
   "cell_type": "code",
<<<<<<< Updated upstream
   "execution_count": null,
=======
   "execution_count": 55,
>>>>>>> Stashed changes
   "metadata": {},
   "outputs": [],
   "source": [
    "X = final_df.drop(columns=['INJURY_CLASSIFICATION'])\n",
    "y = final_df['INJURY_CLASSIFICATION']\n",
    "\n",
    "X_train, X_test, y_train, y_test = train_test_split(X,\n",
    "                                                    y,\n",
    "                                                    test_size=0.2,\n",
    "                                                    stratify=y,\n",
    "                                                    random_state=11)"
   ]
  },
  {
   "cell_type": "code",
<<<<<<< Updated upstream
   "execution_count": null,
=======
   "execution_count": 56,
>>>>>>> Stashed changes
   "metadata": {
    "scrolled": true
   },
   "outputs": [],
   "source": [
    "from sklearn.compose import ColumnTransformer\n",
    "from imblearn.pipeline import Pipeline as imb_Pipeline\n",
    "\n",
    "# Create a column transformer\n",
    "col_transformer = ColumnTransformer(transformers=[\n",
    "    ('ohe', OneHotEncoder(categories='auto', handle_unknown='ignore'), ['LIGHTING_CONDITION', 'ROADWAY_SURFACE_COND'])\n",
    "], remainder='passthrough')\n",
    "\n",
    "# Create a pipeline containing the column transformer and model\n",
    "pipeline = Pipeline(steps=[\n",
    "    ('col_transformer', col_transformer),\n",
    "    ('classifier', DecisionTreeClassifier(random_state=11))\n",
    "])"
   ]
  },
  {
   "cell_type": "code",
<<<<<<< Updated upstream
   "execution_count": null,
=======
   "execution_count": 57,
>>>>>>> Stashed changes
   "metadata": {},
   "outputs": [],
   "source": [
    "param_grid = [{'classifier__max_depth':[1, 3, 5]}]\n",
    "\n",
    "grid_search = GridSearchCV(estimator=pipeline,\n",
    "                           param_grid=param_grid,\n",
    "                           scoring='accuracy',\n",
    "                           cv=5\n",
    "                           )\n",
    "\n",
    "grid_search.fit(X_train, y_train)\n",
    "\n",
    "y_pred = grid_search.predict(X_test)\n",
    "cv_score_no_smote = grid_search.best_score_\n",
    "test_score_no_smoted = grid_search.score(X_test, y_test)"
   ]
  },
  {
   "cell_type": "code",
<<<<<<< Updated upstream
   "execution_count": null,
   "metadata": {},
   "outputs": [],
=======
   "execution_count": 58,
   "metadata": {},
   "outputs": [
    {
     "data": {
      "text/plain": [
       "array([[16808,  2290],\n",
       "       [    0,     0]], dtype=int64)"
      ]
     },
     "execution_count": 58,
     "metadata": {},
     "output_type": "execute_result"
    }
   ],
>>>>>>> Stashed changes
   "source": [
    "confusion_matrix(y_pred, y_test)"
   ]
  },
  {
   "cell_type": "code",
<<<<<<< Updated upstream
   "execution_count": null,
   "metadata": {},
   "outputs": [],
=======
   "execution_count": 59,
   "metadata": {},
   "outputs": [
    {
     "data": {
      "text/plain": [
       "(0.88008744706333, 0.8800921562467274)"
      ]
     },
     "execution_count": 59,
     "metadata": {},
     "output_type": "execute_result"
    }
   ],
>>>>>>> Stashed changes
   "source": [
    "cv_score_no_smote, test_score_no_smoted"
   ]
  },
  {
   "cell_type": "markdown",
   "metadata": {},
   "source": [
    "### smote logistic regression (just traffic control device)"
   ]
  },
  {
   "cell_type": "code",
<<<<<<< Updated upstream
   "execution_count": null,
=======
   "execution_count": 60,
>>>>>>> Stashed changes
   "metadata": {},
   "outputs": [],
   "source": [
    "X = final_df[['TRAFFIC_CONTROL_DEVICE']]\n",
    "y = final_df['INJURY_CLASSIFICATION']\n",
    "\n",
    "X_train, X_test, y_train, y_test = train_test_split(X,\n",
    "                                                    y,\n",
    "                                                    test_size=0.2,\n",
    "                                                    stratify=y,\n",
    "                                                    random_state=11)"
   ]
  },
  {
   "cell_type": "code",
<<<<<<< Updated upstream
   "execution_count": null,
=======
   "execution_count": 61,
>>>>>>> Stashed changes
   "metadata": {},
   "outputs": [],
   "source": [
    "# Create a column transformer\n",
    "col_transformer = ColumnTransformer(transformers=[\n",
    "    ('ohe', OneHotEncoder(categories='auto', handle_unknown='ignore'), ['LIGHTING_CONDITION', 'ROADWAY_SURFACE_COND'])\n",
    "], remainder='passthrough')\n",
    "\n",
    "over = SMOTE(sampling_strategy='minority')\n",
    "under = RandomUnderSampler(sampling_strategy='not minority')\n",
    "\n",
    "# Create a pipeline containing the column transformer and model\n",
    "pipeline = imb_Pipeline(steps=[\n",
    "#    ('col_transformer', col_transformer),\n",
    "    ('o', over),\n",
    "    ('u', under),\n",
    "    ('scaler', StandardScaler()),\n",
    "    ('logistic_regressor', LogisticRegression(random_state=42))\n",
    "])"
   ]
  },
  {
   "cell_type": "code",
<<<<<<< Updated upstream
   "execution_count": null,
=======
   "execution_count": 62,
>>>>>>> Stashed changes
   "metadata": {},
   "outputs": [],
   "source": [
    "param_grid = [{'logistic_regressor__max_iter': [50, 100, 250, 500],\n",
    "              # 'logistic_regressor__C': [1e-10, 1e-100],\n",
    "               'logistic_regressor__penalty': ['none', 'l2']\n",
    "              }]\n",
    "\n",
    "grid_search = GridSearchCV(estimator=pipeline,\n",
    "                           param_grid=param_grid,\n",
    "                           scoring='accuracy',\n",
    "                           cv=5\n",
    "                           )\n",
    "\n",
    "grid_search.fit(X_train, y_train)\n",
    "\n",
    "y_pred = grid_search.predict(X_test)\n",
    "cv_score_smoted_log = grid_search.best_score_\n",
    "test_score_smoted_log = grid_search.score(X_test, y_test)"
   ]
  },
  {
   "cell_type": "code",
<<<<<<< Updated upstream
   "execution_count": null,
   "metadata": {
    "scrolled": true
   },
   "outputs": [],
=======
   "execution_count": 63,
   "metadata": {
    "scrolled": true
   },
   "outputs": [
    {
     "data": {
      "text/plain": [
       "(0.46517162581713195, 0.47093936537857367)"
      ]
     },
     "execution_count": 63,
     "metadata": {},
     "output_type": "execute_result"
    }
   ],
>>>>>>> Stashed changes
   "source": [
    "cv_score_smoted_log, test_score_smoted_log"
   ]
  },
  {
   "cell_type": "code",
<<<<<<< Updated upstream
   "execution_count": null,
   "metadata": {
    "scrolled": true
   },
   "outputs": [],
=======
   "execution_count": 64,
   "metadata": {
    "scrolled": true
   },
   "outputs": [
    {
     "data": {
      "text/plain": [
       "array([[7647,  943],\n",
       "       [9161, 1347]], dtype=int64)"
      ]
     },
     "execution_count": 64,
     "metadata": {},
     "output_type": "execute_result"
    }
   ],
>>>>>>> Stashed changes
   "source": [
    "confusion_matrix(y_pred, y_test)"
   ]
  },
  {
   "cell_type": "code",
<<<<<<< Updated upstream
   "execution_count": null,
   "metadata": {},
   "outputs": [],
=======
   "execution_count": 65,
   "metadata": {},
   "outputs": [
    {
     "data": {
      "text/plain": [
       "0.5092046173146864"
      ]
     },
     "execution_count": 65,
     "metadata": {},
     "output_type": "execute_result"
    }
   ],
>>>>>>> Stashed changes
   "source": [
    "roc_auc_score(y_pred, y_test)"
   ]
  },
  {
   "cell_type": "markdown",
   "metadata": {},
   "source": [
    "### smote knn"
   ]
  },
  {
   "cell_type": "code",
<<<<<<< Updated upstream
   "execution_count": null,
=======
   "execution_count": 66,
>>>>>>> Stashed changes
   "metadata": {},
   "outputs": [],
   "source": [
    "X = final_df.drop(columns=['INJURY_CLASSIFICATION'])\n",
    "y = final_df['INJURY_CLASSIFICATION']\n",
    "\n",
    "X_train, X_test, y_train, y_test = train_test_split(X,\n",
    "                                                    y,\n",
    "                                                    test_size=0.2,\n",
    "                                                    stratify=y,\n",
    "                                                    random_state=11)"
   ]
  },
  {
   "cell_type": "code",
<<<<<<< Updated upstream
   "execution_count": null,
=======
   "execution_count": 67,
>>>>>>> Stashed changes
   "metadata": {},
   "outputs": [],
   "source": [
    "X_t, X_val, y_t, y_val = train_test_split(X_train, y_train,\n",
    "                                          random_state=42,\n",
    "                                          test_size=0.2)"
   ]
  },
  {
   "cell_type": "code",
<<<<<<< Updated upstream
   "execution_count": null,
=======
   "execution_count": 68,
>>>>>>> Stashed changes
   "metadata": {},
   "outputs": [],
   "source": [
    "# Create a column transformer\n",
    "col_transformer = ColumnTransformer(transformers=[\n",
    "    ('ohe', OneHotEncoder(categories='auto', handle_unknown='ignore'), ['LIGHTING_CONDITION', 'ROADWAY_SURFACE_COND'])\n",
    "], remainder='passthrough')\n",
    "\n",
    "over = SMOTE(sampling_strategy='minority')\n",
    "under = RandomUnderSampler(sampling_strategy='not minority')\n",
    "\n",
    "# Create a pipeline containing the column transformer and model\n",
    "pipeline = imb_Pipeline(steps=[\n",
    "    ('col_transformer', col_transformer),\n",
    "    ('o', over),\n",
    "    ('u', under),\n",
    "    ('knn_classifier', KNeighborsClassifier())\n",
    "])"
   ]
  },
  {
   "cell_type": "code",
<<<<<<< Updated upstream
   "execution_count": null,
   "metadata": {},
   "outputs": [],
=======
   "execution_count": 69,
   "metadata": {},
   "outputs": [
    {
     "name": "stdout",
     "output_type": "stream",
     "text": [
      "{'knn_classifier__metric': 'minkowski', 'knn_classifier__n_neighbors': 3}\n"
     ]
    }
   ],
>>>>>>> Stashed changes
   "source": [
    "param_grid = [{'knn_classifier__n_neighbors': [3,5,9],\n",
    "               'knn_classifier__metric': ['minkowski']}]\n",
    "\n",
    "grid_search = GridSearchCV(estimator=pipeline,\n",
    "                           param_grid=param_grid,\n",
    "                           scoring='accuracy',\n",
    "                           cv=5\n",
    "                           )\n",
    "\n",
    "grid_search.fit(X_t, y_t)\n",
    "\n",
    "y_hat = grid_search.predict(X_val)\n",
    "print(grid_search.best_params_)\n",
    "cv_score_smoted_knn = grid_search.best_score_\n",
    "test_score_smoted_knn = grid_search.score(X_test, y_test)"
   ]
  },
  {
   "cell_type": "code",
<<<<<<< Updated upstream
   "execution_count": null,
   "metadata": {
    "scrolled": true
   },
   "outputs": [],
=======
   "execution_count": 70,
   "metadata": {
    "scrolled": true
   },
   "outputs": [
    {
     "data": {
      "text/plain": [
       "(0.6958813385459619, 0.7149963346947324)"
      ]
     },
     "execution_count": 70,
     "metadata": {},
     "output_type": "execute_result"
    }
   ],
>>>>>>> Stashed changes
   "source": [
    "cv_score_smoted_knn, test_score_smoted_knn"
   ]
  },
  {
   "cell_type": "code",
<<<<<<< Updated upstream
   "execution_count": null,
   "metadata": {
    "scrolled": true
   },
   "outputs": [],
=======
   "execution_count": 71,
   "metadata": {
    "scrolled": true
   },
   "outputs": [
    {
     "data": {
      "text/plain": [
       "array([[10426,  3007],\n",
       "       [ 1359,   486]], dtype=int64)"
      ]
     },
     "execution_count": 71,
     "metadata": {},
     "output_type": "execute_result"
    }
   ],
>>>>>>> Stashed changes
   "source": [
    "confusion_matrix(y_val, y_hat)"
   ]
  },
  {
   "cell_type": "code",
<<<<<<< Updated upstream
   "execution_count": null,
   "metadata": {},
   "outputs": [],
=======
   "execution_count": 72,
   "metadata": {},
   "outputs": [
    {
     "data": {
      "text/plain": [
       "0.7142296112056552"
      ]
     },
     "execution_count": 72,
     "metadata": {},
     "output_type": "execute_result"
    }
   ],
>>>>>>> Stashed changes
   "source": [
    "accuracy_score(y_val, y_hat)"
   ]
  },
  {
   "cell_type": "code",
<<<<<<< Updated upstream
   "execution_count": null,
   "metadata": {
    "scrolled": true
   },
   "outputs": [],
=======
   "execution_count": 73,
   "metadata": {
    "scrolled": true
   },
   "outputs": [
    {
     "data": {
      "text/plain": [
       "0.13913541368451188"
      ]
     },
     "execution_count": 73,
     "metadata": {},
     "output_type": "execute_result"
    }
   ],
>>>>>>> Stashed changes
   "source": [
    "precision_score(y_val, y_hat)"
   ]
  },
  {
   "cell_type": "code",
<<<<<<< Updated upstream
   "execution_count": null,
   "metadata": {
    "scrolled": true
   },
   "outputs": [],
=======
   "execution_count": 74,
   "metadata": {
    "scrolled": true
   },
   "outputs": [
    {
     "data": {
      "text/plain": [
       "0.18209067066316972"
      ]
     },
     "execution_count": 74,
     "metadata": {},
     "output_type": "execute_result"
    }
   ],
>>>>>>> Stashed changes
   "source": [
    "f1_score(y_val, y_hat)"
   ]
  },
  {
   "cell_type": "code",
<<<<<<< Updated upstream
   "execution_count": null,
=======
   "execution_count": 75,
>>>>>>> Stashed changes
   "metadata": {},
   "outputs": [
    {
     "data": {
      "text/plain": [
       "0.5197814628336114"
      ]
     },
     "execution_count": 75,
     "metadata": {},
     "output_type": "execute_result"
    }
   ],
   "source": [
    "roc_auc_score(y_val, y_hat)"
   ]
  },
  {
   "cell_type": "code",
<<<<<<< Updated upstream
   "execution_count": null,
   "metadata": {},
   "outputs": [],
=======
   "execution_count": 76,
   "metadata": {},
   "outputs": [
    {
     "data": {
      "text/plain": [
       "<sklearn.metrics._plot.roc_curve.RocCurveDisplay at 0x227027fd0a0>"
      ]
     },
     "execution_count": 76,
     "metadata": {},
     "output_type": "execute_result"
    },
    {
     "data": {
      "image/png": "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\n",
      "text/plain": [
       "<Figure size 432x288 with 1 Axes>"
      ]
     },
     "metadata": {
      "needs_background": "light"
     },
     "output_type": "display_data"
    }
   ],
>>>>>>> Stashed changes
   "source": [
    "plot_roc_curve(grid_search, X_test, y_test)"
   ]
  },
  {
   "cell_type": "markdown",
   "metadata": {},
   "source": [
    "### smote logistic regression (all features)"
   ]
  },
  {
   "cell_type": "code",
<<<<<<< Updated upstream
   "execution_count": null,
=======
   "execution_count": 77,
>>>>>>> Stashed changes
   "metadata": {},
   "outputs": [],
   "source": [
    "X = final_df.drop(columns=['INJURY_CLASSIFICATION'])\n",
    "y = final_df['INJURY_CLASSIFICATION']\n",
    "\n",
    "X_train, X_test, y_train, y_test = train_test_split(X,\n",
    "                                                    y,\n",
    "                                                    test_size=0.2,\n",
    "                                                    stratify=y,\n",
    "                                                    random_state=11)"
   ]
  },
  {
   "cell_type": "code",
<<<<<<< Updated upstream
   "execution_count": null,
=======
   "execution_count": 78,
>>>>>>> Stashed changes
   "metadata": {},
   "outputs": [],
   "source": [
    "# Create a column transformer\n",
    "col_transformer = ColumnTransformer(transformers=[\n",
    "    ('ohe', OneHotEncoder(categories='auto', handle_unknown='ignore'), ['LIGHTING_CONDITION', 'ROADWAY_SURFACE_COND'])\n",
    "], remainder='passthrough')\n",
    "\n",
    "over = SMOTE(sampling_strategy='minority')\n",
    "under = RandomUnderSampler(sampling_strategy='not minority')\n",
    "\n",
    "# Create a pipeline containing the column transformer and model\n",
    "pipeline = imb_Pipeline(steps=[\n",
    "    ('col_transformer', col_transformer),\n",
    "    ('o', over),\n",
    "    ('u', under),\n",
    "    ('scaler', StandardScaler()),\n",
    "    ('logistic_regressor', LogisticRegression(random_state=42))\n",
    "])"
   ]
  },
  {
   "cell_type": "code",
<<<<<<< Updated upstream
   "execution_count": null,
=======
   "execution_count": 79,
>>>>>>> Stashed changes
   "metadata": {},
   "outputs": [],
   "source": [
    "param_grid = [{'logistic_regressor__max_iter': [50, 100, 250, 500],\n",
    "              # 'logistic_regressor__C': [1e-10, 1e-100],\n",
    "               'logistic_regressor__penalty': ['none', 'l2']\n",
    "              }]\n",
    "\n",
    "grid_search = GridSearchCV(estimator=pipeline,\n",
    "                           param_grid=param_grid,\n",
    "                           scoring='accuracy',\n",
    "                           cv=5\n",
    "                           )\n",
    "\n",
    "grid_search.fit(X_train, y_train)\n",
    "\n",
    "y_pred = grid_search.predict(X_test)\n",
    "cv_score_smoted_log = grid_search.best_score_\n",
    "test_score_smoted_log = grid_search.score(X_test, y_test)"
   ]
  },
  {
   "cell_type": "code",
<<<<<<< Updated upstream
   "execution_count": null,
   "metadata": {
    "scrolled": true
   },
   "outputs": [],
=======
   "execution_count": 80,
   "metadata": {
    "scrolled": true
   },
   "outputs": [
    {
     "data": {
      "text/plain": [
       "(0.5236095177348219, 0.5262331134150173)"
      ]
     },
     "execution_count": 80,
     "metadata": {},
     "output_type": "execute_result"
    }
   ],
>>>>>>> Stashed changes
   "source": [
    "cv_score_smoted_log, test_score_smoted_log"
   ]
  },
  {
   "cell_type": "code",
<<<<<<< Updated upstream
   "execution_count": null,
   "metadata": {
    "scrolled": true
   },
   "outputs": [],
=======
   "execution_count": 81,
   "metadata": {
    "scrolled": true
   },
   "outputs": [
    {
     "data": {
      "text/plain": [
       "array([[8680,  920],\n",
       "       [8128, 1370]], dtype=int64)"
      ]
     },
     "execution_count": 81,
     "metadata": {},
     "output_type": "execute_result"
    }
   ],
>>>>>>> Stashed changes
   "source": [
    "confusion_matrix(y_pred, y_test)"
   ]
  },
  {
   "cell_type": "code",
<<<<<<< Updated upstream
   "execution_count": null,
   "metadata": {},
   "outputs": [],
=======
   "execution_count": 82,
   "metadata": {},
   "outputs": [
    {
     "data": {
      "text/plain": [
       "0.5242037797431037"
      ]
     },
     "execution_count": 82,
     "metadata": {},
     "output_type": "execute_result"
    }
   ],
>>>>>>> Stashed changes
   "source": [
    "roc_auc_score(y_pred, y_test)"
   ]
  },
  {
   "cell_type": "code",
<<<<<<< Updated upstream
   "execution_count": null,
   "metadata": {},
   "outputs": [],
=======
   "execution_count": 83,
   "metadata": {},
   "outputs": [
    {
     "name": "stdout",
     "output_type": "stream",
     "text": [
      "              precision    recall  f1-score   support\n",
      "\n",
      "           0       0.52      0.90      0.66      9600\n",
      "           1       0.60      0.14      0.23      9498\n",
      "\n",
      "    accuracy                           0.53     19098\n",
      "   macro avg       0.56      0.52      0.44     19098\n",
      "weighted avg       0.56      0.53      0.45     19098\n",
      "\n"
     ]
    }
   ],
>>>>>>> Stashed changes
   "source": [
    "print(classification_report(y_pred, y_test))"
   ]
  },
  {
   "cell_type": "markdown",
   "metadata": {},
   "source": [
    "### smote logistic regression (weather, road cond, age, traffic control device)"
   ]
  },
  {
   "cell_type": "code",
<<<<<<< Updated upstream
   "execution_count": null,
=======
   "execution_count": 84,
>>>>>>> Stashed changes
   "metadata": {},
   "outputs": [],
   "source": [
    "X = final_df[['WEATHER_CONDITION', 'ROADWAY_SURFACE_COND', 'AGE', 'TRAFFIC_CONTROL_DEVICE', 'LIGHTING_CONDITION',\n",
    "             'CRASH_HOUR']]\n",
    "y = final_df['INJURY_CLASSIFICATION']\n",
    "\n",
    "X_train, X_test, y_train, y_test = train_test_split(X,\n",
    "                                                    y,\n",
    "                                                    test_size=0.2,\n",
    "                                                    stratify=y,\n",
    "                                                    random_state=11)"
   ]
  },
  {
   "cell_type": "code",
<<<<<<< Updated upstream
   "execution_count": null,
=======
   "execution_count": 85,
>>>>>>> Stashed changes
   "metadata": {},
   "outputs": [],
   "source": [
    "# Create a column transformer\n",
    "col_transformer = ColumnTransformer(transformers=[\n",
    "    ('ohe', OneHotEncoder(categories='auto', handle_unknown='ignore'), ['LIGHTING_CONDITION', 'ROADWAY_SURFACE_COND'])\n",
    "], remainder='passthrough')\n",
    "\n",
    "over = SMOTE(sampling_strategy='minority')\n",
    "under = RandomUnderSampler(sampling_strategy='not minority')\n",
    "\n",
    "# Create a pipeline containing the column transformer and model\n",
    "pipeline = imb_Pipeline(steps=[\n",
    "    ('col_transformer', col_transformer),\n",
    "    ('o', over),\n",
    "    ('u', under),\n",
    "    ('scaler', StandardScaler()),\n",
    "    ('logistic_regressor', LogisticRegression(random_state=42))\n",
    "])"
   ]
  },
  {
   "cell_type": "code",
<<<<<<< Updated upstream
   "execution_count": null,
=======
   "execution_count": 86,
>>>>>>> Stashed changes
   "metadata": {},
   "outputs": [],
   "source": [
    "param_grid = [{'logistic_regressor__max_iter': [50, 100, 250, 500],\n",
    "              # 'logistic_regressor__C': [1e-10, 1e-100],\n",
    "               'logistic_regressor__penalty': ['none', 'l2']\n",
    "              }]\n",
    "\n",
    "grid_search = GridSearchCV(estimator=pipeline,\n",
    "                           param_grid=param_grid,\n",
    "                           scoring='accuracy',\n",
    "                           cv=5\n",
    "                           )\n",
    "\n",
    "grid_search.fit(X_train, y_train)\n",
    "\n",
    "y_pred = grid_search.predict(X_test)\n",
    "cv_score_smoted_log = grid_search.best_score_\n",
    "test_score_smoted_log = grid_search.score(X_test, y_test)"
   ]
  },
  {
   "cell_type": "code",
<<<<<<< Updated upstream
   "execution_count": null,
   "metadata": {
    "scrolled": true
   },
   "outputs": [],
=======
   "execution_count": 87,
   "metadata": {
    "scrolled": true
   },
   "outputs": [
    {
     "data": {
      "text/plain": [
       "(0.5126392709752461, 0.5193213949104618)"
      ]
     },
     "execution_count": 87,
     "metadata": {},
     "output_type": "execute_result"
    }
   ],
>>>>>>> Stashed changes
   "source": [
    "cv_score_smoted_log, test_score_smoted_log"
   ]
  },
  {
   "cell_type": "code",
<<<<<<< Updated upstream
   "execution_count": null,
   "metadata": {
    "scrolled": true
   },
   "outputs": [],
=======
   "execution_count": 88,
   "metadata": {
    "scrolled": true
   },
   "outputs": [
    {
     "data": {
      "text/plain": [
       "array([[8505,  877],\n",
       "       [8303, 1413]], dtype=int64)"
      ]
     },
     "execution_count": 88,
     "metadata": {},
     "output_type": "execute_result"
    }
   ],
>>>>>>> Stashed changes
   "source": [
    "confusion_matrix(y_pred, y_test)"
   ]
  },
  {
   "cell_type": "code",
<<<<<<< Updated upstream
   "execution_count": null,
   "metadata": {},
   "outputs": [],
=======
   "execution_count": 89,
   "metadata": {},
   "outputs": [
    {
     "data": {
      "text/plain": [
       "0.525976673796753"
      ]
     },
     "execution_count": 89,
     "metadata": {},
     "output_type": "execute_result"
    }
   ],
>>>>>>> Stashed changes
   "source": [
    "roc_auc_score(y_pred, y_test)"
   ]
  },
  {
   "cell_type": "code",
<<<<<<< Updated upstream
   "execution_count": null,
   "metadata": {
    "scrolled": true
   },
   "outputs": [],
=======
   "execution_count": 90,
   "metadata": {
    "scrolled": true
   },
   "outputs": [
    {
     "name": "stdout",
     "output_type": "stream",
     "text": [
      "              precision    recall  f1-score   support\n",
      "\n",
      "           0       0.51      0.91      0.65      9382\n",
      "           1       0.62      0.15      0.24      9716\n",
      "\n",
      "    accuracy                           0.52     19098\n",
      "   macro avg       0.56      0.53      0.44     19098\n",
      "weighted avg       0.56      0.52      0.44     19098\n",
      "\n"
     ]
    }
   ],
>>>>>>> Stashed changes
   "source": [
    "print(classification_report(y_pred, y_test))"
   ]
  },
  {
   "cell_type": "markdown",
   "metadata": {},
   "source": [
    "### smote logistic regression (without age)"
   ]
  },
  {
   "cell_type": "code",
<<<<<<< Updated upstream
   "execution_count": null,
=======
   "execution_count": 91,
>>>>>>> Stashed changes
   "metadata": {},
   "outputs": [],
   "source": [
    "X = final_df[['WEATHER_CONDITION', 'ROADWAY_SURFACE_COND', 'TRAFFIC_CONTROL_DEVICE', 'LIGHTING_CONDITION',\n",
    "             'CRASH_HOUR']]\n",
    "y = final_df['INJURY_CLASSIFICATION']\n",
    "\n",
    "X_train, X_test, y_train, y_test = train_test_split(X,\n",
    "                                                    y,\n",
    "                                                    test_size=0.2,\n",
    "                                                    stratify=y,\n",
    "                                                    random_state=11)"
   ]
  },
  {
   "cell_type": "code",
<<<<<<< Updated upstream
   "execution_count": null,
=======
   "execution_count": 92,
>>>>>>> Stashed changes
   "metadata": {},
   "outputs": [],
   "source": [
    "# Create a column transformer\n",
    "col_transformer = ColumnTransformer(transformers=[\n",
    "    ('ohe', OneHotEncoder(categories='auto', handle_unknown='ignore'), ['LIGHTING_CONDITION', 'ROADWAY_SURFACE_COND'])\n",
    "], remainder='passthrough')\n",
    "\n",
    "over = SMOTE(sampling_strategy='minority')\n",
    "under = RandomUnderSampler(sampling_strategy='not minority')\n",
    "\n",
    "# Create a pipeline containing the column transformer and model\n",
    "pipeline = imb_Pipeline(steps=[\n",
    "    ('col_transformer', col_transformer),\n",
    "    ('o', over),\n",
    "    ('u', under),\n",
    "    ('scaler', StandardScaler()),\n",
    "    ('logistic_regressor', LogisticRegression(random_state=42))\n",
    "])"
   ]
  },
  {
   "cell_type": "code",
<<<<<<< Updated upstream
   "execution_count": null,
=======
   "execution_count": 93,
>>>>>>> Stashed changes
   "metadata": {},
   "outputs": [],
   "source": [
    "param_grid = [{'logistic_regressor__max_iter': [50, 100, 250, 500],\n",
    "              # 'logistic_regressor__C': [1e-10, 1e-100],\n",
    "               'logistic_regressor__penalty': ['none', 'l2']\n",
    "              }]\n",
    "\n",
    "grid_search = GridSearchCV(estimator=pipeline,\n",
    "                           param_grid=param_grid,\n",
    "                           scoring='accuracy',\n",
    "                           cv=5\n",
    "                           )\n",
    "\n",
    "grid_search.fit(X_train, y_train)\n",
    "\n",
    "y_pred = grid_search.predict(X_test)\n",
    "cv_score_smoted_log = grid_search.best_score_\n",
    "test_score_smoted_log = grid_search.score(X_test, y_test)"
   ]
  },
  {
   "cell_type": "code",
<<<<<<< Updated upstream
   "execution_count": null,
   "metadata": {
    "scrolled": true
   },
   "outputs": [],
=======
   "execution_count": 94,
   "metadata": {
    "scrolled": true
   },
   "outputs": [
    {
     "data": {
      "text/plain": [
       "(0.5057664954259219, 0.5176981882919678)"
      ]
     },
     "execution_count": 94,
     "metadata": {},
     "output_type": "execute_result"
    }
   ],
>>>>>>> Stashed changes
   "source": [
    "cv_score_smoted_log, test_score_smoted_log"
   ]
  },
  {
   "cell_type": "code",
<<<<<<< Updated upstream
   "execution_count": null,
   "metadata": {
    "scrolled": true
   },
   "outputs": [],
=======
   "execution_count": 95,
   "metadata": {
    "scrolled": true
   },
   "outputs": [
    {
     "data": {
      "text/plain": [
       "array([[8462,  865],\n",
       "       [8346, 1425]], dtype=int64)"
      ]
     },
     "execution_count": 95,
     "metadata": {},
     "output_type": "execute_result"
    }
   ],
>>>>>>> Stashed changes
   "source": [
    "confusion_matrix(y_pred, y_test)"
   ]
  },
  {
   "cell_type": "code",
<<<<<<< Updated upstream
   "execution_count": null,
   "metadata": {},
   "outputs": [],
=======
   "execution_count": 96,
   "metadata": {},
   "outputs": [
    {
     "data": {
      "text/plain": [
       "0.5265491133249254"
      ]
     },
     "execution_count": 96,
     "metadata": {},
     "output_type": "execute_result"
    }
   ],
>>>>>>> Stashed changes
   "source": [
    "roc_auc_score(y_pred, y_test)"
   ]
  },
  {
   "cell_type": "code",
<<<<<<< Updated upstream
   "execution_count": null,
   "metadata": {},
   "outputs": [],
=======
   "execution_count": 97,
   "metadata": {},
   "outputs": [
    {
     "name": "stdout",
     "output_type": "stream",
     "text": [
      "              precision    recall  f1-score   support\n",
      "\n",
      "           0       0.50      0.91      0.65      9327\n",
      "           1       0.62      0.15      0.24      9771\n",
      "\n",
      "    accuracy                           0.52     19098\n",
      "   macro avg       0.56      0.53      0.44     19098\n",
      "weighted avg       0.56      0.52      0.44     19098\n",
      "\n"
     ]
    }
   ],
>>>>>>> Stashed changes
   "source": [
    "print(classification_report(y_pred, y_test))"
   ]
  },
  {
   "cell_type": "markdown",
   "metadata": {},
   "source": [
    "### smote logistic regression (traffic control device, surface cond, day of week)"
   ]
  },
  {
   "cell_type": "code",
<<<<<<< Updated upstream
   "execution_count": null,
=======
   "execution_count": 98,
>>>>>>> Stashed changes
   "metadata": {},
   "outputs": [],
   "source": [
    "X = final_df[['ROADWAY_SURFACE_COND', 'TRAFFIC_CONTROL_DEVICE', 'CRASH_DAY_OF_WEEK']]\n",
    "y = final_df['INJURY_CLASSIFICATION']\n",
    "\n",
    "X_train, X_test, y_train, y_test = train_test_split(X,\n",
    "                                                    y,\n",
    "                                                    test_size=0.2,\n",
    "                                                    stratify=y,\n",
    "                                                    random_state=11)"
   ]
  },
  {
   "cell_type": "code",
<<<<<<< Updated upstream
   "execution_count": null,
=======
   "execution_count": 99,
>>>>>>> Stashed changes
   "metadata": {},
   "outputs": [],
   "source": [
    "# Create a column transformer\n",
    "col_transformer = ColumnTransformer(transformers=[\n",
    "    ('ohe', OneHotEncoder(categories='auto', handle_unknown='ignore'), ['ROADWAY_SURFACE_COND'])\n",
    "], remainder='passthrough')\n",
    "\n",
    "over = SMOTE(sampling_strategy='minority')\n",
    "under = RandomUnderSampler(sampling_strategy='not minority')\n",
    "\n",
    "# Create a pipeline containing the column transformer and model\n",
    "pipeline = imb_Pipeline(steps=[\n",
    "    ('col_transformer', col_transformer),\n",
    "    ('o', over),\n",
    "    ('u', under),\n",
    "    ('scaler', StandardScaler()),\n",
    "    ('logistic_regressor', LogisticRegression(random_state=42))\n",
    "])"
   ]
  },
  {
   "cell_type": "code",
<<<<<<< Updated upstream
   "execution_count": null,
=======
   "execution_count": 100,
>>>>>>> Stashed changes
   "metadata": {},
   "outputs": [],
   "source": [
    "param_grid = [{'logistic_regressor__max_iter': [50, 100, 250, 500],\n",
    "              # 'logistic_regressor__C': [1e-10, 1e-100],\n",
    "               'logistic_regressor__penalty': ['none', 'l2']\n",
    "              }]\n",
    "\n",
    "grid_search = GridSearchCV(estimator=pipeline,\n",
    "                           param_grid=param_grid,\n",
    "                           scoring='accuracy',\n",
    "                           cv=5\n",
    "                           )\n",
    "\n",
    "grid_search.fit(X_train, y_train)\n",
    "\n",
    "y_pred = grid_search.predict(X_test)\n",
    "cv_score_smoted_log = grid_search.best_score_\n",
    "test_score_smoted_log = grid_search.score(X_test, y_test)"
   ]
  },
  {
   "cell_type": "code",
<<<<<<< Updated upstream
   "execution_count": null,
   "metadata": {
    "scrolled": true
   },
   "outputs": [],
=======
   "execution_count": 101,
   "metadata": {
    "scrolled": true
   },
   "outputs": [
    {
     "data": {
      "text/plain": [
       "(0.5317521152753074, 0.5510001047230076)"
      ]
     },
     "execution_count": 101,
     "metadata": {},
     "output_type": "execute_result"
    }
   ],
>>>>>>> Stashed changes
   "source": [
    "cv_score_smoted_log, test_score_smoted_log"
   ]
  },
  {
   "cell_type": "code",
<<<<<<< Updated upstream
   "execution_count": null,
   "metadata": {},
   "outputs": [],
=======
   "execution_count": 102,
   "metadata": {},
   "outputs": [
    {
     "data": {
      "text/plain": [
       "array([[9370, 1137],\n",
       "       [7438, 1153]], dtype=int64)"
      ]
     },
     "execution_count": 102,
     "metadata": {},
     "output_type": "execute_result"
    }
   ],
>>>>>>> Stashed changes
   "source": [
    "confusion_matrix(y_pred, y_test)"
   ]
  },
  {
   "cell_type": "code",
<<<<<<< Updated upstream
   "execution_count": null,
   "metadata": {},
   "outputs": [],
=======
   "execution_count": 103,
   "metadata": {},
   "outputs": [
    {
     "data": {
      "text/plain": [
       "0.5129983240466137"
      ]
     },
     "execution_count": 103,
     "metadata": {},
     "output_type": "execute_result"
    }
   ],
>>>>>>> Stashed changes
   "source": [
    "roc_auc_score(y_pred, y_test)"
   ]
  },
  {
   "cell_type": "code",
<<<<<<< Updated upstream
   "execution_count": null,
   "metadata": {},
   "outputs": [],
=======
   "execution_count": 104,
   "metadata": {},
   "outputs": [
    {
     "name": "stdout",
     "output_type": "stream",
     "text": [
      "              precision    recall  f1-score   support\n",
      "\n",
      "           0       0.56      0.89      0.69     10507\n",
      "           1       0.50      0.13      0.21      8591\n",
      "\n",
      "    accuracy                           0.55     19098\n",
      "   macro avg       0.53      0.51      0.45     19098\n",
      "weighted avg       0.53      0.55      0.47     19098\n",
      "\n"
     ]
    }
   ],
>>>>>>> Stashed changes
   "source": [
    "print(classification_report(y_pred, y_test))"
   ]
  },
  {
   "cell_type": "markdown",
   "metadata": {},
   "source": [
    "### smote logistic regression (traffic control device, crash day of week, roadway cond, weather cond)"
   ]
  },
  {
   "cell_type": "code",
<<<<<<< Updated upstream
   "execution_count": null,
=======
   "execution_count": 105,
>>>>>>> Stashed changes
   "metadata": {},
   "outputs": [],
   "source": [
    "X = final_df[['ROADWAY_SURFACE_COND', 'TRAFFIC_CONTROL_DEVICE', 'CRASH_DAY_OF_WEEK']]\n",
    "y = final_df['INJURY_CLASSIFICATION']\n",
    "\n",
    "X_train, X_test, y_train, y_test = train_test_split(X,\n",
    "                                                    y,\n",
    "                                                    test_size=0.2,\n",
    "                                                    stratify=y,\n",
    "                                                    random_state=11)"
   ]
  },
  {
   "cell_type": "code",
<<<<<<< Updated upstream
   "execution_count": null,
=======
   "execution_count": 106,
>>>>>>> Stashed changes
   "metadata": {},
   "outputs": [],
   "source": [
    "# Create a column transformer\n",
    "col_transformer = ColumnTransformer(transformers=[\n",
    "    ('ohe', OneHotEncoder(categories='auto', handle_unknown='ignore'), ['ROADWAY_SURFACE_COND'])\n",
    "], remainder='passthrough')\n",
    "\n",
    "over = SMOTE(sampling_strategy='minority')\n",
    "under = RandomUnderSampler(sampling_strategy='not minority')\n",
    "\n",
    "# Create a pipeline containing the column transformer and model\n",
    "pipeline = imb_Pipeline(steps=[\n",
    "    ('col_transformer', col_transformer),\n",
    "    ('o', over),\n",
    "    ('u', under),\n",
    "    ('scaler', StandardScaler()),\n",
    "    ('logistic_regressor', LogisticRegression(random_state=42))\n",
    "])"
   ]
  },
  {
   "cell_type": "code",
<<<<<<< Updated upstream
   "execution_count": null,
=======
   "execution_count": 107,
>>>>>>> Stashed changes
   "metadata": {},
   "outputs": [],
   "source": [
    "param_grid = [{'logistic_regressor__max_iter': [50, 100, 250, 500],\n",
    "              # 'logistic_regressor__C': [1e-10, 1e-100],\n",
    "               'logistic_regressor__penalty': ['none', 'l2']\n",
    "              }]\n",
    "\n",
    "grid_search = GridSearchCV(estimator=pipeline,\n",
    "                           param_grid=param_grid,\n",
    "                           scoring='accuracy',\n",
    "                           cv=5\n",
    "                           )\n",
    "\n",
    "grid_search.fit(X_train, y_train)\n",
    "\n",
    "y_pred = grid_search.predict(X_test)\n",
    "cv_score_smoted_log = grid_search.best_score_\n",
    "test_score_smoted_log = grid_search.score(X_test, y_test)"
   ]
  },
  {
   "cell_type": "code",
<<<<<<< Updated upstream
   "execution_count": null,
   "metadata": {
    "scrolled": true
   },
   "outputs": [],
=======
   "execution_count": 108,
   "metadata": {
    "scrolled": true
   },
   "outputs": [
    {
     "data": {
      "text/plain": [
       "(0.5315819359324615, 0.5510001047230076)"
      ]
     },
     "execution_count": 108,
     "metadata": {},
     "output_type": "execute_result"
    }
   ],
>>>>>>> Stashed changes
   "source": [
    "cv_score_smoted_log, test_score_smoted_log"
   ]
  },
  {
   "cell_type": "code",
<<<<<<< Updated upstream
   "execution_count": null,
   "metadata": {
    "scrolled": true
   },
   "outputs": [],
=======
   "execution_count": 109,
   "metadata": {
    "scrolled": true
   },
   "outputs": [
    {
     "data": {
      "text/plain": [
       "array([[9370, 1137],\n",
       "       [7438, 1153]], dtype=int64)"
      ]
     },
     "execution_count": 109,
     "metadata": {},
     "output_type": "execute_result"
    }
   ],
>>>>>>> Stashed changes
   "source": [
    "confusion_matrix(y_pred, y_test)"
   ]
  },
  {
   "cell_type": "code",
<<<<<<< Updated upstream
   "execution_count": null,
   "metadata": {},
   "outputs": [],
=======
   "execution_count": 110,
   "metadata": {},
   "outputs": [
    {
     "data": {
      "text/plain": [
       "0.5129983240466137"
      ]
     },
     "execution_count": 110,
     "metadata": {},
     "output_type": "execute_result"
    }
   ],
>>>>>>> Stashed changes
   "source": [
    "roc_auc_score(y_pred, y_test)"
   ]
  },
  {
   "cell_type": "code",
<<<<<<< Updated upstream
   "execution_count": null,
   "metadata": {},
   "outputs": [],
=======
   "execution_count": 111,
   "metadata": {},
   "outputs": [
    {
     "name": "stdout",
     "output_type": "stream",
     "text": [
      "              precision    recall  f1-score   support\n",
      "\n",
      "           0       0.56      0.89      0.69     10507\n",
      "           1       0.50      0.13      0.21      8591\n",
      "\n",
      "    accuracy                           0.55     19098\n",
      "   macro avg       0.53      0.51      0.45     19098\n",
      "weighted avg       0.53      0.55      0.47     19098\n",
      "\n"
     ]
    }
   ],
>>>>>>> Stashed changes
   "source": [
    "print(classification_report(y_pred, y_test))"
   ]
  },
  {
   "cell_type": "markdown",
   "metadata": {},
   "source": [
    "### smote logistic regression (traffic control device, crash day of week, roadway cond, weather cond)"
   ]
  },
  {
   "cell_type": "code",
<<<<<<< Updated upstream
   "execution_count": null,
=======
   "execution_count": 112,
>>>>>>> Stashed changes
   "metadata": {},
   "outputs": [],
   "source": [
    "X = final_df[['ROADWAY_SURFACE_COND', 'TRAFFIC_CONTROL_DEVICE', 'CRASH_DAY_OF_WEEK']]\n",
    "y = final_df['INJURY_CLASSIFICATION']\n",
    "\n",
    "X_train, X_test, y_train, y_test = train_test_split(X,\n",
    "                                                    y,\n",
    "                                                    test_size=0.2,\n",
    "                                                    stratify=y,\n",
    "                                                    random_state=11)"
   ]
  },
  {
   "cell_type": "code",
<<<<<<< Updated upstream
   "execution_count": null,
=======
   "execution_count": 113,
>>>>>>> Stashed changes
   "metadata": {},
   "outputs": [],
   "source": [
    "# Create a column transformer\n",
    "col_transformer = ColumnTransformer(transformers=[\n",
    "    ('ohe', OneHotEncoder(categories='auto', handle_unknown='ignore'), ['ROADWAY_SURFACE_COND'])\n",
    "], remainder='passthrough')\n",
    "\n",
    "over = SMOTE(sampling_strategy='minority')\n",
    "under = RandomUnderSampler(sampling_strategy='not minority')\n",
    "\n",
    "# Create a pipeline containing the column transformer and model\n",
    "pipeline = imb_Pipeline(steps=[\n",
    "    ('col_transformer', col_transformer),\n",
    "    ('o', over),\n",
    "    ('u', under),\n",
    "    ('scaler', StandardScaler()),\n",
    "    ('logistic_regressor', LogisticRegression(random_state=42))\n",
    "])"
   ]
  },
  {
   "cell_type": "code",
<<<<<<< Updated upstream
   "execution_count": null,
=======
   "execution_count": 114,
>>>>>>> Stashed changes
   "metadata": {},
   "outputs": [],
   "source": [
    "param_grid = [{'logistic_regressor__max_iter': [50, 100, 250, 500],\n",
    "              # 'logistic_regressor__C': [1e-10, 1e-100],\n",
    "               'logistic_regressor__penalty': ['none', 'l2']\n",
    "              }]\n",
    "\n",
    "grid_search = GridSearchCV(estimator=pipeline,\n",
    "                           param_grid=param_grid,\n",
    "                           scoring='accuracy',\n",
    "                           cv=5\n",
    "                           )\n",
    "\n",
    "grid_search.fit(X_train, y_train)\n",
    "\n",
    "y_pred = grid_search.predict(X_test)\n",
    "cv_score_smoted_log = grid_search.best_score_\n",
    "test_score_smoted_log = grid_search.score(X_test, y_test)"
   ]
  },
  {
   "cell_type": "code",
<<<<<<< Updated upstream
   "execution_count": null,
   "metadata": {
    "scrolled": true
   },
   "outputs": [],
=======
   "execution_count": 115,
   "metadata": {
    "scrolled": true
   },
   "outputs": [
    {
     "data": {
      "text/plain": [
       "(0.5334800901411276, 0.5525185883338569)"
      ]
     },
     "execution_count": 115,
     "metadata": {},
     "output_type": "execute_result"
    }
   ],
>>>>>>> Stashed changes
   "source": [
    "cv_score_smoted_log, test_score_smoted_log"
   ]
  },
  {
   "cell_type": "code",
<<<<<<< Updated upstream
   "execution_count": null,
   "metadata": {
    "scrolled": true
   },
   "outputs": [],
=======
   "execution_count": 116,
   "metadata": {
    "scrolled": true
   },
   "outputs": [
    {
     "data": {
      "text/plain": [
       "array([[9402, 1140],\n",
       "       [7406, 1150]], dtype=int64)"
      ]
     },
     "execution_count": 116,
     "metadata": {},
     "output_type": "execute_result"
    }
   ],
>>>>>>> Stashed changes
   "source": [
    "confusion_matrix(y_pred, y_test)"
   ]
  },
  {
   "cell_type": "code",
<<<<<<< Updated upstream
   "execution_count": null,
   "metadata": {},
   "outputs": [],
=======
   "execution_count": 117,
   "metadata": {},
   "outputs": [
    {
     "data": {
      "text/plain": [
       "0.5131348645357127"
      ]
     },
     "execution_count": 117,
     "metadata": {},
     "output_type": "execute_result"
    }
   ],
>>>>>>> Stashed changes
   "source": [
    "roc_auc_score(y_pred, y_test)"
   ]
  },
  {
   "cell_type": "code",
<<<<<<< Updated upstream
   "execution_count": null,
   "metadata": {},
   "outputs": [],
=======
   "execution_count": 118,
   "metadata": {},
   "outputs": [
    {
     "name": "stdout",
     "output_type": "stream",
     "text": [
      "              precision    recall  f1-score   support\n",
      "\n",
      "           0       0.56      0.89      0.69     10542\n",
      "           1       0.50      0.13      0.21      8556\n",
      "\n",
      "    accuracy                           0.55     19098\n",
      "   macro avg       0.53      0.51      0.45     19098\n",
      "weighted avg       0.53      0.55      0.47     19098\n",
      "\n"
     ]
    }
   ],
>>>>>>> Stashed changes
   "source": [
    "print(classification_report(y_pred, y_test))"
   ]
  },
  {
   "cell_type": "markdown",
   "metadata": {},
   "source": [
    "### smote logistic regression (traffic control device, crash day of week, roadway cond, weather cond)"
   ]
  },
  {
   "cell_type": "code",
<<<<<<< Updated upstream
   "execution_count": null,
=======
   "execution_count": 119,
>>>>>>> Stashed changes
   "metadata": {},
   "outputs": [],
   "source": [
    "X = final_df[['ROADWAY_SURFACE_COND', 'TRAFFIC_CONTROL_DEVICE', 'CRASH_DAY_OF_WEEK', 'WEATHER_CONDITION']]\n",
    "y = final_df['INJURY_CLASSIFICATION']\n",
    "\n",
    "X_train, X_test, y_train, y_test = train_test_split(X,\n",
    "                                                    y,\n",
    "                                                    test_size=0.2,\n",
    "                                                    stratify=y,\n",
    "                                                    random_state=11)"
   ]
  },
  {
   "cell_type": "code",
<<<<<<< Updated upstream
   "execution_count": null,
=======
   "execution_count": 120,
>>>>>>> Stashed changes
   "metadata": {},
   "outputs": [],
   "source": [
    "# Create a column transformer\n",
    "col_transformer = ColumnTransformer(transformers=[\n",
    "    ('ohe', OneHotEncoder(categories='auto', handle_unknown='ignore'), ['WEATHER_CONDITION', 'ROADWAY_SURFACE_COND'])\n",
    "], remainder='passthrough')\n",
    "\n",
    "over = SMOTE(sampling_strategy='minority')\n",
    "under = RandomUnderSampler(sampling_strategy='not minority')\n",
    "\n",
    "# Create a pipeline containing the column transformer and model\n",
    "pipeline = imb_Pipeline(steps=[\n",
    "    ('col_transformer', col_transformer),\n",
    "    ('o', over),\n",
    "    ('u', under),\n",
    "    ('scaler', StandardScaler()),\n",
    "    ('logistic_regressor', LogisticRegression(random_state=42))\n",
    "])"
   ]
  },
  {
   "cell_type": "code",
<<<<<<< Updated upstream
   "execution_count": null,
=======
   "execution_count": 121,
>>>>>>> Stashed changes
   "metadata": {},
   "outputs": [],
   "source": [
    "param_grid = [{'logistic_regressor__max_iter': [50, 100, 250, 500],\n",
    "              # 'logistic_regressor__C': [1e-10, 1e-100],\n",
    "               'logistic_regressor__penalty': ['none', 'l2']\n",
    "              }]\n",
    "\n",
    "grid_search = GridSearchCV(estimator=pipeline,\n",
    "                           param_grid=param_grid,\n",
    "                           scoring='accuracy',\n",
    "                           cv=5\n",
    "                           )\n",
    "\n",
    "grid_search.fit(X_train, y_train)\n",
    "\n",
    "y_pred = grid_search.predict(X_test)\n",
    "cv_score_smoted_log = grid_search.best_score_\n",
    "test_score_smoted_log = grid_search.score(X_test, y_test)"
   ]
  },
  {
   "cell_type": "code",
<<<<<<< Updated upstream
   "execution_count": null,
   "metadata": {
    "scrolled": true
   },
   "outputs": [],
=======
   "execution_count": 122,
   "metadata": {
    "scrolled": true
   },
   "outputs": [
    {
     "data": {
      "text/plain": [
       "(0.55625824998265, 0.5742486124201487)"
      ]
     },
     "execution_count": 122,
     "metadata": {},
     "output_type": "execute_result"
    }
   ],
>>>>>>> Stashed changes
   "source": [
    "cv_score_smoted_log, test_score_smoted_log"
   ]
  },
  {
   "cell_type": "code",
<<<<<<< Updated upstream
   "execution_count": null,
   "metadata": {
    "scrolled": true
   },
   "outputs": [],
=======
   "execution_count": 123,
   "metadata": {
    "scrolled": true
   },
   "outputs": [
    {
     "data": {
      "text/plain": [
       "array([[9895, 1218],\n",
       "       [6913, 1072]], dtype=int64)"
      ]
     },
     "execution_count": 123,
     "metadata": {},
     "output_type": "execute_result"
    }
   ],
>>>>>>> Stashed changes
   "source": [
    "confusion_matrix(y_pred, y_test)"
   ]
  },
  {
   "cell_type": "code",
<<<<<<< Updated upstream
   "execution_count": null,
   "metadata": {},
   "outputs": [],
=======
   "execution_count": 124,
   "metadata": {},
   "outputs": [
    {
     "data": {
      "text/plain": [
       "0.5123251771056153"
      ]
     },
     "execution_count": 124,
     "metadata": {},
     "output_type": "execute_result"
    }
   ],
>>>>>>> Stashed changes
   "source": [
    "roc_auc_score(y_pred, y_test)"
   ]
  },
  {
   "cell_type": "code",
<<<<<<< Updated upstream
   "execution_count": null,
   "metadata": {},
   "outputs": [],
=======
   "execution_count": 125,
   "metadata": {},
   "outputs": [
    {
     "name": "stdout",
     "output_type": "stream",
     "text": [
      "              precision    recall  f1-score   support\n",
      "\n",
      "           0       0.59      0.89      0.71     11113\n",
      "           1       0.47      0.13      0.21      7985\n",
      "\n",
      "    accuracy                           0.57     19098\n",
      "   macro avg       0.53      0.51      0.46     19098\n",
      "weighted avg       0.54      0.57      0.50     19098\n",
      "\n"
     ]
    }
   ],
>>>>>>> Stashed changes
   "source": [
    "print(classification_report(y_pred, y_test))"
   ]
  },
  {
   "cell_type": "markdown",
   "metadata": {},
   "source": [
    "### smote logistic regression (weather, roadway, traffic control, lighting, crash hour)"
   ]
  },
  {
   "cell_type": "code",
<<<<<<< Updated upstream
   "execution_count": null,
=======
   "execution_count": 126,
>>>>>>> Stashed changes
   "metadata": {},
   "outputs": [],
   "source": [
    "X = final_df[['WEATHER_CONDITION', 'ROADWAY_SURFACE_COND', 'TRAFFIC_CONTROL_DEVICE', 'LIGHTING_CONDITION',\n",
    "             'CRASH_HOUR']]\n",
    "y = final_df['INJURY_CLASSIFICATION']\n",
    "\n",
    "X_train, X_test, y_train, y_test = train_test_split(X,\n",
    "                                                    y,\n",
    "                                                    test_size=0.2,\n",
    "                                                    stratify=y,\n",
    "                                                    random_state=11)"
   ]
  },
  {
   "cell_type": "code",
<<<<<<< Updated upstream
   "execution_count": null,
=======
   "execution_count": 127,
>>>>>>> Stashed changes
   "metadata": {},
   "outputs": [],
   "source": [
    "# Create a column transformer\n",
    "col_transformer = ColumnTransformer(transformers=[\n",
    "    ('ohe', OneHotEncoder(categories='auto', handle_unknown='ignore'), ['LIGHTING_CONDITION', 'ROADWAY_SURFACE_COND'])\n",
    "], remainder='passthrough')\n",
    "\n",
    "over = SMOTE(sampling_strategy='minority')\n",
    "under = RandomUnderSampler(sampling_strategy='not minority')\n",
    "\n",
    "# Create a pipeline containing the column transformer and model\n",
    "pipeline = imb_Pipeline(steps=[\n",
    "    ('col_transformer', col_transformer),\n",
    "    ('o', over),\n",
    "    ('u', under),\n",
    "    ('scaler', StandardScaler()),\n",
    "    ('logistic_regressor', LogisticRegression(random_state=42))\n",
    "])"
   ]
  },
  {
   "cell_type": "code",
<<<<<<< Updated upstream
   "execution_count": null,
=======
   "execution_count": 128,
>>>>>>> Stashed changes
   "metadata": {},
   "outputs": [],
   "source": [
    "param_grid = [{'logistic_regressor__max_iter': [50, 100, 250, 500],\n",
    "              # 'logistic_regressor__C': [1e-10, 1e-100],\n",
    "               'logistic_regressor__penalty': ['none', 'l2']\n",
    "              }]\n",
    "\n",
    "grid_search = GridSearchCV(estimator=pipeline,\n",
    "                           param_grid=param_grid,\n",
    "                           scoring='accuracy',\n",
    "                           cv=5\n",
    "                           )\n",
    "\n",
    "grid_search.fit(X_train, y_train)\n",
    "\n",
    "y_pred = grid_search.predict(X_test)\n",
    "cv_score_smoted_log = grid_search.best_score_\n",
    "test_score_smoted_log = grid_search.score(X_test, y_test)"
   ]
  },
  {
   "cell_type": "code",
<<<<<<< Updated upstream
   "execution_count": null,
   "metadata": {
    "scrolled": true
   },
   "outputs": [],
=======
   "execution_count": 129,
   "metadata": {
    "scrolled": true
   },
   "outputs": [
    {
     "data": {
      "text/plain": [
       "(0.5063555614856198, 0.5119384228715048)"
      ]
     },
     "execution_count": 129,
     "metadata": {},
     "output_type": "execute_result"
    }
   ],
>>>>>>> Stashed changes
   "source": [
    "cv_score_smoted_log, test_score_smoted_log"
   ]
  },
  {
   "cell_type": "code",
<<<<<<< Updated upstream
   "execution_count": null,
   "metadata": {
    "scrolled": true
   },
   "outputs": [],
=======
   "execution_count": 130,
   "metadata": {
    "scrolled": true
   },
   "outputs": [
    {
     "data": {
      "text/plain": [
       "array([[8347,  860],\n",
       "       [8461, 1430]], dtype=int64)"
      ]
     },
     "execution_count": 130,
     "metadata": {},
     "output_type": "execute_result"
    }
   ],
>>>>>>> Stashed changes
   "source": [
    "confusion_matrix(y_pred, y_test)"
   ]
  },
  {
   "cell_type": "code",
<<<<<<< Updated upstream
   "execution_count": null,
   "metadata": {},
   "outputs": [],
=======
   "execution_count": 131,
   "metadata": {},
   "outputs": [
    {
     "data": {
      "text/plain": [
       "0.5255843434392848"
      ]
     },
     "execution_count": 131,
     "metadata": {},
     "output_type": "execute_result"
    }
   ],
>>>>>>> Stashed changes
   "source": [
    "roc_auc_score(y_pred, y_test)"
   ]
  },
  {
   "cell_type": "code",
<<<<<<< Updated upstream
   "execution_count": null,
   "metadata": {},
   "outputs": [],
=======
   "execution_count": 132,
   "metadata": {},
   "outputs": [
    {
     "name": "stdout",
     "output_type": "stream",
     "text": [
      "              precision    recall  f1-score   support\n",
      "\n",
      "           0       0.50      0.91      0.64      9207\n",
      "           1       0.62      0.14      0.23      9891\n",
      "\n",
      "    accuracy                           0.51     19098\n",
      "   macro avg       0.56      0.53      0.44     19098\n",
      "weighted avg       0.56      0.51      0.43     19098\n",
      "\n"
     ]
    }
   ],
>>>>>>> Stashed changes
   "source": [
    "print(classification_report(y_pred, y_test))"
   ]
  },
  {
   "cell_type": "markdown",
   "metadata": {},
   "source": [
    "### smote logistic regression (weather, roadway, device cond, lighting, crash hour)"
   ]
  },
  {
   "cell_type": "code",
<<<<<<< Updated upstream
   "execution_count": null,
=======
   "execution_count": 133,
>>>>>>> Stashed changes
   "metadata": {},
   "outputs": [],
   "source": [
    "X = final_df[['WEATHER_CONDITION', 'ROADWAY_SURFACE_COND', 'LIGHTING_CONDITION',\n",
    "             'CRASH_HOUR', 'DEVICE_CONDITION']]\n",
    "y = final_df['INJURY_CLASSIFICATION']\n",
    "\n",
    "X_train, X_test, y_train, y_test = train_test_split(X,\n",
    "                                                    y,\n",
    "                                                    test_size=0.2,\n",
    "                                                    stratify=y,\n",
    "                                                    random_state=11)"
   ]
  },
  {
   "cell_type": "code",
<<<<<<< Updated upstream
   "execution_count": null,
=======
   "execution_count": 134,
>>>>>>> Stashed changes
   "metadata": {},
   "outputs": [],
   "source": [
    "# Create a column transformer\n",
    "col_transformer = ColumnTransformer(transformers=[\n",
    "    ('ohe', OneHotEncoder(categories='auto', handle_unknown='ignore'), ['LIGHTING_CONDITION', 'ROADWAY_SURFACE_COND'])\n",
    "], remainder='passthrough')\n",
    "\n",
    "over = SMOTE(sampling_strategy='minority')\n",
    "under = RandomUnderSampler(sampling_strategy='not minority')\n",
    "\n",
    "# Create a pipeline containing the column transformer and model\n",
    "pipeline = imb_Pipeline(steps=[\n",
    "    ('col_transformer', col_transformer),\n",
    "    ('o', over),\n",
    "    ('u', under),\n",
    "    ('scaler', StandardScaler()),\n",
    "    ('logistic_regressor', LogisticRegression(random_state=42))\n",
    "])"
   ]
  },
  {
   "cell_type": "code",
<<<<<<< Updated upstream
   "execution_count": null,
=======
   "execution_count": 135,
>>>>>>> Stashed changes
   "metadata": {},
   "outputs": [],
   "source": [
    "param_grid = [{'logistic_regressor__max_iter': [50, 100, 250, 500],\n",
    "              # 'logistic_regressor__C': [1e-10, 1e-100],\n",
    "               'logistic_regressor__penalty': ['none', 'l2']\n",
    "              }]\n",
    "\n",
    "grid_search = GridSearchCV(estimator=pipeline,\n",
    "                           param_grid=param_grid,\n",
    "                           scoring='accuracy',\n",
    "                           cv=5\n",
    "                           )\n",
    "\n",
    "grid_search.fit(X_train, y_train)\n",
    "\n",
    "y_pred = grid_search.predict(X_test)\n",
    "cv_score_smoted_log = grid_search.best_score_\n",
    "test_score_smoted_log = grid_search.score(X_test, y_test)"
   ]
  },
  {
   "cell_type": "code",
<<<<<<< Updated upstream
   "execution_count": null,
   "metadata": {
    "scrolled": true
   },
   "outputs": [],
=======
   "execution_count": 136,
   "metadata": {
    "scrolled": true
   },
   "outputs": [
    {
     "data": {
      "text/plain": [
       "(0.5145766519247482, 0.5211540475442454)"
      ]
     },
     "execution_count": 136,
     "metadata": {},
     "output_type": "execute_result"
    }
   ],
>>>>>>> Stashed changes
   "source": [
    "cv_score_smoted_log, test_score_smoted_log"
   ]
  },
  {
   "cell_type": "code",
<<<<<<< Updated upstream
   "execution_count": null,
   "metadata": {
    "scrolled": true
   },
   "outputs": [],
=======
   "execution_count": 137,
   "metadata": {
    "scrolled": true
   },
   "outputs": [
    {
     "data": {
      "text/plain": [
       "array([[8530,  867],\n",
       "       [8278, 1423]], dtype=int64)"
      ]
     },
     "execution_count": 137,
     "metadata": {},
     "output_type": "execute_result"
    }
   ],
>>>>>>> Stashed changes
   "source": [
    "confusion_matrix(y_pred, y_test)"
   ]
  },
  {
   "cell_type": "code",
<<<<<<< Updated upstream
   "execution_count": null,
   "metadata": {},
   "outputs": [],
=======
   "execution_count": 138,
   "metadata": {},
   "outputs": [
    {
     "data": {
      "text/plain": [
       "0.5272112101609323"
      ]
     },
     "execution_count": 138,
     "metadata": {},
     "output_type": "execute_result"
    }
   ],
>>>>>>> Stashed changes
   "source": [
    "roc_auc_score(y_pred, y_test)"
   ]
  },
  {
   "cell_type": "code",
<<<<<<< Updated upstream
   "execution_count": null,
   "metadata": {},
   "outputs": [],
=======
   "execution_count": 139,
   "metadata": {},
   "outputs": [
    {
     "name": "stdout",
     "output_type": "stream",
     "text": [
      "              precision    recall  f1-score   support\n",
      "\n",
      "           0       0.51      0.91      0.65      9397\n",
      "           1       0.62      0.15      0.24      9701\n",
      "\n",
      "    accuracy                           0.52     19098\n",
      "   macro avg       0.56      0.53      0.44     19098\n",
      "weighted avg       0.57      0.52      0.44     19098\n",
      "\n"
     ]
    }
   ],
>>>>>>> Stashed changes
   "source": [
    "print(classification_report(y_pred, y_test))"
   ]
  },
  {
   "cell_type": "markdown",
   "metadata": {},
   "source": [
    "### smote logistic regression (weather, roadway, device cond, lighting, crash hour) tuning"
   ]
  },
  {
   "cell_type": "code",
<<<<<<< Updated upstream
   "execution_count": null,
=======
   "execution_count": 140,
>>>>>>> Stashed changes
   "metadata": {},
   "outputs": [],
   "source": [
    "X = final_df[['WEATHER_CONDITION', 'ROADWAY_SURFACE_COND', 'LIGHTING_CONDITION',\n",
    "             'CRASH_HOUR', 'DEVICE_CONDITION']]\n",
    "y = final_df['INJURY_CLASSIFICATION']\n",
    "\n",
    "X_train, X_test, y_train, y_test = train_test_split(X,\n",
    "                                                    y,\n",
    "                                                    test_size=0.2,\n",
    "                                                    stratify=y,\n",
    "                                                    random_state=11)"
   ]
  },
  {
   "cell_type": "code",
<<<<<<< Updated upstream
   "execution_count": null,
=======
   "execution_count": 141,
>>>>>>> Stashed changes
   "metadata": {},
   "outputs": [],
   "source": [
    "# Create a column transformer\n",
    "col_transformer = ColumnTransformer(transformers=[\n",
    "    ('ohe', OneHotEncoder(categories='auto', handle_unknown='ignore'), ['LIGHTING_CONDITION', 'ROADWAY_SURFACE_COND'])\n",
    "], remainder='passthrough')\n",
    "\n",
    "over = SMOTE(sampling_strategy='minority')\n",
    "under = RandomUnderSampler(sampling_strategy='not minority')\n",
    "\n",
    "# Create a pipeline containing the column transformer and model\n",
    "pipeline = imb_Pipeline(steps=[\n",
    "    ('col_transformer', col_transformer),\n",
    "    ('o', over),\n",
    "    ('u', under),\n",
    "    ('scaler', StandardScaler()),\n",
    "    ('logistic_regressor', LogisticRegression(random_state=42))\n",
    "])"
   ]
  },
  {
   "cell_type": "code",
<<<<<<< Updated upstream
   "execution_count": null,
   "metadata": {},
   "outputs": [],
=======
   "execution_count": 142,
   "metadata": {},
   "outputs": [
    {
     "name": "stderr",
     "output_type": "stream",
     "text": [
      "C:\\Users\\Jakub\\anaconda3\\lib\\site-packages\\scipy\\optimize\\linesearch.py:327: LineSearchWarning: The line search algorithm did not converge\n",
      "  warn('The line search algorithm did not converge', LineSearchWarning)\n",
      "C:\\Users\\Jakub\\anaconda3\\lib\\site-packages\\sklearn\\utils\\optimize.py:195: UserWarning: Line Search failed\n",
      "  warnings.warn('Line Search failed')\n",
      "C:\\Users\\Jakub\\anaconda3\\lib\\site-packages\\sklearn\\linear_model\\_sag.py:328: ConvergenceWarning: The max_iter was reached which means the coef_ did not converge\n",
      "  warnings.warn(\"The max_iter was reached which means \"\n",
      "C:\\Users\\Jakub\\anaconda3\\lib\\site-packages\\sklearn\\linear_model\\_sag.py:328: ConvergenceWarning: The max_iter was reached which means the coef_ did not converge\n",
      "  warnings.warn(\"The max_iter was reached which means \"\n",
      "C:\\Users\\Jakub\\anaconda3\\lib\\site-packages\\sklearn\\linear_model\\_sag.py:328: ConvergenceWarning: The max_iter was reached which means the coef_ did not converge\n",
      "  warnings.warn(\"The max_iter was reached which means \"\n",
      "C:\\Users\\Jakub\\anaconda3\\lib\\site-packages\\sklearn\\linear_model\\_sag.py:328: ConvergenceWarning: The max_iter was reached which means the coef_ did not converge\n",
      "  warnings.warn(\"The max_iter was reached which means \"\n",
      "C:\\Users\\Jakub\\anaconda3\\lib\\site-packages\\sklearn\\linear_model\\_sag.py:328: ConvergenceWarning: The max_iter was reached which means the coef_ did not converge\n",
      "  warnings.warn(\"The max_iter was reached which means \"\n",
      "C:\\Users\\Jakub\\anaconda3\\lib\\site-packages\\sklearn\\linear_model\\_sag.py:328: ConvergenceWarning: The max_iter was reached which means the coef_ did not converge\n",
      "  warnings.warn(\"The max_iter was reached which means \"\n",
      "C:\\Users\\Jakub\\anaconda3\\lib\\site-packages\\sklearn\\linear_model\\_sag.py:328: ConvergenceWarning: The max_iter was reached which means the coef_ did not converge\n",
      "  warnings.warn(\"The max_iter was reached which means \"\n"
     ]
    },
    {
     "name": "stdout",
     "output_type": "stream",
     "text": [
      "{'logistic_regressor__max_iter': 150, 'logistic_regressor__penalty': 'none', 'logistic_regressor__solver': 'newton-cg'}\n"
     ]
    }
   ],
>>>>>>> Stashed changes
   "source": [
    "param_grid = [{\n",
    "                'logistic_regressor__max_iter': [100, 150, 250, 500],\n",
    "              # 'logistic_regressor__C': [1e-10, 1e-100],\n",
    "               'logistic_regressor__penalty': ['none', 'l2'],\n",
    "               'logistic_regressor__solver': ['newton-cg', 'lbfgs', 'sag']\n",
    "              }]\n",
    "\n",
    "grid_search = GridSearchCV(estimator=pipeline,\n",
    "                           param_grid=param_grid,\n",
    "                           scoring='accuracy',\n",
    "                           cv=5\n",
    "                           )\n",
    "\n",
    "grid_search.fit(X_train, y_train)\n",
    "\n",
    "y_pred = grid_search.predict(X_test)\n",
    "print(grid_search.best_params_)\n",
    "cv_score_smoted_log = grid_search.best_score_\n",
    "test_score_smoted_log = grid_search.score(X_test, y_test)"
   ]
  },
  {
   "cell_type": "code",
<<<<<<< Updated upstream
   "execution_count": null,
   "metadata": {
    "scrolled": true
   },
   "outputs": [],
=======
   "execution_count": 143,
   "metadata": {
    "scrolled": true
   },
   "outputs": [
    {
     "data": {
      "text/plain": [
       "(0.5164486092720214, 0.5187454183684156)"
      ]
     },
     "execution_count": 143,
     "metadata": {},
     "output_type": "execute_result"
    }
   ],
>>>>>>> Stashed changes
   "source": [
    "cv_score_smoted_log, test_score_smoted_log"
   ]
  },
  {
   "cell_type": "code",
<<<<<<< Updated upstream
   "execution_count": null,
   "metadata": {
    "scrolled": true
   },
   "outputs": [],
=======
   "execution_count": 144,
   "metadata": {
    "scrolled": true
   },
   "outputs": [
    {
     "data": {
      "text/plain": [
       "array([[8484,  867],\n",
       "       [8324, 1423]], dtype=int64)"
      ]
     },
     "execution_count": 144,
     "metadata": {},
     "output_type": "execute_result"
    }
   ],
>>>>>>> Stashed changes
   "source": [
    "confusion_matrix(y_pred, y_test)"
   ]
  },
  {
   "cell_type": "code",
<<<<<<< Updated upstream
   "execution_count": null,
   "metadata": {},
   "outputs": [],
=======
   "execution_count": 145,
   "metadata": {},
   "outputs": [
    {
     "data": {
      "text/plain": [
       "0.5266381413179821"
      ]
     },
     "execution_count": 145,
     "metadata": {},
     "output_type": "execute_result"
    }
   ],
>>>>>>> Stashed changes
   "source": [
    "roc_auc_score(y_pred, y_test)"
   ]
  },
  {
   "cell_type": "code",
<<<<<<< Updated upstream
   "execution_count": null,
   "metadata": {},
   "outputs": [],
=======
   "execution_count": 146,
   "metadata": {},
   "outputs": [
    {
     "name": "stdout",
     "output_type": "stream",
     "text": [
      "              precision    recall  f1-score   support\n",
      "\n",
      "           0       0.50      0.91      0.65      9351\n",
      "           1       0.62      0.15      0.24      9747\n",
      "\n",
      "    accuracy                           0.52     19098\n",
      "   macro avg       0.56      0.53      0.44     19098\n",
      "weighted avg       0.56      0.52      0.44     19098\n",
      "\n"
     ]
    }
   ],
>>>>>>> Stashed changes
   "source": [
    "print(classification_report(y_pred, y_test))"
   ]
  },
  {
   "cell_type": "markdown",
   "metadata": {},
   "source": [
    "### smote logistic regression (weather, roadway, device cond, lighting, crash hour, crash month) "
   ]
  },
  {
   "cell_type": "code",
<<<<<<< Updated upstream
   "execution_count": null,
=======
   "execution_count": 147,
>>>>>>> Stashed changes
   "metadata": {},
   "outputs": [],
   "source": [
    "X = final_df[['WEATHER_CONDITION', 'ROADWAY_SURFACE_COND', 'LIGHTING_CONDITION',\n",
    "             'CRASH_HOUR', 'DEVICE_CONDITION', 'CRASH_MONTH']]\n",
    "y = final_df['INJURY_CLASSIFICATION']\n",
    "\n",
    "X_train, X_test, y_train, y_test = train_test_split(X,\n",
    "                                                    y,\n",
    "                                                    test_size=0.2,\n",
    "                                                    stratify=y,\n",
    "                                                    random_state=11)"
   ]
  },
  {
   "cell_type": "code",
<<<<<<< Updated upstream
   "execution_count": null,
=======
   "execution_count": 148,
>>>>>>> Stashed changes
   "metadata": {},
   "outputs": [],
   "source": [
    "# Create a column transformer\n",
    "col_transformer = ColumnTransformer(transformers=[\n",
    "    ('ohe', OneHotEncoder(categories='auto', handle_unknown='ignore'), ['LIGHTING_CONDITION', 'ROADWAY_SURFACE_COND'])\n",
    "], remainder='passthrough')\n",
    "\n",
    "over = SMOTE(sampling_strategy='minority')\n",
    "under = RandomUnderSampler(sampling_strategy='not minority')\n",
    "\n",
    "# Create a pipeline containing the column transformer and model\n",
    "pipeline = imb_Pipeline(steps=[\n",
    "    ('col_transformer', col_transformer),\n",
    "    ('o', over),\n",
    "    ('u', under),\n",
    "    ('scaler', StandardScaler()),\n",
    "    ('logistic_regressor', LogisticRegression(random_state=42, max_iter=250))\n",
    "])"
   ]
  },
  {
   "cell_type": "code",
   "execution_count": null,
   "metadata": {},
<<<<<<< Updated upstream
   "outputs": [],
=======
   "outputs": [
    {
     "name": "stderr",
     "output_type": "stream",
     "text": [
      "C:\\Users\\Jakub\\anaconda3\\lib\\site-packages\\scipy\\optimize\\linesearch.py:327: LineSearchWarning: The line search algorithm did not converge\n",
      "  warn('The line search algorithm did not converge', LineSearchWarning)\n",
      "C:\\Users\\Jakub\\anaconda3\\lib\\site-packages\\sklearn\\utils\\optimize.py:195: UserWarning: Line Search failed\n",
      "  warnings.warn('Line Search failed')\n"
     ]
    }
   ],
>>>>>>> Stashed changes
   "source": [
    "param_grid = [{\n",
    "              # 'logistic_regressor__max_iter': [100, 150, 250, 500],\n",
    "              # 'logistic_regressor__C': [1e-10, 1e-100],\n",
    "               'logistic_regressor__penalty': ['none', 'l2'],\n",
    "               'logistic_regressor__solver': ['newton-cg', 'lbfgs', 'sag']\n",
    "              }]\n",
    "\n",
    "grid_search = GridSearchCV(estimator=pipeline,\n",
    "                           param_grid=param_grid,\n",
    "                           scoring='accuracy',\n",
    "                           cv=5\n",
    "                           )\n",
    "\n",
    "grid_search.fit(X_train, y_train)\n",
    "\n",
    "y_pred = grid_search.predict(X_test)\n",
    "print(grid_search.best_params_)\n",
    "cv_score_smoted_log = grid_search.best_score_\n",
    "test_score_smoted_log = grid_search.score(X_test, y_test)"
   ]
  },
  {
   "cell_type": "code",
   "execution_count": null,
   "metadata": {},
   "outputs": [],
   "source": [
    "cv_score_smoted_log, test_score_smoted_log"
   ]
  },
  {
   "cell_type": "code",
   "execution_count": null,
   "metadata": {
    "scrolled": true
   },
   "outputs": [],
   "source": [
    "confusion_matrix(y_pred, y_test)"
   ]
  },
  {
   "cell_type": "code",
   "execution_count": null,
   "metadata": {},
   "outputs": [],
   "source": [
    "roc_auc_score(y_pred, y_test)"
   ]
  },
  {
   "cell_type": "code",
   "execution_count": null,
   "metadata": {},
   "outputs": [],
   "source": [
    "print(classification_report(y_pred, y_test))"
   ]
  },
  {
   "cell_type": "markdown",
   "metadata": {},
   "source": [
    "### smote logistic regression (weather, roadway, device cond, lighting, crash hour, bac_result value)"
   ]
  },
  {
   "cell_type": "code",
   "execution_count": null,
   "metadata": {},
   "outputs": [],
   "source": [
    "X = final_df[['WEATHER_CONDITION', 'ROADWAY_SURFACE_COND', 'LIGHTING_CONDITION',\n",
    "             'CRASH_HOUR', 'DEVICE_CONDITION', 'BAC_RESULT VALUE']]\n",
    "y = final_df['INJURY_CLASSIFICATION']\n",
    "\n",
    "X_train, X_test, y_train, y_test = train_test_split(X,\n",
    "                                                    y,\n",
    "                                                    test_size=0.2,\n",
    "                                                    stratify=y,\n",
    "                                                    random_state=11)"
   ]
  },
  {
   "cell_type": "code",
   "execution_count": null,
   "metadata": {},
   "outputs": [],
   "source": [
    "# Create a column transformer\n",
    "col_transformer = ColumnTransformer(transformers=[\n",
    "    ('ohe', OneHotEncoder(categories='auto', handle_unknown='ignore'), ['LIGHTING_CONDITION', 'ROADWAY_SURFACE_COND'])\n",
    "], remainder='passthrough')\n",
    "\n",
    "over = SMOTE(sampling_strategy='minority')\n",
    "under = RandomUnderSampler(sampling_strategy='not minority')\n",
    "\n",
    "# Create a pipeline containing the column transformer and model\n",
    "pipeline = imb_Pipeline(steps=[\n",
    "    ('col_transformer', col_transformer),\n",
    "    ('o', over),\n",
    "    ('u', under),\n",
    "    ('scaler', StandardScaler()),\n",
    "    ('logistic_regressor', LogisticRegression(random_state=42, max_iter=250))\n",
    "])"
   ]
  },
  {
   "cell_type": "code",
   "execution_count": null,
   "metadata": {
    "scrolled": true
   },
   "outputs": [],
   "source": [
    "param_grid = [{\n",
    "              # 'logistic_regressor__max_iter': [100, 150, 250, 500],\n",
    "              # 'logistic_regressor__C': [1e-10, 1e-100],\n",
    "               'logistic_regressor__penalty': ['none', 'l2'],\n",
    "               'logistic_regressor__solver': ['newton-cg', 'lbfgs', 'sag']\n",
    "              }]\n",
    "\n",
    "grid_search = GridSearchCV(estimator=pipeline,\n",
    "                           param_grid=param_grid,\n",
    "                           scoring='accuracy',\n",
    "                           cv=5\n",
    "                           )\n",
    "\n",
    "grid_search.fit(X_train, y_train)\n",
    "\n",
    "y_pred = grid_search.predict(X_test)\n",
    "print(grid_search.best_params_)\n",
    "cv_score_smoted_log = grid_search.best_score_\n",
    "test_score_smoted_log = grid_search.score(X_test, y_test)"
   ]
  },
  {
   "cell_type": "code",
   "execution_count": null,
   "metadata": {},
   "outputs": [],
   "source": [
    "cv_score_smoted_log, test_score_smoted_log"
   ]
  },
  {
   "cell_type": "code",
   "execution_count": null,
   "metadata": {
    "scrolled": true
   },
   "outputs": [],
   "source": [
    "confusion_matrix(y_pred, y_test)"
   ]
  },
  {
   "cell_type": "code",
   "execution_count": null,
   "metadata": {},
   "outputs": [],
   "source": [
    "roc_auc_score(y_pred, y_test)"
   ]
  },
  {
   "cell_type": "code",
   "execution_count": null,
   "metadata": {},
   "outputs": [],
   "source": [
    "print(classification_report(y_pred, y_test))"
   ]
  },
  {
   "cell_type": "code",
   "execution_count": null,
   "metadata": {},
   "outputs": [],
   "source": [
    "In conclusion, our best classifier model was the k"
   ]
  }
 ],
 "metadata": {
  "interpreter": {
   "hash": "c15d3b161d9e31d3c14101c293414707f40e59d6cae0bbd6b708ca3d1e942f6f"
  },
  "kernelspec": {
   "display_name": "Python 3 (ipykernel)",
   "language": "python",
   "name": "python3"
  },
  "language_info": {
   "codemirror_mode": {
    "name": "ipython",
    "version": 3
   },
   "file_extension": ".py",
   "mimetype": "text/x-python",
   "name": "python",
   "nbconvert_exporter": "python",
   "pygments_lexer": "ipython3",
   "version": "3.8.8"
  }
 },
 "nbformat": 4,
 "nbformat_minor": 4
}
