{
 "cells": [
  {
   "cell_type": "markdown",
   "metadata": {},
   "source": [
    "# Chicago Car Crashes Exploration\n",
    "Authors: Lenore Perconti, Jakub Rybicki, Noble Tang\n",
    "\n",
    "Flatiron Data Science School, Phase Three Project\n",
    "\n",
    "10/28/21\n",
    "\n",
    "## Overview\n",
    "\n",
    "In this project we looked at traffic incident data from the City of Chicago. We joined two data sets, processed them, and used modeling to infer information on traffic incidents at night. \n",
    "\n",
    "### Business Understanding\n",
    "\n",
    "Our stakeholder is City of Chicago Department of Transportation. They are interested in learning more about what factors contribute to severe traffic incidents for drivers at night.\n",
    "\n",
    "* **Severe** traffic incidents we defined as `FATAL` or `INCAPACITATING` from the `INJURY_TYPE` column.\n",
    "\n",
    "* **Night** we defined as the hours between 10pm to 5 am, or hours 22 through 5 in the `CRASH_HOUR` column."
   ]
  },
  {
   "cell_type": "markdown",
   "metadata": {},
   "source": [
    "## Data Understanding and Cleaning\n",
    "The data used was sourced from the following websites:\n",
    "\n",
    "https://data.cityofchicago.org/Transportation/Traffic-Crashes-Crashes/85ca-t3if\n",
    "\n",
    "https://data.cityofchicago.org/Transportation/Traffic-Crashes-People/u6pd-qa9d\n",
    "\n",
    "The data was downloaded on Friday, October 22. Attempts to reproduce this notebook may result in inconcistancies since the online source is updated weekly.\n",
    "\n",
    "These datasets are include very recent data and information from 2013 to present. The number of variables and columns in this dataset made it challenging to clean and use, however the broad scope of the data makes it a good candidate for exploring the business problem at hand.\n",
    "\n",
    "The large size of the original datasets were too large to upload to github, we create a cleaned and merged dataset below that is included in the dataset."
   ]
  },
  {
   "cell_type": "code",
   "execution_count": 1,
   "metadata": {},
   "outputs": [],
   "source": [
    "#Importing the neccessary packages\n",
    "import pandas as pd\n",
    "import numpy as np\n",
    "import matplotlib.pyplot as plt\n",
    "\n",
    "from sklearn.model_selection import train_test_split, GridSearchCV\n",
    "from sklearn.feature_selection import SelectKBest, chi2\n",
    "from sklearn.linear_model import LogisticRegression\n",
    "from sklearn.preprocessing import OneHotEncoder, StandardScaler, LabelEncoder\n",
    "from sklearn.tree import DecisionTreeClassifier, plot_tree\n",
    "from sklearn.neighbors import KNeighborsClassifier\n",
    "from imblearn.over_sampling import SMOTE\n",
    "from imblearn.under_sampling import RandomUnderSampler\n",
    "from sklearn.metrics import confusion_matrix, accuracy_score, precision_score, f1_score, roc_auc_score\n",
    "from sklearn.metrics import roc_curve, classification_report, plot_roc_curve\n",
    "from sklearn.compose import ColumnTransformer\n",
    "from sklearn.pipeline import Pipeline\n",
    "from imblearn.pipeline import Pipeline as imb_Pipeline"
   ]
  },
  {
   "cell_type": "code",
   "execution_count": 2,
   "metadata": {},
   "outputs": [],
   "source": [
    "crash_df = pd.read_csv('data/Traffic_Crashes_-_crashes.csv')\n",
    "people_df = pd.read_csv('data/Traffic_Crashes_-_people.csv', low_memory=False)"
   ]
  },
  {
   "cell_type": "markdown",
   "metadata": {},
   "source": [
    "### Dropping Unneccessary Columns\n",
    "`Crash_df` dropping Justification:\n",
    "\n",
    "* `RD_NO` - Police Dep. Report number, another identifying number associated with each record, we kept CRASH_RECORD_ID as the joining record number for each dataframe.\n",
    "* `CRASH_DATE_EST_I` - used when crash is reported to police days after the crash, this dataframe inclues crash day of week, hour and month so we can drop the specific date.\n",
    "* `CRASH_DATE` - this dataframe inclues crash day of week, hour and month so we can drop the specific date.\n",
    "* `REPORT_TYPE` - administrative report type, not a factor relevant to causing a crash.\n",
    "* `HIT_AND_RUN_I` - not a factor relevant to causing a crash.\n",
    "* `DATE_POLICE_NOTIFIED` - not a factor relevant to causing a crash.\n",
    "* `BEAT_OF_OCCURENCE` - not a factor relevant to causing a crash.\n",
    "* `PHOTOS_TAKEN_I` - not a factor relevant to causing a crash.\n",
    "* `STATEMENTS_TAKEN` - not a factor relevant to causing a crash. \n",
    "* `LANE_COUNT` - Dropping lane count because we found too many null values that we don't want to skew data with mean/median, and don't want to assume a distribution for synthetic data\n",
    "\n",
    "Basing our severity of injury off of information from the people_df dataframe, including this and other injury related columns would cause multicolliniarity in our modeling.\n",
    "* `MOST_SEVERE_INJURY` -\n",
    "* `INJURIES_FATAL`\n",
    "* `INJURIES_NON_INCAPACITATING`\n",
    "* `INJURIES_REPORTED_NOT_EVIDENT`\n",
    "* `INJURIES_NO_INDICATION`\n",
    "* `INJURIES_UNKNOWN`\n",
    "\n",
    "Location related info we dropped - not enough time for the scope of this project\n",
    "* `LONGITUDE`\n",
    "* `LATITUDE`\n",
    "* `STREET_NO`"
   ]
  },
  {
   "cell_type": "code",
   "execution_count": 3,
   "metadata": {},
   "outputs": [],
   "source": [
    "crash_df_cleaned = crash_df[['CRASH_RECORD_ID', 'TRAFFIC_CONTROL_DEVICE', 'DEVICE_CONDITION', \n",
    "                             'WEATHER_CONDITION', 'LIGHTING_CONDITION', 'ROADWAY_SURFACE_COND', \n",
    "                             'CRASH_HOUR', 'CRASH_DAY_OF_WEEK', 'CRASH_MONTH']]"
   ]
  },
  {
   "cell_type": "markdown",
   "metadata": {},
   "source": [
    "### `people_df` dropping dustification:\n",
    "\n",
    "* `PERSON_ID` - unique ID for each person record, will use CRASH_RECORD_ID\n",
    "* `RD_NO` - Police Dep. Report number, another identifying number associated with each record, we kept CRASH_RECORD_ID as the joining record number for each dataframe.\n",
    "* `VEHICLE_ID` - another indentifying factor we don't need\n",
    "* `CRASH_DATE` - time records coming from crash.csv dataset\n",
    "* `SEAT_NO` - too small representation .09% of dataset \n",
    "\n",
    "Location info not looked into:\n",
    "* `CITY`\n",
    "* `STATE`\n",
    "* `ZIPCODE`\n",
    "\n",
    "\n",
    "* `SEX` - not relevant to causing a crash\n",
    "* `DRIVER_LICENCE_STATE` - not a factor relevant\n",
    "* `DRIVER_LICENCE_CLASS` - not a factor relevant\n",
    "* `SAFETY_EQUIPMENT` - included safety equipment worn by pedestrians, cyclists, etc. would have been too time consuming to wade through.\n",
    "* `AIRBAG_DEPLOYED`- not a factor relevant\n",
    "* `EJECTION` not a factor relevant\n",
    "\n",
    "Hospital and EMS info not relevant to learning about causes of crash: \n",
    "* `HOSPITAL` \n",
    "* `EMS_AGENCY`\n",
    "* `EMS_RUN_NO`\n",
    "\n",
    "\n",
    "* `DRIVER_VISION` - 40% of data is unknown vision. Hard to make assumptions fairly\n",
    "* `PHYSICAL_CONDITION` - condition of the driver after the accident does not play a role in causation\n",
    "* `PEDPEDAL_ACTION` - action of a pedestrian varies between instances. Holds no info that city could change\n",
    "* `PEDPEDAL_VISIBILITY` - clothing of the pedestrian holds no info that city could enforce\n",
    "* `PEDPEDAL_LOCATION` - location of the pedestrian at time of crash holds no info that city could enforce\n",
    "* `CELL_PHONE_USE` - not enough data to utlize"
   ]
  },
  {
   "cell_type": "code",
   "execution_count": 4,
   "metadata": {},
   "outputs": [],
   "source": [
    "people_df_cleaned = people_df[['CRASH_RECORD_ID', 'AGE', \n",
    "                               'BAC_RESULT VALUE', 'INJURY_CLASSIFICATION', 'PERSON_TYPE']]"
   ]
  },
  {
   "cell_type": "markdown",
   "metadata": {},
   "source": [
    "#### Getting only incidents that occured at night: \n",
    "Night = between 10 pm and 6 am, these are the nighttime hours defined by licencing. "
   ]
  },
  {
   "cell_type": "code",
   "execution_count": 5,
   "metadata": {},
   "outputs": [
    {
     "data": {
      "text/plain": [
       "Index(['CRASH_RECORD_ID', 'TRAFFIC_CONTROL_DEVICE', 'DEVICE_CONDITION',\n",
       "       'WEATHER_CONDITION', 'LIGHTING_CONDITION', 'ROADWAY_SURFACE_COND',\n",
       "       'CRASH_HOUR', 'CRASH_DAY_OF_WEEK', 'CRASH_MONTH'],\n",
       "      dtype='object')"
      ]
     },
     "execution_count": 5,
     "metadata": {},
     "output_type": "execute_result"
    }
   ],
   "source": [
    "night_time_df = crash_df_cleaned.copy()\n",
    "night_time_df = night_time_df[(night_time_df['CRASH_HOUR'] >= 22) | (night_time_df['CRASH_HOUR'] <= 6)]\n",
    "night_time_df.columns"
   ]
  },
  {
   "cell_type": "markdown",
   "metadata": {},
   "source": [
    "## Joining the two data sets"
   ]
  },
  {
   "cell_type": "code",
   "execution_count": 6,
   "metadata": {},
   "outputs": [
    {
     "data": {
      "text/plain": [
       "((93448, 9), (1224613, 5))"
      ]
     },
     "execution_count": 6,
     "metadata": {},
     "output_type": "execute_result"
    }
   ],
   "source": [
    "#checking the shape\n",
    "night_time_df.shape, people_df_cleaned.shape"
   ]
  },
  {
   "cell_type": "code",
   "execution_count": 7,
   "metadata": {},
   "outputs": [
    {
     "data": {
      "text/plain": [
       "(188733, 13)"
      ]
     },
     "execution_count": 7,
     "metadata": {},
     "output_type": "execute_result"
    }
   ],
   "source": [
    "merge = pd.merge(night_time_df, people_df_cleaned, how='left', on='CRASH_RECORD_ID')\n",
    "merge.shape"
   ]
  },
  {
   "cell_type": "code",
   "execution_count": 8,
   "metadata": {},
   "outputs": [],
   "source": [
    "#no longer need Crash ID - not useful for modeling\n",
    "merge = merge.drop(columns=['CRASH_RECORD_ID'])"
   ]
  },
  {
   "cell_type": "markdown",
   "metadata": {},
   "source": [
    "### Exploring Columns Further\n",
    "\n",
    "**Target Variable:** `INJURY_CLASSIFICATION`\n",
    "* This includes all people involved in incident, cyclists, passengers, drivers, etc. "
   ]
  },
  {
   "cell_type": "code",
   "execution_count": 9,
   "metadata": {},
   "outputs": [
    {
     "data": {
      "text/plain": [
       "NO INDICATION OF INJURY     166735\n",
       "NONINCAPACITATING INJURY     12730\n",
       "REPORTED, NOT EVIDENT         5501\n",
       "INCAPACITATING INJURY         2834\n",
       "FATAL                          310\n",
       "Name: INJURY_CLASSIFICATION, dtype: int64"
      ]
     },
     "execution_count": 9,
     "metadata": {},
     "output_type": "execute_result"
    }
   ],
   "source": [
    "#taking a look at Injury Classification\n",
    "merge['INJURY_CLASSIFICATION'].value_counts()"
   ]
  },
  {
   "cell_type": "code",
   "execution_count": 10,
   "metadata": {},
   "outputs": [],
   "source": [
    "#Making Injury Classification into a binary to indicate \"serious\" incidents\n",
    "# fatal and incapacitate = 1\n",
    "merge.loc[(merge['INJURY_CLASSIFICATION'] == 'FATAL') | \n",
    "           (merge['INJURY_CLASSIFICATION'] == 'INCAPACITATING INJURY') | \n",
    "           (merge['INJURY_CLASSIFICATION'] == 'NONINCAPACITATING INJURY') |\n",
    "           (merge['INJURY_CLASSIFICATION'] == 'REPORTED, NOT EVIDENT'), 'INJURY_CLASSIFICATION'] = 1\n",
    "\n",
    "# else = 0\n",
    "merge.loc[(merge['INJURY_CLASSIFICATION'] == 'NO INDICATION OF INJURY'), 'INJURY_CLASSIFICATION'] = 0\n",
    "\n",
    "merge['INJURY_CLASSIFICATION'].fillna(0, inplace=True)"
   ]
  },
  {
   "cell_type": "code",
   "execution_count": 11,
   "metadata": {
    "scrolled": true
   },
   "outputs": [
    {
     "data": {
      "text/plain": [
       "0    0.886745\n",
       "1    0.113255\n",
       "Name: INJURY_CLASSIFICATION, dtype: float64"
      ]
     },
     "execution_count": 11,
     "metadata": {},
     "output_type": "execute_result"
    }
   ],
   "source": [
    "#normalizing Injury Classification\n",
    "merge[\"INJURY_CLASSIFICATION\"].value_counts(normalize=True)"
   ]
  },
  {
   "cell_type": "markdown",
   "metadata": {},
   "source": [
    "### Traffic control device\n",
    "\n",
    "Transforming traffic control device into a new column, 0 for no control device or a malfunctioning device, 1 for control device functioning properly"
   ]
  },
  {
   "cell_type": "code",
   "execution_count": 12,
   "metadata": {},
   "outputs": [],
   "source": [
    "merge.loc[merge['TRAFFIC_CONTROL_DEVICE'] == 'NO CONTROLS', 'TRAFFIC_CONTROL_DEVICE'] = 0\n",
    "merge.loc[merge['TRAFFIC_CONTROL_DEVICE'] != 0, 'TRAFFIC_CONTROL_DEVICE'] = 1\n",
    "\n",
    "merge.loc[merge.DEVICE_CONDITION == 'FUNCTIONING PROPERLY', 'DEVICE_CONDITION'] = 1\n",
    "merge.loc[merge.DEVICE_CONDITION != 1, 'DEVICE_CONDITION'] = 0\n",
    "\n",
    "merge['DEVICE_CONDITION'] = merge['DEVICE_CONDITION'].astype(float)\n",
    "merge['TRAFFIC_CONTROL_DEVICE'] = merge['TRAFFIC_CONTROL_DEVICE'].astype(float)"
   ]
  },
  {
   "cell_type": "markdown",
   "metadata": {},
   "source": [
    "####  Weather\n",
    "\n",
    "* categorized 1 as clear weather, rest as 0 for unfavorable weather"
   ]
  },
  {
   "cell_type": "code",
   "execution_count": 13,
   "metadata": {},
   "outputs": [],
   "source": [
    "# 1 is clear\n",
    "merge.loc[merge['WEATHER_CONDITION'] == 'CLEAR', 'WEATHER_CONDITION'] = 1\n",
    "\n",
    "# 0 is not clear\n",
    "merge.loc[merge['WEATHER_CONDITION'] != 1, 'WEATHER_CONDITION'] = 0\n",
    "\n",
    "merge['WEATHER_CONDITION'] = merge['WEATHER_CONDITION'].astype(float)"
   ]
  },
  {
   "cell_type": "markdown",
   "metadata": {},
   "source": [
    "####  Roadway Surface Condition\n",
    "\n",
    "* Binned `OTHER` with `UNKNOWN`"
   ]
  },
  {
   "cell_type": "code",
   "execution_count": 14,
   "metadata": {},
   "outputs": [],
   "source": [
    "merge.loc[merge['ROADWAY_SURFACE_COND'] == 'OTHER', 'ROADWAY_SURFACE_COND'] = 'UNKNOWN'"
   ]
  },
  {
   "cell_type": "code",
   "execution_count": 15,
   "metadata": {},
   "outputs": [
    {
     "data": {
      "text/plain": [
       "DRY                135461\n",
       "WET                 31526\n",
       "UNKNOWN             13430\n",
       "SNOW OR SLUSH        6527\n",
       "ICE                  1712\n",
       "SAND, MUD, DIRT        77\n",
       "Name: ROADWAY_SURFACE_COND, dtype: int64"
      ]
     },
     "execution_count": 15,
     "metadata": {},
     "output_type": "execute_result"
    }
   ],
   "source": [
    "merge['ROADWAY_SURFACE_COND'].value_counts()"
   ]
  },
  {
   "cell_type": "markdown",
   "metadata": {},
   "source": [
    "#### Age\n",
    "\n",
    "`AGE` had a lot of outliers including some negative ages and zeros which likely were typos. To limit these outliers we dropped them. "
   ]
  },
  {
   "cell_type": "code",
   "execution_count": 16,
   "metadata": {},
   "outputs": [],
   "source": [
    "merge.loc[merge['AGE'] <= 0, 'AGE'] = None"
   ]
  },
  {
   "cell_type": "code",
   "execution_count": 17,
   "metadata": {},
   "outputs": [],
   "source": [
    "merge.dropna(subset=['AGE'], inplace=True)"
   ]
  },
  {
   "cell_type": "markdown",
   "metadata": {},
   "source": [
    "#### Driver\n",
    "\n",
    "Limited dataset to just show `PERSON_TYPE` = `DRIVER`. Pedestrians, cyclists and other people types would not have influence over a car crash as much as a driver would. "
   ]
  },
  {
   "cell_type": "code",
   "execution_count": 18,
   "metadata": {},
   "outputs": [],
   "source": [
    "merge = merge.loc[merge['PERSON_TYPE'] == 'DRIVER']"
   ]
  },
  {
   "cell_type": "code",
   "execution_count": 19,
   "metadata": {},
   "outputs": [],
   "source": [
    "merge.drop(columns=['PERSON_TYPE'], inplace=True)"
   ]
  },
  {
   "cell_type": "markdown",
   "metadata": {},
   "source": [
    "#### Blood Alcohol Content\n",
    "\n",
    "For this column we binned the data into 1 = over the legal limit (.08) and 0 = under the limit."
   ]
  },
  {
   "cell_type": "code",
   "execution_count": 20,
   "metadata": {},
   "outputs": [],
   "source": [
    "merge['BAC_RESULT VALUE'].fillna(0, inplace=True)\n",
    "\n",
    "# 1 is drunk\n",
    "merge.loc[merge['BAC_RESULT VALUE'] >= 0.08, 'BAC_RESULT VALUE'] = 1\n",
    "\n",
    "# 0 is not drunk\n",
    "merge.loc[merge['BAC_RESULT VALUE'] < 0.08, 'BAC_RESULT VALUE'] = 0"
   ]
  },
  {
   "cell_type": "markdown",
   "metadata": {},
   "source": [
    "#### Day of week\n",
    "\n",
    "\n",
    "Binned weekends and weekdays, we saw in the histogram crashes occured on weekends more than weekdays. "
   ]
  },
  {
   "cell_type": "code",
   "execution_count": 21,
   "metadata": {},
   "outputs": [
    {
     "data": {
      "text/plain": [
       "<BarContainer object of 7 artists>"
      ]
     },
     "execution_count": 21,
     "metadata": {},
     "output_type": "execute_result"
    },
    {
     "data": {
      "image/png": "[encoded data removed]",
      "text/plain": [
       "<Figure size 432x288 with 1 Axes>"
      ]
     },
     "metadata": {
      "needs_background": "light"
     },
     "output_type": "display_data"
    }
   ],
   "source": [
    "#Plotting for the presentation to show Day of Week crashes\n",
    "injury_df = merge.copy()\n",
    "\n",
    "injury_df = injury_df.loc[injury_df['INJURY_CLASSIFICATION'] == 1]\n",
    "\n",
    "fig, ax = plt.subplots()\n",
    "\n",
    "ax.bar(list(injury_df['CRASH_DAY_OF_WEEK'].value_counts().index), \n",
    "       injury_df['CRASH_DAY_OF_WEEK'].value_counts().values)"
   ]
  },
  {
   "cell_type": "code",
   "execution_count": 22,
   "metadata": {},
   "outputs": [],
   "source": [
    "# binning weekends and weekday nights\n",
    "\n",
    "# 1 value is a weekend night\n",
    "merge.loc[merge['CRASH_DAY_OF_WEEK'] >= 6, 'CRASH_DAY_OF_WEEK'] = 1\n",
    "\n",
    "# 0 value is a weekday night\n",
    "merge.loc[merge['CRASH_DAY_OF_WEEK'] != 1, 'CRASH_DAY_OF_WEEK'] = 0"
   ]
  },
  {
   "cell_type": "markdown",
   "metadata": {},
   "source": [
    "### Compile Final DF\n",
    "\n",
    "Exporting the `final_df` into csv file"
   ]
  },
  {
   "cell_type": "code",
   "execution_count": 23,
   "metadata": {
    "scrolled": true
   },
   "outputs": [
    {
     "name": "stdout",
     "output_type": "stream",
     "text": [
      "<class 'pandas.core.frame.DataFrame'>\n",
      "Int64Index: 95484 entries, 3 to 188727\n",
      "Data columns (total 11 columns):\n",
      " #   Column                  Non-Null Count  Dtype  \n",
      "---  ------                  --------------  -----  \n",
      " 0   TRAFFIC_CONTROL_DEVICE  95484 non-null  float64\n",
      " 1   DEVICE_CONDITION        95484 non-null  float64\n",
      " 2   WEATHER_CONDITION       95484 non-null  float64\n",
      " 3   LIGHTING_CONDITION      95484 non-null  object \n",
      " 4   ROADWAY_SURFACE_COND    95484 non-null  object \n",
      " 5   CRASH_HOUR              95484 non-null  int64  \n",
      " 6   CRASH_DAY_OF_WEEK       95484 non-null  int64  \n",
      " 7   CRASH_MONTH             95484 non-null  int64  \n",
      " 8   AGE                     95484 non-null  float64\n",
      " 9   BAC_RESULT VALUE        95484 non-null  float64\n",
      " 10  INJURY_CLASSIFICATION   95484 non-null  int64  \n",
      "dtypes: float64(5), int64(4), object(2)\n",
      "memory usage: 8.7+ MB\n"
     ]
    }
   ],
   "source": [
    "final_df = merge.copy()\n",
    "final_df.info()"
   ]
  },
  {
   "cell_type": "code",
   "execution_count": 24,
   "metadata": {},
   "outputs": [],
   "source": [
    "#This is where the clean_data.csv is created and can be found in the github. \n",
    "#clean_data = final_df.to_csv('clean_data.csv', index = False)"
   ]
  },
  {
   "cell_type": "markdown",
   "metadata": {},
   "source": [
    "# Modeling\n",
    "\n",
    "For all our models we built a pipeline that accomplished the following: \n",
    "* Column Transformers One Hot Encoded categorical columns\n",
    "* Used SMOTE strategy to synthesize new examples for the minority class and address class imbalance\n",
    "* Perform a grid search to find optimal "
   ]
  },
  {
   "cell_type": "markdown",
   "metadata": {},
   "source": [
    "## First Model\n",
    "\n",
    "#### Smote Oversampling + Decision Tree\n",
    "\n",
    "This model shows a tree that helps us find the features that we are interested in"
   ]
  },
  {
   "cell_type": "code",
   "execution_count": 25,
   "metadata": {},
   "outputs": [],
   "source": [
    "X = final_df.drop(columns=['INJURY_CLASSIFICATION'])\n",
    "y = final_df['INJURY_CLASSIFICATION']\n",
    "\n",
    "X_train, X_test, y_train, y_test = train_test_split(X,\n",
    "                                                    y,\n",
    "                                                    test_size=0.2,\n",
    "                                                    stratify=y,\n",
    "                                                    random_state=11)"
   ]
  },
  {
   "cell_type": "code",
   "execution_count": 54,
   "metadata": {
    "scrolled": false
   },
   "outputs": [],
   "source": [
    "# Create a column transformer\n",
    "col_transformer = ColumnTransformer(transformers=[\n",
    "    ('ohe', OneHotEncoder(categories='auto', handle_unknown='ignore'), ['LIGHTING_CONDITION', 'ROADWAY_SURFACE_COND'])\n",
    "], remainder='passthrough')\n",
    "\n",
    "over = SMOTE(sampling_strategy='minority')\n",
    "#under = RandomUnderSampler(sampling_strategy=0.5)\n",
    "\n",
    "# Create a pipeline containing the column transformer and model\n",
    "pipeline = imb_Pipeline(steps=[\n",
    "    ('col_transformer', col_transformer),\n",
    "    ('o', over),\n",
    "    ('classifier', DecisionTreeClassifier(random_state=11))\n",
    "])"
   ]
  },
  {
   "cell_type": "code",
   "execution_count": 55,
   "metadata": {},
   "outputs": [],
   "source": [
    "param_grid = [{'classifier__max_depth':[1, 3, 5]}]\n",
    "\n",
    "grid_search = GridSearchCV(estimator=pipeline,\n",
    "                           param_grid=param_grid,\n",
    "                           scoring='accuracy',\n",
    "                           cv=5\n",
    "                           )\n",
    "\n",
    "grid_search.fit(X_train, y_train)\n",
    "\n",
    "y_pred = grid_search.predict(X_test)\n",
    "cv_score_smoted = grid_search.best_score_\n",
    "test_score_smoted = grid_search.score(X_test, y_test)"
   ]
  },
  {
   "cell_type": "code",
   "execution_count": 56,
   "metadata": {},
   "outputs": [
    {
     "data": {
      "text/plain": [
       "[Text(1066.1785714285713, 1993.2, 'ohe__x0_DARKNESS, LIGHTED ROAD <= 0.259\\ngini = 0.5\\nsamples = 134454\\nvalue = [67227, 67227]'),\n",
       " Text(538.0714285714286, 1630.8000000000002, 'DEVICE_CONDITION <= 0.001\\ngini = 0.49\\nsamples = 37762\\nvalue = [21599, 16163]'),\n",
       " Text(318.85714285714283, 1268.4, 'ohe__x0_DAWN <= 0.5\\ngini = 0.476\\nsamples = 20887\\nvalue = [12753, 8134]'),\n",
       " Text(159.42857142857142, 906.0, 'ohe__x0_DARKNESS <= 0.5\\ngini = 0.466\\nsamples = 17534\\nvalue = [11053, 6481]'),\n",
       " Text(79.71428571428571, 543.5999999999999, 'ohe__x1_SNOW OR SLUSH <= 0.935\\ngini = 0.445\\nsamples = 10160\\nvalue = [6769, 3391]'),\n",
       " Text(39.857142857142854, 181.19999999999982, 'gini = 0.449\\nsamples = 9927\\nvalue = [6552, 3375]'),\n",
       " Text(119.57142857142856, 181.19999999999982, 'gini = 0.128\\nsamples = 233\\nvalue = [217, 16]'),\n",
       " Text(239.1428571428571, 543.5999999999999, 'ohe__x1_ICE <= 0.962\\ngini = 0.487\\nsamples = 7374\\nvalue = [4284, 3090]'),\n",
       " Text(199.28571428571428, 181.19999999999982, 'gini = 0.488\\nsamples = 7322\\nvalue = [4237, 3085]'),\n",
       " Text(279.0, 181.19999999999982, 'gini = 0.174\\nsamples = 52\\nvalue = [47, 5]'),\n",
       " Text(478.2857142857142, 906.0, 'CRASH_DAY_OF_WEEK <= 0.048\\ngini = 0.5\\nsamples = 3353\\nvalue = [1700, 1653]'),\n",
       " Text(398.57142857142856, 543.5999999999999, 'ohe__x1_SNOW OR SLUSH <= 0.5\\ngini = 0.488\\nsamples = 1712\\nvalue = [987, 725]'),\n",
       " Text(358.71428571428567, 181.19999999999982, 'gini = 0.492\\nsamples = 1648\\nvalue = [926, 722]'),\n",
       " Text(438.4285714285714, 181.19999999999982, 'gini = 0.089\\nsamples = 64\\nvalue = [61, 3]'),\n",
       " Text(558.0, 543.5999999999999, 'WEATHER_CONDITION <= 0.015\\ngini = 0.491\\nsamples = 1641\\nvalue = [713, 928]'),\n",
       " Text(518.1428571428571, 181.19999999999982, 'gini = 0.49\\nsamples = 359\\nvalue = [205, 154]'),\n",
       " Text(597.8571428571428, 181.19999999999982, 'gini = 0.478\\nsamples = 1282\\nvalue = [508, 774]'),\n",
       " Text(757.2857142857142, 1268.4, 'DEVICE_CONDITION <= 0.997\\ngini = 0.499\\nsamples = 16875\\nvalue = [8846, 8029]'),\n",
       " Text(717.4285714285713, 906.0, 'gini = 0.0\\nsamples = 210\\nvalue = [0, 210]'),\n",
       " Text(797.1428571428571, 906.0, 'ohe__x1_DRY <= 0.033\\ngini = 0.498\\nsamples = 16665\\nvalue = [8846, 7819]'),\n",
       " Text(717.4285714285713, 543.5999999999999, 'ohe__x1_WET <= 0.05\\ngini = 0.481\\nsamples = 3788\\nvalue = [2261, 1527]'),\n",
       " Text(677.5714285714286, 181.19999999999982, 'gini = 0.433\\nsamples = 1083\\nvalue = [740, 343]'),\n",
       " Text(757.2857142857142, 181.19999999999982, 'gini = 0.492\\nsamples = 2705\\nvalue = [1521, 1184]'),\n",
       " Text(876.8571428571428, 543.5999999999999, 'ohe__x0_DAWN <= 0.5\\ngini = 0.5\\nsamples = 12877\\nvalue = [6585, 6292]'),\n",
       " Text(836.9999999999999, 181.19999999999982, 'gini = 0.498\\nsamples = 10347\\nvalue = [5486, 4861]'),\n",
       " Text(916.7142857142857, 181.19999999999982, 'gini = 0.491\\nsamples = 2530\\nvalue = [1099, 1431]'),\n",
       " Text(1594.2857142857142, 1630.8000000000002, 'ohe__x1_DRY <= 0.5\\ngini = 0.498\\nsamples = 96692\\nvalue = [45628, 51064]'),\n",
       " Text(1275.4285714285713, 1268.4, 'ohe__x1_WET <= 0.03\\ngini = 0.5\\nsamples = 25136\\nvalue = [12823, 12313]'),\n",
       " Text(1116.0, 906.0, 'WEATHER_CONDITION <= 0.301\\ngini = 0.494\\nsamples = 7480\\nvalue = [4159, 3321]'),\n",
       " Text(1036.2857142857142, 543.5999999999999, 'ohe__x1_ICE <= 0.5\\ngini = 0.487\\nsamples = 4290\\nvalue = [2496, 1794]'),\n",
       " Text(996.4285714285713, 181.19999999999982, 'gini = 0.481\\nsamples = 3841\\nvalue = [2293, 1548]'),\n",
       " Text(1076.142857142857, 181.19999999999982, 'gini = 0.495\\nsamples = 449\\nvalue = [203, 246]'),\n",
       " Text(1195.7142857142856, 543.5999999999999, 'ohe__x1_UNKNOWN <= 0.283\\ngini = 0.499\\nsamples = 3190\\nvalue = [1663, 1527]'),\n",
       " Text(1155.8571428571427, 181.19999999999982, 'gini = 0.488\\nsamples = 968\\nvalue = [560, 408]'),\n",
       " Text(1235.5714285714284, 181.19999999999982, 'gini = 0.5\\nsamples = 2222\\nvalue = [1103, 1119]'),\n",
       " Text(1434.8571428571427, 906.0, 'WEATHER_CONDITION <= 0.5\\ngini = 0.5\\nsamples = 17656\\nvalue = [8664, 8992]'),\n",
       " Text(1355.142857142857, 543.5999999999999, 'CRASH_DAY_OF_WEEK <= 0.5\\ngini = 0.5\\nsamples = 13611\\nvalue = [6790, 6821]'),\n",
       " Text(1315.2857142857142, 181.19999999999982, 'gini = 0.499\\nsamples = 6046\\nvalue = [2904, 3142]'),\n",
       " Text(1395.0, 181.19999999999982, 'gini = 0.5\\nsamples = 7565\\nvalue = [3886, 3679]'),\n",
       " Text(1514.5714285714284, 543.5999999999999, 'CRASH_DAY_OF_WEEK <= 0.5\\ngini = 0.497\\nsamples = 4045\\nvalue = [1874, 2171]'),\n",
       " Text(1474.7142857142856, 181.19999999999982, 'gini = 0.5\\nsamples = 1704\\nvalue = [838, 866]'),\n",
       " Text(1554.4285714285713, 181.19999999999982, 'gini = 0.493\\nsamples = 2341\\nvalue = [1036, 1305]'),\n",
       " Text(1913.1428571428569, 1268.4, 'DEVICE_CONDITION <= 0.5\\ngini = 0.497\\nsamples = 71556\\nvalue = [32805, 38751]'),\n",
       " Text(1753.7142857142856, 906.0, 'CRASH_DAY_OF_WEEK <= 0.5\\ngini = 0.499\\nsamples = 34631\\nvalue = [16593, 18038]'),\n",
       " Text(1673.9999999999998, 543.5999999999999, 'WEATHER_CONDITION <= 0.5\\ngini = 0.496\\nsamples = 14007\\nvalue = [6414, 7593]'),\n",
       " Text(1634.142857142857, 181.19999999999982, 'gini = 0.485\\nsamples = 196\\nvalue = [115, 81]'),\n",
       " Text(1713.8571428571427, 181.19999999999982, 'gini = 0.496\\nsamples = 13811\\nvalue = [6299, 7512]'),\n",
       " Text(1833.4285714285713, 543.5999999999999, 'WEATHER_CONDITION <= 0.5\\ngini = 0.5\\nsamples = 20624\\nvalue = [10179, 10445]'),\n",
       " Text(1793.5714285714284, 181.19999999999982, 'gini = 0.499\\nsamples = 306\\nvalue = [146, 160]'),\n",
       " Text(1873.2857142857142, 181.19999999999982, 'gini = 0.5\\nsamples = 20318\\nvalue = [10033, 10285]'),\n",
       " Text(2072.5714285714284, 906.0, 'WEATHER_CONDITION <= 0.5\\ngini = 0.493\\nsamples = 36925\\nvalue = [16212, 20713]'),\n",
       " Text(1992.8571428571427, 543.5999999999999, 'CRASH_DAY_OF_WEEK <= 0.5\\ngini = 0.5\\nsamples = 481\\nvalue = [233, 248]'),\n",
       " Text(1952.9999999999998, 181.19999999999982, 'gini = 0.473\\nsamples = 151\\nvalue = [93, 58]'),\n",
       " Text(2032.7142857142856, 181.19999999999982, 'gini = 0.489\\nsamples = 330\\nvalue = [140, 190]'),\n",
       " Text(2152.285714285714, 543.5999999999999, 'CRASH_DAY_OF_WEEK <= 0.5\\ngini = 0.492\\nsamples = 36444\\nvalue = [15979, 20465]'),\n",
       " Text(2112.428571428571, 181.19999999999982, 'gini = 0.492\\nsamples = 14498\\nvalue = [6344, 8154]'),\n",
       " Text(2192.142857142857, 181.19999999999982, 'gini = 0.493\\nsamples = 21946\\nvalue = [9635, 12311]')]"
      ]
     },
     "execution_count": 56,
     "metadata": {},
     "output_type": "execute_result"
    },
    {
     "data": {
      "image/png": "[encoded data removed]",
      "text/plain": [
       "<Figure size 2880x2880 with 1 Axes>"
      ]
     },
     "metadata": {
      "needs_background": "light"
     },
     "output_type": "display_data"
    }
   ],
   "source": [
    "pipeline = imb_Pipeline(steps=[\n",
    "    ('col_transformer', col_transformer),\n",
    "    ('o', over),\n",
    "    ('u', under),\n",
    "    ('classifier', DecisionTreeClassifier(random_state=11, max_depth=5))\n",
    "])\n",
    "\n",
    "fig, ax = plt.subplots(figsize=(40, 40))\n",
    "\n",
    "pipeline.fit(X_train, y_train)\n",
    "feature_list = pipeline['col_transformer'].get_feature_names()\n",
    "plot_tree(pipeline['classifier'], ax=ax, feature_names=feature_list)"
   ]
  },
  {
   "cell_type": "code",
   "execution_count": 57,
   "metadata": {
    "scrolled": false
   },
   "outputs": [
    {
     "data": {
      "text/plain": [
       "(0.45654389962698094, 0.4555165732837618)"
      ]
     },
     "execution_count": 57,
     "metadata": {},
     "output_type": "execute_result"
    }
   ],
   "source": [
    "cv_score_smoted, test_score_smoted"
   ]
  },
  {
   "cell_type": "code",
   "execution_count": 58,
   "metadata": {},
   "outputs": [
    {
     "data": {
      "text/plain": [
       "array([[7204,  795],\n",
       "       [9603, 1495]])"
      ]
     },
     "execution_count": 58,
     "metadata": {},
     "output_type": "execute_result"
    }
   ],
   "source": [
    "confusion_matrix(y_pred, y_test)"
   ]
  },
  {
   "cell_type": "markdown",
   "metadata": {},
   "source": [
    "## Baseline Model\n",
    "A baseline model helps us find the features we are most interested in and where we can focus modeling iterations on to get better models. \n",
    "\n",
    "SMOTE logistic regression with just traffic control device (picked from our tree above). This is the simplest model to give us a place to start."
   ]
  },
  {
   "cell_type": "code",
   "execution_count": 59,
   "metadata": {},
   "outputs": [],
   "source": [
    "X = final_df[['TRAFFIC_CONTROL_DEVICE']]\n",
    "y = final_df['INJURY_CLASSIFICATION']\n",
    "\n",
    "X_train, X_test, y_train, y_test = train_test_split(X,\n",
    "                                                    y,\n",
    "                                                    test_size=0.2,\n",
    "                                                    stratify=y,\n",
    "                                                    random_state=11)"
   ]
  },
  {
   "cell_type": "code",
   "execution_count": 60,
   "metadata": {},
   "outputs": [],
   "source": [
    "# Create a column transformer\n",
    "col_transformer = ColumnTransformer(transformers=[\n",
    "    ('ohe', OneHotEncoder(categories='auto', handle_unknown='ignore'), ['LIGHTING_CONDITION', 'ROADWAY_SURFACE_COND'])\n",
    "], remainder='passthrough')\n",
    "\n",
    "over = SMOTE(sampling_strategy='minority')\n",
    "under = RandomUnderSampler(sampling_strategy='not minority')\n",
    "\n",
    "# Create a pipeline containing the column transformer and model\n",
    "pipeline = imb_Pipeline(steps=[\n",
    "    ('col_transformer', col_transformer),\n",
    "    ('o', over),\n",
    "    ('u', under),\n",
    "    ('classifier', DecisionTreeClassifier(random_state=11))\n",
    "])"
   ]
  },
  {
   "cell_type": "code",
   "execution_count": 50,
   "metadata": {},
   "outputs": [
    {
     "name": "stdout",
     "output_type": "stream",
     "text": [
      "{'classifier__max_depth': 5}\n"
     ]
    }
   ],
   "source": [
    "param_grid = [{'classifier__max_depth':[1, 3, 5]}]\n",
    "\n",
    "grid_search = GridSearchCV(estimator=pipeline,\n",
    "                           param_grid=param_grid,\n",
    "                           scoring='accuracy',\n",
    "                           cv=5\n",
    "                           )\n",
    "\n",
    "grid_search.fit(X_train, y_train)\n",
    "\n",
    "y_pred = grid_search.predict(X_test)\n",
    "print(grid_search.best_params_)\n",
    "cv_score_smoted = grid_search.best_score_\n",
    "test_score_smoted = grid_search.score(X_test, y_test)"
   ]
  },
  {
   "cell_type": "code",
   "execution_count": 51,
   "metadata": {},
   "outputs": [
    {
     "data": {
      "text/plain": [
       "(0.4576437333619146, 0.45844897104257215)"
      ]
     },
     "execution_count": 51,
     "metadata": {},
     "output_type": "execute_result"
    }
   ],
   "source": [
    "cv_score_smoted, test_score_smoted"
   ]
  },
  {
   "cell_type": "code",
   "execution_count": 52,
   "metadata": {},
   "outputs": [
    {
     "data": {
      "text/plain": [
       "array([[7268,  803],\n",
       "       [9539, 1487]])"
      ]
     },
     "execution_count": 52,
     "metadata": {},
     "output_type": "execute_result"
    }
   ],
   "source": [
    "confusion_matrix(y_pred, y_test)"
   ]
  },
  {
   "cell_type": "code",
   "execution_count": 53,
   "metadata": {},
   "outputs": [
    {
     "data": {
      "text/plain": [
       "0.5176855212726038"
      ]
     },
     "execution_count": 53,
     "metadata": {},
     "output_type": "execute_result"
    }
   ],
   "source": [
    "roc_auc_score(y_pred, y_test)"
   ]
  },
  {
   "cell_type": "markdown",
   "metadata": {},
   "source": [
    "#### Logsitic Regression Baseline Discussion: \n",
    "Our ROC score is barely better than random chance (0.508). That's ok though, this gives us a baseline! "
   ]
  },
  {
   "cell_type": "markdown",
   "metadata": {},
   "source": [
    "## Model iteration 1\n",
    "SMOTE logistic regression with all features. \n",
    "\n",
    "This is our attempt to improve on the baseline model"
   ]
  },
  {
   "cell_type": "code",
   "execution_count": 36,
   "metadata": {},
   "outputs": [],
   "source": [
    "X = final_df.drop(columns=['INJURY_CLASSIFICATION'])\n",
    "y = final_df['INJURY_CLASSIFICATION']\n",
    "\n",
    "X_train, X_test, y_train, y_test = train_test_split(X,\n",
    "                                                    y,\n",
    "                                                    test_size=0.2,\n",
    "                                                    stratify=y,\n",
    "                                                    random_state=11)"
   ]
  },
  {
   "cell_type": "code",
   "execution_count": 37,
   "metadata": {},
   "outputs": [],
   "source": [
    "# Create a column transformer\n",
    "col_transformer = ColumnTransformer(transformers=[\n",
    "    ('ohe', OneHotEncoder(categories='auto', handle_unknown='ignore'), ['LIGHTING_CONDITION', 'ROADWAY_SURFACE_COND'])\n",
    "], remainder='passthrough')\n",
    "\n",
    "over = SMOTE(sampling_strategy='minority')\n",
    "under = RandomUnderSampler(sampling_strategy='not minority')\n",
    "\n",
    "# Create a pipeline containing the column transformer and model\n",
    "pipeline = imb_Pipeline(steps=[\n",
    "    ('col_transformer', col_transformer),\n",
    "    ('o', over),\n",
    "    ('u', under),\n",
    "    ('scaler', StandardScaler()),\n",
    "    ('logistic_regressor', LogisticRegression(random_state=42))\n",
    "])"
   ]
  },
  {
   "cell_type": "code",
   "execution_count": 38,
   "metadata": {},
   "outputs": [],
   "source": [
    "param_grid = [{'logistic_regressor__max_iter': [50, 100, 250, 500],\n",
    "              # 'logistic_regressor__C': [1e-10, 1e-100],\n",
    "               'logistic_regressor__penalty': ['none', 'l2']\n",
    "              }]\n",
    "\n",
    "grid_search = GridSearchCV(estimator=pipeline,\n",
    "                           param_grid=param_grid,\n",
    "                           scoring='accuracy',\n",
    "                           cv=5\n",
    "                           )\n",
    "\n",
    "grid_search.fit(X_train, y_train)\n",
    "\n",
    "y_pred = grid_search.predict(X_test)\n",
    "cv_score_smoted_log = grid_search.best_score_\n",
    "test_score_smoted_log = grid_search.score(X_test, y_test)"
   ]
  },
  {
   "cell_type": "code",
   "execution_count": 39,
   "metadata": {},
   "outputs": [
    {
     "name": "stdout",
     "output_type": "stream",
     "text": [
      "Logistic regression, all features:\n",
      "cv score: 0.5259795633461695 and test score 0.5252133843011991\n",
      "confusion matrix: [[8681  941]\n",
      " [8126 1349]]\n",
      "ROC Accuracy Score: 0.5222889771626039\n",
      "Classification Report:\n",
      "              precision    recall  f1-score   support\n",
      "\n",
      "           0       0.52      0.90      0.66      9622\n",
      "           1       0.59      0.14      0.23      9475\n",
      "\n",
      "    accuracy                           0.53     19097\n",
      "   macro avg       0.55      0.52      0.44     19097\n",
      "weighted avg       0.55      0.53      0.44     19097\n",
      "\n"
     ]
    }
   ],
   "source": [
    "print('Logistic regression, all features:')\n",
    "print(f'cv score: {cv_score_smoted_log} and test score {test_score_smoted_log}')\n",
    "print(f'confusion matrix: {confusion_matrix(y_pred, y_test)}')\n",
    "print(f'ROC Accuracy Score: {roc_auc_score(y_pred, y_test)}')\n",
    "print(f'Classification Report:')\n",
    "print(classification_report(y_pred, y_test))"
   ]
  },
  {
   "cell_type": "markdown",
   "metadata": {},
   "source": [
    "#### SMOTE logistic regression: all features Discussion: \n",
    "\n",
    "Our accuracy is slightly better than the baseline with just one feature. We'd still like to see something better.\n"
   ]
  },
  {
   "cell_type": "markdown",
   "metadata": {},
   "source": [
    "## Model iteration 2: smote knn\n",
    "This model uses all the features in the final_df. would produce favorable results but needs tuning"
   ]
  },
  {
   "cell_type": "code",
   "execution_count": 40,
   "metadata": {},
   "outputs": [],
   "source": [
    "X = final_df.drop(columns=['INJURY_CLASSIFICATION'])\n",
    "y = final_df['INJURY_CLASSIFICATION']\n",
    "\n",
    "X_train, X_test, y_train, y_test = train_test_split(X,\n",
    "                                                    y,\n",
    "                                                    test_size=0.2,\n",
    "                                                    stratify=y,\n",
    "                                                    random_state=11)"
   ]
  },
  {
   "cell_type": "code",
   "execution_count": 41,
   "metadata": {},
   "outputs": [],
   "source": [
    "X_t, X_val, y_t, y_val = train_test_split(X_train, y_train,\n",
    "                                          random_state=42,\n",
    "                                          test_size=0.2)"
   ]
  },
  {
   "cell_type": "code",
   "execution_count": 42,
   "metadata": {},
   "outputs": [],
   "source": [
    "# Create a column transformer\n",
    "col_transformer = ColumnTransformer(transformers=[\n",
    "    ('ohe', OneHotEncoder(categories='auto', handle_unknown='ignore'), ['LIGHTING_CONDITION', 'ROADWAY_SURFACE_COND'])\n",
    "], remainder='passthrough')\n",
    "\n",
    "over = SMOTE(sampling_strategy='minority')\n",
    "under = RandomUnderSampler(sampling_strategy='not minority')\n",
    "\n",
    "# Create a pipeline containing the column transformer and model\n",
    "pipeline = imb_Pipeline(steps=[\n",
    "    ('col_transformer', col_transformer),\n",
    "    ('o', over),\n",
    "    ('u', under),\n",
    "    ('knn_classifier', KNeighborsClassifier())\n",
    "])"
   ]
  },
  {
   "cell_type": "code",
   "execution_count": 43,
   "metadata": {},
   "outputs": [
    {
     "name": "stdout",
     "output_type": "stream",
     "text": [
      "{'knn_classifier__metric': 'manhattan', 'knn_classifier__n_neighbors': 3}\n"
     ]
    }
   ],
   "source": [
    "param_grid = [{'knn_classifier__n_neighbors': [3,5,9,12,15],\n",
    "               'knn_classifier__metric': ['minkowski','manhattan']}]\n",
    "\n",
    "grid_search = GridSearchCV(estimator=pipeline,\n",
    "                           param_grid=param_grid,\n",
    "                           scoring='accuracy',\n",
    "                           cv=5\n",
    "                           )\n",
    "\n",
    "grid_search.fit(X_t, y_t)\n",
    "\n",
    "y_hat = grid_search.predict(X_val)\n",
    "print(grid_search.best_params_)\n",
    "cv_score_smoted_knn = grid_search.best_score_\n",
    "test_score_smoted_knn = grid_search.score(X_test, y_test)"
   ]
  },
  {
   "cell_type": "code",
   "execution_count": 44,
   "metadata": {},
   "outputs": [
    {
     "name": "stdout",
     "output_type": "stream",
     "text": [
      "Logistic regression, all features:\n",
      "cv score: 0.769542929657807 and test score 0.7775043200502697\n",
      "confusion matrix: [[8681  941]\n",
      " [8126 1349]]\n",
      "ROC Accuracy Score: 0.5222889771626039\n",
      "Classification Report:\n",
      "              precision    recall  f1-score   support\n",
      "\n",
      "           0       0.52      0.90      0.66      9622\n",
      "           1       0.59      0.14      0.23      9475\n",
      "\n",
      "    accuracy                           0.53     19097\n",
      "   macro avg       0.55      0.52      0.44     19097\n",
      "weighted avg       0.55      0.53      0.44     19097\n",
      "\n"
     ]
    }
   ],
   "source": [
    "print('Logistic regression, all features:')\n",
    "print(f'cv score: {cv_score_smoted_knn} and test score {test_score_smoted_knn}')\n",
    "print(f'confusion matrix: {confusion_matrix(y_pred, y_test)}')\n",
    "print(f'ROC Accuracy Score: {roc_auc_score(y_pred, y_test)}')\n",
    "print(f'Classification Report:')\n",
    "print(classification_report(y_pred, y_test))"
   ]
  },
  {
   "cell_type": "markdown",
   "metadata": {},
   "source": [
    "#### Model 3 Discussion: \n",
    "This model could produce favorable results but needs tuning"
   ]
  },
  {
   "cell_type": "markdown",
   "metadata": {},
   "source": [
    "## Final Model: smote knn selective\n",
    "\n",
    "This model uses the features determined by the decision tree from ‘smote oversampling’ to produce the best outcome"
   ]
  },
  {
   "cell_type": "code",
   "execution_count": 45,
   "metadata": {},
   "outputs": [],
   "source": [
    "X = final_df.drop(columns=['INJURY_CLASSIFICATION', 'BAC_RESULT VALUE', 'AGE', 'CRASH_MONTH', 'CRASH_HOUR',\n",
    "                          'TRAFFIC_CONTROL_DEVICE'])\n",
    "y = final_df['INJURY_CLASSIFICATION']\n",
    "\n",
    "X_train, X_test, y_train, y_test = train_test_split(X,\n",
    "                                                    y,\n",
    "                                                    test_size=0.2,\n",
    "                                                    stratify=y,\n",
    "                                                    random_state=11)"
   ]
  },
  {
   "cell_type": "code",
   "execution_count": 46,
   "metadata": {},
   "outputs": [],
   "source": [
    "X_t, X_val, y_t, y_val = train_test_split(X_train, y_train,\n",
    "                                          random_state=42,\n",
    "                                          test_size=0.2)"
   ]
  },
  {
   "cell_type": "code",
   "execution_count": 61,
   "metadata": {},
   "outputs": [],
   "source": [
    "col_transformer = ColumnTransformer(transformers=[\n",
    "    ('ohe', OneHotEncoder(categories='auto', handle_unknown='ignore'), ['LIGHTING_CONDITION', 'ROADWAY_SURFACE_COND'])\n",
    "], remainder='passthrough')\n",
    "\n",
    "over = SMOTE(sampling_strategy='minority')\n",
    "under = RandomUnderSampler(sampling_strategy='not minority')\n",
    "\n",
    "# Create a pipeline containing the column transformer and model\n",
    "pipeline = imb_Pipeline(steps=[\n",
    "    ('col_transformer', col_transformer),\n",
    "    ('o', over),\n",
    "    ('u', under),\n",
    "    ('knn_classifier', KNeighborsClassifier(metric='minkowski'))\n",
    "])"
   ]
  },
  {
   "cell_type": "code",
   "execution_count": null,
   "metadata": {},
   "outputs": [],
   "source": [
    "# this took too long to run at the time of project submission, added markdown for results below\n",
    "\n",
    "param_grid = [{'knn_classifier__n_neighbors': [9,12]}]\n",
    "\n",
    "grid_search = GridSearchCV(estimator=pipeline,\n",
    "                           param_grid=param_grid,\n",
    "                           scoring='accuracy',\n",
    "                           cv=5\n",
    "                           )\n",
    "\n",
    "grid_search.fit(X_t, y_t)\n",
    "\n",
    "y_hat = grid_search.predict(X_val)\n",
    "print(grid_search.best_params_)\n",
    "cv_score_smoted_knn = grid_search.best_score_\n",
    "test_score_smoted_knn = grid_search.score(X_test, y_test)"
   ]
  },
  {
   "cell_type": "markdown",
   "metadata": {},
   "source": [
    "Output: {'knn_classifier__n_neighbors': 12}"
   ]
  },
  {
   "cell_type": "code",
   "execution_count": null,
   "metadata": {},
   "outputs": [],
   "source": [
    "print('Logistic regression, all features:')\n",
    "print(f'cv score: {cv_score_smoted_knn} and test score {test_score_smoted_knn}')\n",
    "print(f'confusion matrix: {confusion_matrix(y_pred, y_test)}')\n",
    "print(f'ROC Accuracy Score: {roc_auc_score(y_pred, y_test)}')\n",
    "print(f'Classification Report:')\n",
    "print(classification_report(y_pred, y_test))"
   ]
  },
  {
   "cell_type": "markdown",
   "metadata": {},
   "source": [
    "output: \n",
    "\n",
    "cv Score: (0.8569278871922539, 0.8507618997748337)\n",
    "confusion matrix: \n",
    "([12759,   681],\n",
    "[ 1761,    77])\n",
    "       \n",
    "ROC accuracy score: 0.8401623249116377\n",
    "\n",
    "classification report: 0.10158311345646438\n",
    "\n",
    "F1 score: 0.059322033898305086"
   ]
  },
  {
   "cell_type": "markdown",
   "metadata": {},
   "source": [
    "# Discussion and Conclusion\n",
    "\n",
    "In conclusion, our best classification model was done with K_Nearest_Neighbors run with selected key features resulting in an accuracy score of 87%. These features were `DEVICE_CONDITION`, `WEATHER_CONDITION`, `LIGHTING_CONDITION`, `ROADWAY_SURFACE_COND`, `CRASH_DAY_OF_WEEK`. \n",
    "\n",
    "Due to the imbalanced classification found within our target variable as well as in our slected features we had implemented the SMOTE technique of oversampling and undersampling within our test splits. We also used a pipeline and GridSearchCV to select our optimal hyperparameters within this model which resulted in this model outperforming the decision tree and logistic regression models.\n",
    "\n",
    "The complexity of this dataset did make implimenting a succesful model a challenge. Further research would involve more time and care spent on EDA and transofrming the data. \n",
    "\n",
    "### Future Research\n",
    "Further research we suggest to include budgetary and resource restrictions that the DOT must consider when implementing solutions.  \n"
   ]
  },
  {
   "cell_type": "code",
   "execution_count": null,
   "metadata": {},
   "outputs": [],
   "source": []
  }
 ],
 "metadata": {
  "interpreter": {
   "hash": "c15d3b161d9e31d3c14101c293414707f40e59d6cae0bbd6b708ca3d1e942f6f"
  },
  "kernelspec": {
   "display_name": "Python (Learn -env)",
   "language": "python",
   "name": "learn-env"
  },
  "language_info": {
   "codemirror_mode": {
    "name": "ipython",
    "version": 3
   },
   "file_extension": ".py",
   "mimetype": "text/x-python",
   "name": "python",
   "nbconvert_exporter": "python",
   "pygments_lexer": "ipython3",
   "version": "3.8.5"
  }
 },
 "nbformat": 4,
 "nbformat_minor": 2
}
