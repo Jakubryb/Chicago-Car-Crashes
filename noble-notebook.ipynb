{
 "cells": [
  {
   "cell_type": "markdown",
   "metadata": {},
   "source": [
    "## problem statement"
   ]
  },
  {
   "cell_type": "markdown",
   "metadata": {},
   "source": [
    "Stakeholder: City planner / City"
   ]
  },
  {
   "cell_type": "markdown",
   "metadata": {},
   "source": [
    "Problem to solve: What factors contribute to traffic incidents in Chicago?"
   ]
  },
  {
   "cell_type": "markdown",
   "metadata": {},
   "source": [
    "What will our model produce?: Our model will determine which primary contributors are most relevant in a car accident in Chicago"
   ]
  },
  {
   "cell_type": "code",
   "execution_count": 1,
   "metadata": {},
   "outputs": [],
   "source": [
    "import pandas as pd"
   ]
  },
  {
   "cell_type": "code",
   "execution_count": 4,
   "metadata": {},
   "outputs": [],
   "source": [
    "crash_df = pd.read_csv('data/crashes.csv')"
   ]
  },
  {
   "cell_type": "code",
   "execution_count": 8,
   "metadata": {},
   "outputs": [],
   "source": [
    "people_df = pd.read_csv('data/people.csv', low_memory=False)"
   ]
  },
  {
   "cell_type": "code",
   "execution_count": 9,
   "metadata": {},
   "outputs": [],
   "source": [
    "vehicle_df = pd.read_csv('data/vehicles.csv', low_memory=False)"
   ]
  },
  {
   "cell_type": "markdown",
   "metadata": {},
   "source": [
    "## dropping unnecessary rows from each data frame"
   ]
  },
  {
   "cell_type": "code",
   "execution_count": 38,
   "metadata": {},
   "outputs": [
    {
     "name": "stdout",
     "output_type": "stream",
     "text": [
      "<class 'pandas.core.frame.DataFrame'>\n",
      "Int64Index: 164923 entries, 0 to 164922\n",
      "Data columns (total 51 columns):\n",
      " #   Column                   Non-Null Count   Dtype  \n",
      "---  ------                   --------------   -----  \n",
      " 0   CRASH_RECORD_ID          164923 non-null  object \n",
      " 1   TRAFFIC_CONTROL_DEVICE   164923 non-null  object \n",
      " 2   DEVICE_CONDITION         164923 non-null  object \n",
      " 3   WEATHER_CONDITION        164923 non-null  object \n",
      " 4   LIGHTING_CONDITION       164923 non-null  object \n",
      " 5   LANE_CNT                 59453 non-null   float64\n",
      " 6   ROADWAY_SURFACE_COND     164923 non-null  object \n",
      " 7   ROAD_DEFECT              164923 non-null  object \n",
      " 8   NOT_RIGHT_OF_WAY_I       6024 non-null    object \n",
      " 9   HIT_AND_RUN_I            65922 non-null   object \n",
      " 10  PRIM_CONTRIBUTORY_CAUSE  164923 non-null  object \n",
      " 11  SEC_CONTRIBUTORY_CAUSE   164923 non-null  object \n",
      " 12  DOORING_I                362 non-null     object \n",
      " 13  WORK_ZONE_I              929 non-null     object \n",
      " 14  WORK_ZONE_TYPE           686 non-null     object \n",
      " 15  WORKERS_PRESENT_I        77 non-null      object \n",
      " 16  INJURIES_FATAL           164500 non-null  float64\n",
      " 17  CRASH_HOUR               164923 non-null  int64  \n",
      " 18  CRASH_DAY_OF_WEEK        164923 non-null  int64  \n",
      " 19  CRASH_MONTH              164923 non-null  int64  \n",
      " 20  LATITUDE                 163783 non-null  float64\n",
      " 21  LONGITUDE                163783 non-null  float64\n",
      " 22  PERSON_ID                164503 non-null  object \n",
      " 23  PERSON_TYPE              164503 non-null  object \n",
      " 24  RD_NO                    163374 non-null  object \n",
      " 25  VEHICLE_ID               161613 non-null  float64\n",
      " 26  CRASH_DATE               164503 non-null  object \n",
      " 27  SEAT_NO                  36487 non-null   float64\n",
      " 28  CITY                     109594 non-null  object \n",
      " 29  STATE                    112500 non-null  object \n",
      " 30  ZIPCODE                  99814 non-null   object \n",
      " 31  SEX                      160812 non-null  object \n",
      " 32  AGE                      106717 non-null  float64\n",
      " 33  DRIVERS_LICENSE_STATE    83592 non-null   object \n",
      " 34  DRIVERS_LICENSE_CLASS    71238 non-null   object \n",
      " 35  SAFETY_EQUIPMENT         163878 non-null  object \n",
      " 36  AIRBAG_DEPLOYED          161763 non-null  object \n",
      " 37  EJECTION                 162426 non-null  object \n",
      " 38  INJURY_CLASSIFICATION    164923 non-null  int64  \n",
      " 39  HOSPITAL                 35680 non-null   object \n",
      " 40  EMS_AGENCY               25325 non-null   object \n",
      " 41  EMS_RUN_NO               4797 non-null    object \n",
      " 42  DRIVER_ACTION            127628 non-null  object \n",
      " 43  DRIVER_VISION            127572 non-null  object \n",
      " 44  PHYSICAL_CONDITION       127754 non-null  object \n",
      " 45  PEDPEDAL_ACTION          2603 non-null    object \n",
      " 46  PEDPEDAL_VISIBILITY      2597 non-null    object \n",
      " 47  PEDPEDAL_LOCATION        2605 non-null    object \n",
      " 48  BAC_RESULT               127777 non-null  object \n",
      " 49  BAC_RESULT VALUE         944 non-null     float64\n",
      " 50  CELL_PHONE_USE           233 non-null     object \n",
      "dtypes: float64(8), int64(4), object(39)\n",
      "memory usage: 65.4+ MB\n"
     ]
    }
   ],
   "source": [
    "merge1.info()"
   ]
  },
  {
   "cell_type": "markdown",
   "metadata": {},
   "source": [
    "## join data frames"
   ]
  },
  {
   "cell_type": "code",
   "execution_count": null,
   "metadata": {},
   "outputs": [],
   "source": []
  },
  {
   "cell_type": "markdown",
   "metadata": {},
   "source": [
    "## eda"
   ]
  },
  {
   "cell_type": "code",
   "execution_count": null,
   "metadata": {},
   "outputs": [],
   "source": []
  }
 ],
 "metadata": {
  "kernelspec": {
   "display_name": "Python 3 (ipykernel)",
   "language": "python",
   "name": "python3"
  },
  "language_info": {
   "codemirror_mode": {
    "name": "ipython",
    "version": 3
   },
   "file_extension": ".py",
   "mimetype": "text/x-python",
   "name": "python",
   "nbconvert_exporter": "python",
   "pygments_lexer": "ipython3",
   "version": "3.8.8"
  }
 },
 "nbformat": 4,
 "nbformat_minor": 4
}
