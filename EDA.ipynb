{
 "cells": [
  {
   "cell_type": "markdown",
   "metadata": {},
   "source": [
    "# Cleaning\n",
    "\n",
    "This notebook illustrates detailed download and cleaning of the Chicago Crash data. \n",
    "\n",
    "Our Problem focused on what factors contribute to **severe** traffic incidents at **night**. \n",
    "\n",
    "* **Severe** traffic incidents we defined as `FATAL` or `INCAPACITATING` from the `INJURY_TYPE` column. \n",
    "\n",
    "* **Night** we defined as the hours between 10pm to 5 am, or hours `22` through `5` in the `CRASH_HOUR` column. \n",
    "\n",
    "* Final output is `final_df` which will be used in the following notebook(s)."
   ]
  },
  {
   "cell_type": "markdown",
   "metadata": {},
   "source": [
    "### Loading the Neccessary Packages and CSV Files"
   ]
  },
  {
   "cell_type": "code",
   "execution_count": 1,
   "metadata": {},
   "outputs": [],
   "source": [
    "#Importing the neccessary packages\n",
    "import pandas as pd\n",
    "import numpy as np\n",
    "import seaborn as sns\n",
    "from matplotlib import pyplot as plt\n",
    "from scipy import stats\n",
    "import statsmodels.api as sm\n",
    "from statsmodels.formula.api import ols\n",
    "from statsmodels.stats.power import TTestIndPower, TTestPower\n",
    "from sklearn.model_selection import train_test_split\n",
    "from sklearn.preprocessing import StandardScaler\n",
    "from sklearn import datasets\n",
    "from sklearn.linear_model import LinearRegression\n",
    "from sklearn.metrics import mean_squared_error, r2_score, median_absolute_error\n",
    "from sklearn.preprocessing import PolynomialFeatures\n",
    "import matplotlib.pyplot as plt\n",
    "%matplotlib inline\n",
    "\n",
    "from sklearn.linear_model import LogisticRegression\n",
    "from sklearn.neighbors import KNeighborsClassifier\n",
    "from sklearn.tree import DecisionTreeClassifier\n",
    "\n",
    "from sklearn.metrics import precision_score, recall_score\n",
    "from sklearn.model_selection import train_test_split, GridSearchCV,\\\n",
    "cross_val_score, RandomizedSearchCV\n",
    "\n",
    "from sklearn.preprocessing import OneHotEncoder, StandardScaler\n",
    "from sklearn.impute import SimpleImputer\n",
    "from sklearn.pipeline import Pipeline\n",
    "from sklearn.compose import ColumnTransformer"
   ]
  },
  {
   "cell_type": "code",
   "execution_count": 2,
   "metadata": {},
   "outputs": [],
   "source": [
    "crash_df = pd.read_csv('data/Traffic_Crashes_-_crashes.csv')\n",
    "people_df = pd.read_csv('data/Traffic_Crashes_-_people.csv', low_memory=False)\n",
    "vehicle_df = pd.read_csv('data/Traffic_Crashes_-_vehicles.csv', low_memory=False)"
   ]
  },
  {
   "cell_type": "markdown",
   "metadata": {},
   "source": [
    "### Dropping Unneccessary Columns\n",
    "\n",
    "#### `crash_df` dropping Justification: \n",
    "\n",
    "* `RD_NO` - Police Dep. Report number, another identifying number associated with each record, we kept `CRASH_RECORD_ID` as the joining record number for each dataframe. \n",
    "* `CRASH_DATE_EST_I` - used when crash is reported to police days after the crash, this dataframe inclues crash day of week, hour and month so we can drop the specific date.\n",
    "* `CRASH_DATE` - this dataframe inclues crash day of week, hour and month so we can drop the specific date.\n",
    "* `REPORT_TYPE` - administrative report type, not a factor relevant to causing a crash.\n",
    "* `HIT_AND_RUN_I` - not a factor relevant to causing a crash.\n",
    "* `DATE_POLICE_NOTIFIED` - not a factor relevant to causing a crash.\n",
    "* `STREET_NO` - of location related data we chose to keep latitude, longitude\n",
    "* `BEAT_OF_OCCURENCE` - not a factor relevant to causing a crash.\n",
    "* `PHOTOS_TAKEN_I` - not a factor relevant to causing a crash.\n",
    "* `STATEMENTS_TAKEN` - not a factor relevant to causing a crash.\n",
    "* `MOST_SEVERE_INJURY` - basing our severity of injury off of information from the `people_df` dataframe, including this and other injury related columns would cause multicolliniarity in our modeling. \n",
    "* `INJURIES_FATAL`\n",
    "* `INJURIES_NON_INCAPACITATING`\n",
    "* `INJURIES_REPORTED_NOT_EVIDENT`\n",
    "* `INJURIES_NO_INDICATION`\n",
    "* `INJURIES_UNKNOWN`\n",
    "* `LONGITUDE`\n",
    "* `LATITUDE`"
   ]
  },
  {
   "cell_type": "code",
   "execution_count": 3,
   "metadata": {},
   "outputs": [],
   "source": [
    "crash_df_dropped = crash_df[['CRASH_RECORD_ID', 'TRAFFIC_CONTROL_DEVICE', 'DEVICE_CONDITION', \n",
    "                                          'WEATHER_CONDITION', 'LIGHTING_CONDITION', 'LANE_CNT', \n",
    "                                          'ROADWAY_SURFACE_COND', 'ROAD_DEFECT', 'NOT_RIGHT_OF_WAY_I',\n",
    "                                          'PRIM_CONTRIBUTORY_CAUSE', 'SEC_CONTRIBUTORY_CAUSE', \n",
    "                                          'DOORING_I','WORK_ZONE_I', 'WORK_ZONE_TYPE', 'WORKERS_PRESENT_I', \n",
    "                                          'CRASH_HOUR', 'CRASH_DAY_OF_WEEK', 'CRASH_MONTH']]"
   ]
  },
  {
   "cell_type": "markdown",
   "metadata": {},
   "source": [
    "#### `people_df` dropping Justification: \n",
    "\n",
    "* `PERSON_ID` - unique ID for each person record, \n",
    "\n",
    "... do we need to fill in reasons for all these? "
   ]
  },
  {
   "cell_type": "code",
   "execution_count": 4,
   "metadata": {},
   "outputs": [],
   "source": [
    "people_df_dropped = people_df[['CRASH_RECORD_ID', 'PERSON_TYPE', 'AGE', 'DRIVERS_LICENSE_STATE',\n",
    "                                'DRIVER_ACTION', 'DRIVER_VISION', 'BAC_RESULT VALUE', \n",
    "                                'INJURY_CLASSIFICATION']]"
   ]
  },
  {
   "cell_type": "markdown",
   "metadata": {},
   "source": [
    "#### `vehicle_df` dropping Justification: \n",
    "\n",
    "* `---`, \n",
    "\n",
    "... do we need to fill in reasons for all these? "
   ]
  },
  {
   "cell_type": "code",
   "execution_count": 5,
   "metadata": {},
   "outputs": [],
   "source": [
    "vehicle_df_dropped = vehicle_df[['CRASH_RECORD_ID', 'VEHICLE_YEAR', 'MANEUVER']]"
   ]
  },
  {
   "cell_type": "markdown",
   "metadata": {},
   "source": [
    "## Subsetting crash records between 10 pm and 5 am"
   ]
  },
  {
   "cell_type": "code",
   "execution_count": 6,
   "metadata": {},
   "outputs": [
    {
     "data": {
      "text/plain": [
       "Index(['CRASH_RECORD_ID', 'TRAFFIC_CONTROL_DEVICE', 'DEVICE_CONDITION',\n",
       "       'WEATHER_CONDITION', 'LIGHTING_CONDITION', 'LANE_CNT',\n",
       "       'ROADWAY_SURFACE_COND', 'ROAD_DEFECT', 'NOT_RIGHT_OF_WAY_I',\n",
       "       'PRIM_CONTRIBUTORY_CAUSE', 'SEC_CONTRIBUTORY_CAUSE', 'DOORING_I',\n",
       "       'WORK_ZONE_I', 'WORK_ZONE_TYPE', 'WORKERS_PRESENT_I', 'CRASH_HOUR',\n",
       "       'CRASH_DAY_OF_WEEK', 'CRASH_MONTH'],\n",
       "      dtype='object')"
      ]
     },
     "execution_count": 6,
     "metadata": {},
     "output_type": "execute_result"
    }
   ],
   "source": [
    "night_time_df = crash_df_dropped.copy()\n",
    "night_time_df = night_time_df[(night_time_df['CRASH_HOUR'] >= 22) | (night_time_df['CRASH_HOUR'] <= 6)]\n",
    "night_time_df.columns"
   ]
  },
  {
   "cell_type": "markdown",
   "metadata": {},
   "source": [
    "## Joining all three data sets"
   ]
  },
  {
   "cell_type": "code",
   "execution_count": 7,
   "metadata": {},
   "outputs": [
    {
     "data": {
      "text/plain": [
       "((93448, 18), (1226112, 8))"
      ]
     },
     "execution_count": 7,
     "metadata": {},
     "output_type": "execute_result"
    }
   ],
   "source": [
    "#checking the shape\n",
    "night_time_df.shape, people_df_dropped.shape"
   ]
  },
  {
   "cell_type": "code",
   "execution_count": 8,
   "metadata": {},
   "outputs": [
    {
     "data": {
      "text/plain": [
       "(188737, 25)"
      ]
     },
     "execution_count": 8,
     "metadata": {},
     "output_type": "execute_result"
    }
   ],
   "source": [
    "merge1 = pd.merge(night_time_df, people_df_dropped, how='left', on='CRASH_RECORD_ID')\n",
    "merge1.shape"
   ]
  },
  {
   "cell_type": "markdown",
   "metadata": {},
   "source": [
    "## Further Exploring Columns\n",
    "\n",
    "#### `INJURY_CLASSIFICATION` target Variable - this includes all people involved in incident, cyclists, passengers, drivers, etc. "
   ]
  },
  {
   "cell_type": "code",
   "execution_count": 9,
   "metadata": {},
   "outputs": [
    {
     "data": {
      "text/plain": [
       "NO INDICATION OF INJURY     166740\n",
       "NONINCAPACITATING INJURY     12731\n",
       "REPORTED, NOT EVIDENT         5501\n",
       "INCAPACITATING INJURY         2834\n",
       "FATAL                          310\n",
       "Name: INJURY_CLASSIFICATION, dtype: int64"
      ]
     },
     "execution_count": 9,
     "metadata": {},
     "output_type": "execute_result"
    }
   ],
   "source": [
    "merge1['INJURY_CLASSIFICATION'].value_counts()"
   ]
  },
  {
   "cell_type": "code",
   "execution_count": null,
   "metadata": {},
   "outputs": [],
   "source": []
  },
  {
   "cell_type": "code",
   "execution_count": 10,
   "metadata": {},
   "outputs": [],
   "source": [
    "# fatal / incapacitate = 1\n",
    "merge1.loc[(merge1['INJURY_CLASSIFICATION'] == 'FATAL') | \n",
    "           (merge1['INJURY_CLASSIFICATION'] == 'INCAPACITATING INJURY'), 'INJURY_CLASSIFICATION'] = '1'\n",
    "\n",
    "# else = 0\n",
    "merge1.loc[(merge1['INJURY_CLASSIFICATION'] == 'NO INDICATION OF INJURY') | \n",
    "           (merge1['INJURY_CLASSIFICATION'] == 'NONINCAPACITATING INJURY') |\n",
    "           (merge1['INJURY_CLASSIFICATION'] == 'REPORTED, NOT EVIDENT'), 'INJURY_CLASSIFICATION'] = '0'\n",
    "\n",
    "merge1['INJURY_CLASSIFICATION'].fillna('0', inplace=True)"
   ]
  },
  {
   "cell_type": "code",
   "execution_count": 11,
   "metadata": {},
   "outputs": [
    {
     "data": {
      "text/plain": [
       "0    0.983342\n",
       "1    0.016658\n",
       "Name: INJURY_CLASSIFICATION, dtype: float64"
      ]
     },
     "execution_count": 11,
     "metadata": {},
     "output_type": "execute_result"
    }
   ],
   "source": [
    "merge1[\"INJURY_CLASSIFICATION\"].value_counts(normalize=True)"
   ]
  },
  {
   "cell_type": "code",
   "execution_count": 12,
   "metadata": {},
   "outputs": [
    {
     "name": "stdout",
     "output_type": "stream",
     "text": [
      "<class 'pandas.core.frame.DataFrame'>\n",
      "Int64Index: 188737 entries, 0 to 188736\n",
      "Data columns (total 25 columns):\n",
      " #   Column                   Non-Null Count   Dtype  \n",
      "---  ------                   --------------   -----  \n",
      " 0   CRASH_RECORD_ID          188737 non-null  object \n",
      " 1   TRAFFIC_CONTROL_DEVICE   188737 non-null  object \n",
      " 2   DEVICE_CONDITION         188737 non-null  object \n",
      " 3   WEATHER_CONDITION        188737 non-null  object \n",
      " 4   LIGHTING_CONDITION       188737 non-null  object \n",
      " 5   LANE_CNT                 68969 non-null   float64\n",
      " 6   ROADWAY_SURFACE_COND     188737 non-null  object \n",
      " 7   ROAD_DEFECT              188737 non-null  object \n",
      " 8   NOT_RIGHT_OF_WAY_I       6792 non-null    object \n",
      " 9   PRIM_CONTRIBUTORY_CAUSE  188737 non-null  object \n",
      " 10  SEC_CONTRIBUTORY_CAUSE   188737 non-null  object \n",
      " 11  DOORING_I                388 non-null     object \n",
      " 12  WORK_ZONE_I              1105 non-null    object \n",
      " 13  WORK_ZONE_TYPE           822 non-null     object \n",
      " 14  WORKERS_PRESENT_I        103 non-null     object \n",
      " 15  CRASH_HOUR               188737 non-null  int64  \n",
      " 16  CRASH_DAY_OF_WEEK        188737 non-null  int64  \n",
      " 17  CRASH_MONTH              188737 non-null  int64  \n",
      " 18  PERSON_TYPE              188282 non-null  object \n",
      " 19  AGE                      123583 non-null  float64\n",
      " 20  DRIVERS_LICENSE_STATE    98571 non-null   object \n",
      " 21  DRIVER_ACTION            148298 non-null  object \n",
      " 22  DRIVER_VISION            148233 non-null  object \n",
      " 23  BAC_RESULT VALUE         962 non-null     float64\n",
      " 24  INJURY_CLASSIFICATION    188737 non-null  object \n",
      "dtypes: float64(3), int64(3), object(19)\n",
      "memory usage: 37.4+ MB\n"
     ]
    }
   ],
   "source": [
    "final_df = merge1.copy()\n",
    "final_df.info()"
   ]
  },
  {
   "cell_type": "code",
   "execution_count": 25,
   "metadata": {},
   "outputs": [
    {
     "data": {
      "text/plain": [
       "UNKNOWN                              47136\n",
       "NONE                                 44126\n",
       "OTHER                                14086\n",
       "FAILED TO YIELD                      10052\n",
       "FOLLOWED TOO CLOSELY                  7284\n",
       "DISREGARDED CONTROL DEVICES           4597\n",
       "TOO FAST FOR CONDITIONS               4233\n",
       "IMPROPER TURN                         3797\n",
       "IMPROPER BACKING                      3733\n",
       "IMPROPER LANE CHANGE                  3583\n",
       "IMPROPER PASSING                      2515\n",
       "WRONG WAY/SIDE                        1225\n",
       "EVADING POLICE VEHICLE                 469\n",
       "IMPROPER PARKING                       436\n",
       "CELL PHONE USE OTHER THAN TEXTING      350\n",
       "OVERCORRECTED                          302\n",
       "EMERGENCY VEHICLE ON CALL              247\n",
       "TEXTING                                104\n",
       "STOPPED SCHOOL BUS                      13\n",
       "LICENSE RESTRICTIONS                    10\n",
       "Name: DRIVER_ACTION, dtype: int64"
      ]
     },
     "execution_count": 25,
     "metadata": {},
     "output_type": "execute_result"
    }
   ],
   "source": [
    "final_df['DRIVER_ACTION'].value_counts()"
   ]
  },
  {
   "cell_type": "code",
   "execution_count": 21,
   "metadata": {},
   "outputs": [
    {
     "data": {
      "text/plain": [
       "NO DEFECTS           155321\n",
       "UNKNOWN               29187\n",
       "RUT, HOLES             1397\n",
       "WORN SURFACE           1181\n",
       "OTHER                  1052\n",
       "SHOULDER DEFECT         374\n",
       "DEBRIS ON ROADWAY       225\n",
       "Name: ROAD_DEFECT, dtype: int64"
      ]
     },
     "execution_count": 21,
     "metadata": {},
     "output_type": "execute_result"
    }
   ],
   "source": [
    "final_df['ROAD_DEFECT'].value_counts()"
   ]
  },
  {
   "cell_type": "markdown",
   "metadata": {},
   "source": [
    "#### Exporting the `final_df` into csv file"
   ]
  },
  {
   "cell_type": "code",
   "execution_count": 13,
   "metadata": {},
   "outputs": [],
   "source": [
    "clean_data = final_df.to_csv('clean_data.csv', index = False)"
   ]
  },
  {
   "cell_type": "markdown",
   "metadata": {},
   "source": [
    "# Binning Categoricals"
   ]
  },
  {
   "cell_type": "code",
   "execution_count": 14,
   "metadata": {},
   "outputs": [
    {
     "data": {
      "text/plain": [
       "NO CONTROLS                 92853\n",
       "TRAFFIC SIGNAL              67508\n",
       "STOP SIGN/FLASHER           19102\n",
       "UNKNOWN                      6326\n",
       "OTHER                        1036\n",
       "LANE USE MARKING              632\n",
       "YIELD                         320\n",
       "OTHER WARNING SIGN            218\n",
       "OTHER REG. SIGN               171\n",
       "RAILROAD CROSSING GATE        167\n",
       "FLASHING CONTROL SIGNAL       118\n",
       "POLICE/FLAGMAN                 94\n",
       "OTHER RAILROAD CROSSING        45\n",
       "PEDESTRIAN CROSSING SIGN       43\n",
       "SCHOOL ZONE                    30\n",
       "RR CROSSING SIGN               27\n",
       "DELINEATORS                    27\n",
       "NO PASSING                     12\n",
       "BICYCLE CROSSING SIGN           8\n",
       "Name: TRAFFIC_CONTROL_DEVICE, dtype: int64"
      ]
     },
     "execution_count": 14,
     "metadata": {},
     "output_type": "execute_result"
    }
   ],
   "source": [
    "final_df['TRAFFIC_CONTROL_DEVICE'].value_counts()"
   ]
  },
  {
   "cell_type": "code",
   "execution_count": 15,
   "metadata": {},
   "outputs": [],
   "source": [
    "final_df.loc[final_df.TRAFFIC_CONTROL_DEVICE == 'NO CONTROLS', 'TRAFFIC_CONTROL_DEVICE'] = 0\n",
    "final_df.loc[final_df.TRAFFIC_CONTROL_DEVICE != 0, 'TRAFFIC_CONTROL_DEVICE'] = 1"
   ]
  },
  {
   "cell_type": "code",
   "execution_count": 16,
   "metadata": {},
   "outputs": [
    {
     "data": {
      "text/plain": [
       "1    95884\n",
       "0    92853\n",
       "Name: TRAFFIC_CONTROL_DEVICE, dtype: int64"
      ]
     },
     "execution_count": 16,
     "metadata": {},
     "output_type": "execute_result"
    }
   ],
   "source": [
    "final_df['TRAFFIC_CONTROL_DEVICE'].value_counts()"
   ]
  },
  {
   "cell_type": "code",
   "execution_count": 18,
   "metadata": {},
   "outputs": [
    {
     "data": {
      "text/plain": [
       "NO CONTROLS                 93293\n",
       "FUNCTIONING PROPERLY        79342\n",
       "UNKNOWN                     12787\n",
       "OTHER                        1370\n",
       "FUNCTIONING IMPROPERLY       1268\n",
       "NOT FUNCTIONING               593\n",
       "WORN REFLECTIVE MATERIAL       59\n",
       "MISSING                        25\n",
       "Name: DEVICE_CONDITION, dtype: int64"
      ]
     },
     "execution_count": 18,
     "metadata": {},
     "output_type": "execute_result"
    }
   ],
   "source": [
    "final_df['DEVICE_CONDITION'].value_counts()"
   ]
  },
  {
   "cell_type": "code",
   "execution_count": 19,
   "metadata": {},
   "outputs": [],
   "source": [
    "final_df.loc[final_df.DEVICE_CONDITION == 'FUNCTIONING PROPERLY', 'DEVICE_CONDITION'] = 1\n",
    "final_df.loc[final_df.DEVICE_CONDITION != 1, 'DEVICE_CONDITION'] = 0"
   ]
  },
  {
   "cell_type": "code",
   "execution_count": 20,
   "metadata": {},
   "outputs": [
    {
     "data": {
      "text/plain": [
       "0    109395\n",
       "1     79342\n",
       "Name: DEVICE_CONDITION, dtype: int64"
      ]
     },
     "execution_count": 20,
     "metadata": {},
     "output_type": "execute_result"
    }
   ],
   "source": [
    "final_df['DEVICE_CONDITION'].value_counts()"
   ]
  },
  {
   "cell_type": "code",
   "execution_count": 23,
   "metadata": {},
   "outputs": [
    {
     "data": {
      "text/plain": [
       "0     92853\n",
       "IL    49837\n",
       "XX     1355\n",
       "IN     1004\n",
       "WI      288\n",
       "      ...  \n",
       "PQ        1\n",
       "PT        1\n",
       "CD        1\n",
       "KZ        1\n",
       "IT        1\n",
       "Name: DRIVERS_LICENSE_STATE, Length: 90, dtype: int64"
      ]
     },
     "execution_count": 23,
     "metadata": {},
     "output_type": "execute_result"
    }
   ],
   "source": [
    "final_df['DRIVERS_LICENSE_STATE'].value_counts()"
   ]
  },
  {
   "cell_type": "code",
   "execution_count": 22,
   "metadata": {},
   "outputs": [],
   "source": [
    "final_df.loc[final_df.TRAFFIC_CONTROL_DEVICE == 'IL', 'DRIVERS_LICENSE_STATE'] = 1\n",
    "final_df.loc[final_df.TRAFFIC_CONTROL_DEVICE != 1, 'DRIVERS_LICENSE_STATE'] = 0"
   ]
  },
  {
   "cell_type": "code",
   "execution_count": null,
   "metadata": {},
   "outputs": [],
   "source": [
    "final_df['DRIVERS_LICENSE_STATE'].value_counts()"
   ]
  },
  {
   "cell_type": "code",
   "execution_count": 17,
   "metadata": {},
   "outputs": [
    {
     "data": {
      "image/png": "[encoded data removed]",
      "text/plain": [
       "<Figure size 1080x1080 with 2 Axes>"
      ]
     },
     "metadata": {
      "needs_background": "light"
     },
     "output_type": "display_data"
    }
   ],
   "source": [
    "# Create a df with the target as the first column,\n",
    "# then compute the correlation matrix\n",
    "corr = final_df.corr()\n",
    "\n",
    "# Set up figure and axes\n",
    "fig, ax = plt.subplots(figsize=(15, 15))\n",
    "\n",
    "# Plot a heatmap of the correlation matrix, with both\n",
    "# numbers and colors indicating the correlations\n",
    "sns.heatmap(\n",
    "    # Specifies the data to be plotted\n",
    "    data=corr,\n",
    "    # The mask means we only show half the values,\n",
    "    # instead of showing duplicates. It's optional.\n",
    "    # mask=np.triu(np.ones_like(corr, dtype=bool)),\n",
    "    # Specifies that we should use the existing axes\n",
    "    ax=ax,\n",
    "    # Specifies that we want labels, not just colors\n",
    "    annot=True,\n",
    "    # Customizes colorbar appearance\n",
    "    cbar_kws={\"label\": \"Correlation\", \"orientation\": \"horizontal\", \"pad\": .2, \"extend\": \"both\"}\n",
    ")\n",
    "\n",
    "# Customize the plot appearance\n",
    "ax.set_title(\"Heatmap of Correlation Between Attributes (Including Target)\");"
   ]
  },
  {
   "cell_type": "code",
   "execution_count": null,
   "metadata": {},
   "outputs": [],
   "source": []
  },
  {
   "cell_type": "code",
   "execution_count": null,
   "metadata": {},
   "outputs": [],
   "source": []
  }
 ],
 "metadata": {
  "interpreter": {
   "hash": "c15d3b161d9e31d3c14101c293414707f40e59d6cae0bbd6b708ca3d1e942f6f"
  },
  "kernelspec": {
   "display_name": "Python 3 (ipykernel)",
   "language": "python",
   "name": "python3"
  },
  "language_info": {
   "codemirror_mode": {
    "name": "ipython",
    "version": 3
   },
   "file_extension": ".py",
   "mimetype": "text/x-python",
   "name": "python",
   "nbconvert_exporter": "python",
   "pygments_lexer": "ipython3",
   "version": "3.8.8"
  }
 },
 "nbformat": 4,
 "nbformat_minor": 4
}
