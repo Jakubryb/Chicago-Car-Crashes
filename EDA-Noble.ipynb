{
 "cells": [
  {
   "cell_type": "markdown",
   "metadata": {},
   "source": [
    "# changelog\n",
    "\n",
    "changed 'dropped' to 'cleaned'\n",
    "exploring and binning weather column\n",
    "exploring and binning crash month"
   ]
  },
  {
   "cell_type": "markdown",
   "metadata": {},
   "source": [
    "# Cleaning\n",
    "\n",
    "This notebook illustrates detailed download and cleaning of the Chicago Crash data. \n",
    "\n",
    "Our Problem focused on what factors contribute to **severe** traffic incidents at **night**. \n",
    "\n",
    "* **Severe** traffic incidents we defined as `FATAL` or `INCAPACITATING` from the `INJURY_TYPE` column. \n",
    "\n",
    "* **Night** we defined as the hours between 10pm to 5 am, or hours `22` through `5` in the `CRASH_HOUR` column. \n",
    "\n",
    "* Final output is `final_df` which will be used in the following notebook(s)."
   ]
  },
  {
   "cell_type": "markdown",
   "metadata": {},
   "source": [
    "### Loading the Neccessary Packages and CSV Files"
   ]
  },
  {
   "cell_type": "code",
   "execution_count": 1,
   "metadata": {},
   "outputs": [],
   "source": [
    "#Importing the neccessary packages\n",
    "import pandas as pd\n",
    "import numpy as np\n",
    "import matplotlib.pyplot as plt"
   ]
  },
  {
   "cell_type": "code",
   "execution_count": 2,
   "metadata": {},
   "outputs": [],
   "source": [
    "crash_df = pd.read_csv('data/Traffic_Crashes_-_crashes.csv')\n",
    "people_df = pd.read_csv('data/Traffic_Crashes_-_people.csv', low_memory=False)\n",
    "vehicle_df = pd.read_csv('data/Traffic_Crashes_-_vehicles.csv', low_memory=False)"
   ]
  },
  {
   "cell_type": "markdown",
   "metadata": {},
   "source": [
    "### Dropping Unneccessary Columns\n",
    "\n",
    "#### `crash_df` dropping Justification: \n",
    "\n",
    "* `RD_NO` - Police Dep. Report number, another identifying number associated with each record, we kept `CRASH_RECORD_ID` as the joining record number for each dataframe. \n",
    "* `CRASH_DATE_EST_I` - used when crash is reported to police days after the crash, this dataframe inclues crash day of week, hour and month so we can drop the specific date.\n",
    "* `CRASH_DATE` - this dataframe inclues crash day of week, hour and month so we can drop the specific date.\n",
    "* `REPORT_TYPE` - administrative report type, not a factor relevant to causing a crash.\n",
    "* `HIT_AND_RUN_I` - not a factor relevant to causing a crash.\n",
    "* `DATE_POLICE_NOTIFIED` - not a factor relevant to causing a crash.\n",
    "* `STREET_NO` - of location related data we chose to keep latitude, longitude\n",
    "* `BEAT_OF_OCCURENCE` - not a factor relevant to causing a crash.\n",
    "* `PHOTOS_TAKEN_I` - not a factor relevant to causing a crash.\n",
    "* `STATEMENTS_TAKEN` - not a factor relevant to causing a crash.\n",
    "* `MOST_SEVERE_INJURY` - basing our severity of injury off of information from the `people_df` dataframe, including this and other injury related columns would cause multicolliniarity in our modeling. \n",
    "* `INJURIES_FATAL`\n",
    "* `INJURIES_NON_INCAPACITATING`\n",
    "* `INJURIES_REPORTED_NOT_EVIDENT`\n",
    "* `INJURIES_NO_INDICATION`\n",
    "* `INJURIES_UNKNOWN`\n",
    "* `LONGITUDE`\n",
    "* `LATITUDE`"
   ]
  },
  {
   "cell_type": "code",
   "execution_count": 3,
   "metadata": {},
   "outputs": [],
   "source": [
    "crash_df_cleaned = crash_df[['CRASH_RECORD_ID', 'TRAFFIC_CONTROL_DEVICE', 'DEVICE_CONDITION', \n",
    "                                          'WEATHER_CONDITION', 'LIGHTING_CONDITION', 'LANE_CNT', \n",
    "                                          'ROADWAY_SURFACE_COND', 'ROAD_DEFECT', 'NOT_RIGHT_OF_WAY_I',\n",
    "                                          'PRIM_CONTRIBUTORY_CAUSE', 'SEC_CONTRIBUTORY_CAUSE', \n",
    "                                          'DOORING_I','WORK_ZONE_I', 'WORK_ZONE_TYPE', 'WORKERS_PRESENT_I', \n",
    "                                          'CRASH_HOUR', 'CRASH_DAY_OF_WEEK', 'CRASH_MONTH']]"
   ]
  },
  {
   "cell_type": "markdown",
   "metadata": {},
   "source": [
    "#### `people_df` dropping Justification: \n",
    "\n",
    "* `PERSON_ID` - unique ID for each person record, \n",
    "\n",
    "... do we need to fill in reasons for all these? "
   ]
  },
  {
   "cell_type": "code",
   "execution_count": 4,
   "metadata": {},
   "outputs": [],
   "source": [
    "people_df_cleaned = people_df[['CRASH_RECORD_ID', 'PERSON_TYPE', 'AGE', 'DRIVERS_LICENSE_STATE',\n",
    "                                'DRIVER_ACTION', 'DRIVER_VISION', 'BAC_RESULT VALUE', \n",
    "                                'INJURY_CLASSIFICATION']]"
   ]
  },
  {
   "cell_type": "markdown",
   "metadata": {},
   "source": [
    "#### `vehicle_df` dropping Justification: \n",
    "\n",
    "* `---`, \n",
    "\n",
    "... do we need to fill in reasons for all these? "
   ]
  },
  {
   "cell_type": "code",
   "execution_count": 5,
   "metadata": {},
   "outputs": [],
   "source": [
    "vehicle_df_dropped = vehicle_df[['CRASH_RECORD_ID', 'VEHICLE_YEAR', 'MANEUVER']]"
   ]
  },
  {
   "cell_type": "markdown",
   "metadata": {},
   "source": [
    "## Subsetting crash records between 10 pm and 5 am"
   ]
  },
  {
   "cell_type": "code",
   "execution_count": 6,
   "metadata": {},
   "outputs": [
    {
     "data": {
      "text/plain": [
       "Index(['CRASH_RECORD_ID', 'TRAFFIC_CONTROL_DEVICE', 'DEVICE_CONDITION',\n",
       "       'WEATHER_CONDITION', 'LIGHTING_CONDITION', 'LANE_CNT',\n",
       "       'ROADWAY_SURFACE_COND', 'ROAD_DEFECT', 'NOT_RIGHT_OF_WAY_I',\n",
       "       'PRIM_CONTRIBUTORY_CAUSE', 'SEC_CONTRIBUTORY_CAUSE', 'DOORING_I',\n",
       "       'WORK_ZONE_I', 'WORK_ZONE_TYPE', 'WORKERS_PRESENT_I', 'CRASH_HOUR',\n",
       "       'CRASH_DAY_OF_WEEK', 'CRASH_MONTH'],\n",
       "      dtype='object')"
      ]
     },
     "execution_count": 6,
     "metadata": {},
     "output_type": "execute_result"
    }
   ],
   "source": [
    "night_time_df = crash_df_cleaned.copy()\n",
    "night_time_df = night_time_df[(night_time_df['CRASH_HOUR'] >= 22) | (night_time_df['CRASH_HOUR'] <= 6)]\n",
    "night_time_df.columns"
   ]
  },
  {
   "cell_type": "markdown",
   "metadata": {},
   "source": [
    "## Joining all three data sets"
   ]
  },
  {
   "cell_type": "code",
   "execution_count": 7,
   "metadata": {},
   "outputs": [
    {
     "data": {
      "text/plain": [
       "((93448, 18), (1224613, 8))"
      ]
     },
     "execution_count": 7,
     "metadata": {},
     "output_type": "execute_result"
    }
   ],
   "source": [
    "#checking the shape\n",
    "night_time_df.shape, people_df_cleaned.shape"
   ]
  },
  {
   "cell_type": "code",
   "execution_count": 8,
   "metadata": {},
   "outputs": [
    {
     "data": {
      "text/plain": [
       "(188733, 25)"
      ]
     },
     "execution_count": 8,
     "metadata": {},
     "output_type": "execute_result"
    }
   ],
   "source": [
    "merge1 = pd.merge(night_time_df, people_df_cleaned, how='left', on='CRASH_RECORD_ID')\n",
    "merge1.shape"
   ]
  },
  {
   "cell_type": "markdown",
   "metadata": {},
   "source": [
    "## Further Exploring Columns\n",
    "\n",
    "#### `INJURY_CLASSIFICATION` target Variable - this includes all people involved in incident, cyclists, passengers, drivers, etc. "
   ]
  },
  {
   "cell_type": "code",
   "execution_count": 9,
   "metadata": {},
   "outputs": [
    {
     "data": {
      "text/plain": [
       "NO INDICATION OF INJURY     166735\n",
       "NONINCAPACITATING INJURY     12730\n",
       "REPORTED, NOT EVIDENT         5501\n",
       "INCAPACITATING INJURY         2834\n",
       "FATAL                          310\n",
       "Name: INJURY_CLASSIFICATION, dtype: int64"
      ]
     },
     "execution_count": 9,
     "metadata": {},
     "output_type": "execute_result"
    }
   ],
   "source": [
    "merge1['INJURY_CLASSIFICATION'].value_counts()"
   ]
  },
  {
   "cell_type": "code",
   "execution_count": 10,
   "metadata": {},
   "outputs": [],
   "source": [
    "# fatal / incapacitate = 1\n",
    "merge1.loc[(merge1['INJURY_CLASSIFICATION'] == 'FATAL') | \n",
    "           (merge1['INJURY_CLASSIFICATION'] == 'INCAPACITATING INJURY'), 'INJURY_CLASSIFICATION'] = '1'\n",
    "\n",
    "# else = 0\n",
    "merge1.loc[merge1['INJURY_CLASSIFICATION'] != '1', 'INJURY_CLASSIFICATION'] = '0'\n",
    "\n",
    "merge1['INJURY_CLASSIFICATION'].fillna('0', inplace=True)"
   ]
  },
  {
   "cell_type": "code",
   "execution_count": 11,
   "metadata": {},
   "outputs": [
    {
     "data": {
      "text/plain": [
       "0    0.983342\n",
       "1    0.016658\n",
       "Name: INJURY_CLASSIFICATION, dtype: float64"
      ]
     },
     "execution_count": 11,
     "metadata": {},
     "output_type": "execute_result"
    }
   ],
   "source": [
    "merge1[\"INJURY_CLASSIFICATION\"].value_counts(normalize=True)"
   ]
  },
  {
   "cell_type": "markdown",
   "metadata": {},
   "source": [
    "### change2 start"
   ]
  },
  {
   "cell_type": "code",
   "execution_count": 12,
   "metadata": {},
   "outputs": [
    {
     "data": {
      "text/plain": [
       "CLEAR                     146655\n",
       "RAIN                       21140\n",
       "UNKNOWN                     8715\n",
       "SNOW                        7102\n",
       "CLOUDY/OVERCAST             2739\n",
       "OTHER                        925\n",
       "FOG/SMOKE/HAZE               680\n",
       "FREEZING RAIN/DRIZZLE        347\n",
       "SLEET/HAIL                   337\n",
       "BLOWING SNOW                  65\n",
       "SEVERE CROSS WIND GATE        28\n",
       "Name: WEATHER_CONDITION, dtype: int64"
      ]
     },
     "execution_count": 12,
     "metadata": {},
     "output_type": "execute_result"
    }
   ],
   "source": [
    "merge1['WEATHER_CONDITION'].value_counts()"
   ]
  },
  {
   "cell_type": "code",
   "execution_count": 13,
   "metadata": {},
   "outputs": [
    {
     "data": {
      "text/plain": [
       "188733"
      ]
     },
     "execution_count": 13,
     "metadata": {},
     "output_type": "execute_result"
    }
   ],
   "source": [
    "merge1['WEATHER_CONDITION'].value_counts().sum()"
   ]
  },
  {
   "cell_type": "code",
   "execution_count": 14,
   "metadata": {},
   "outputs": [
    {
     "data": {
      "text/plain": [
       "(188733, 25)"
      ]
     },
     "execution_count": 14,
     "metadata": {},
     "output_type": "execute_result"
    }
   ],
   "source": [
    "merge1.shape"
   ]
  },
  {
   "cell_type": "code",
   "execution_count": 15,
   "metadata": {},
   "outputs": [
    {
     "data": {
      "text/plain": [
       "0"
      ]
     },
     "execution_count": 15,
     "metadata": {},
     "output_type": "execute_result"
    }
   ],
   "source": [
    "merge1['WEATHER_CONDITION'].isna().sum()"
   ]
  },
  {
   "cell_type": "code",
   "execution_count": 16,
   "metadata": {
    "scrolled": true
   },
   "outputs": [
    {
     "data": {
      "text/plain": [
       "42078"
      ]
     },
     "execution_count": 16,
     "metadata": {},
     "output_type": "execute_result"
    }
   ],
   "source": [
    "merge1['WEATHER_CONDITION'].value_counts().drop(['CLEAR']).sum()"
   ]
  },
  {
   "cell_type": "code",
   "execution_count": 17,
   "metadata": {},
   "outputs": [],
   "source": [
    "# put into a new columns"
   ]
  },
  {
   "cell_type": "code",
   "execution_count": 33,
   "metadata": {},
   "outputs": [],
   "source": [
    "# 1 is clear\n",
    "merge1.loc[merge1['WEATHER_CONDITION'] == 'CLEAR', 'WEATHER_CONDITION'] = 1\n",
    "\n",
    "# 0 is not clear\n",
    "merge1.loc[merge1['WEATHER_CONDITION'] != 1, 'WEATHER_CONDITION'] = 0"
   ]
  },
  {
   "cell_type": "code",
   "execution_count": 34,
   "metadata": {},
   "outputs": [
    {
     "data": {
      "text/plain": [
       "0    1.0\n",
       "Name: WEATHER_CONDITION, dtype: float64"
      ]
     },
     "execution_count": 34,
     "metadata": {},
     "output_type": "execute_result"
    }
   ],
   "source": [
    "merge1['WEATHER_CONDITION'].value_counts(normalize=True)"
   ]
  },
  {
   "cell_type": "code",
   "execution_count": 32,
   "metadata": {},
   "outputs": [
    {
     "name": "stdout",
     "output_type": "stream",
     "text": [
      "<class 'pandas.core.frame.DataFrame'>\n",
      "Int64Index: 188733 entries, 0 to 188732\n",
      "Data columns (total 25 columns):\n",
      " #   Column                   Non-Null Count   Dtype  \n",
      "---  ------                   --------------   -----  \n",
      " 0   CRASH_RECORD_ID          188733 non-null  object \n",
      " 1   TRAFFIC_CONTROL_DEVICE   188733 non-null  object \n",
      " 2   DEVICE_CONDITION         188733 non-null  object \n",
      " 3   WEATHER_CONDITION        188733 non-null  object \n",
      " 4   LIGHTING_CONDITION       188733 non-null  object \n",
      " 5   LANE_CNT                 68969 non-null   float64\n",
      " 6   ROADWAY_SURFACE_COND     188733 non-null  object \n",
      " 7   ROAD_DEFECT              188733 non-null  object \n",
      " 8   NOT_RIGHT_OF_WAY_I       6792 non-null    object \n",
      " 9   PRIM_CONTRIBUTORY_CAUSE  188733 non-null  object \n",
      " 10  SEC_CONTRIBUTORY_CAUSE   188733 non-null  object \n",
      " 11  DOORING_I                388 non-null     object \n",
      " 12  WORK_ZONE_I              1105 non-null    object \n",
      " 13  WORK_ZONE_TYPE           822 non-null     object \n",
      " 14  WORKERS_PRESENT_I        103 non-null     object \n",
      " 15  CRASH_HOUR               188733 non-null  int64  \n",
      " 16  CRASH_DAY_OF_WEEK        188733 non-null  int64  \n",
      " 17  CRASH_MONTH              188733 non-null  int64  \n",
      " 18  PERSON_TYPE              188276 non-null  object \n",
      " 19  AGE                      123578 non-null  float64\n",
      " 20  DRIVERS_LICENSE_STATE    98568 non-null   object \n",
      " 21  DRIVER_ACTION            148294 non-null  object \n",
      " 22  DRIVER_VISION            148229 non-null  object \n",
      " 23  BAC_RESULT VALUE         962 non-null     float64\n",
      " 24  INJURY_CLASSIFICATION    188733 non-null  object \n",
      "dtypes: float64(3), int64(3), object(19)\n",
      "memory usage: 37.4+ MB\n"
     ]
    }
   ],
   "source": [
    "merge1.info()"
   ]
  },
  {
   "cell_type": "markdown",
   "metadata": {},
   "source": [
    "### change2 end"
   ]
  },
  {
   "cell_type": "markdown",
   "metadata": {},
   "source": [
    "### change3 start"
   ]
  },
  {
   "cell_type": "code",
   "execution_count": 20,
   "metadata": {},
   "outputs": [
    {
     "data": {
      "text/plain": [
       "7     19659\n",
       "8     18831\n",
       "9     17955\n",
       "6     17680\n",
       "10    17354\n",
       "5     15966\n",
       "12    15248\n",
       "1     13843\n",
       "11    13711\n",
       "3     13555\n",
       "4     12812\n",
       "2     12119\n",
       "Name: CRASH_MONTH, dtype: int64"
      ]
     },
     "execution_count": 20,
     "metadata": {},
     "output_type": "execute_result"
    }
   ],
   "source": [
    "merge1['CRASH_MONTH'].value_counts()"
   ]
  },
  {
   "cell_type": "code",
   "execution_count": 21,
   "metadata": {},
   "outputs": [
    {
     "data": {
      "text/plain": [
       "<BarContainer object of 12 artists>"
      ]
     },
     "execution_count": 21,
     "metadata": {},
     "output_type": "execute_result"
    },
    {
     "data": {
      "image/png": "[encoded data removed]",
      "text/plain": [
       "<Figure size 432x288 with 1 Axes>"
      ]
     },
     "metadata": {
      "needs_background": "light"
     },
     "output_type": "display_data"
    }
   ],
   "source": [
    "fig, ax = plt.subplots()\n",
    "\n",
    "ax.bar(merge1['CRASH_MONTH'].value_counts().index, merge1['CRASH_MONTH'].value_counts())"
   ]
  },
  {
   "cell_type": "code",
   "execution_count": 22,
   "metadata": {},
   "outputs": [],
   "source": [
    "# binning by four seasons"
   ]
  },
  {
   "cell_type": "code",
   "execution_count": null,
   "metadata": {},
   "outputs": [],
   "source": []
  },
  {
   "cell_type": "code",
   "execution_count": null,
   "metadata": {},
   "outputs": [],
   "source": []
  },
  {
   "cell_type": "code",
   "execution_count": null,
   "metadata": {},
   "outputs": [],
   "source": []
  },
  {
   "cell_type": "code",
   "execution_count": null,
   "metadata": {},
   "outputs": [],
   "source": []
  },
  {
   "cell_type": "code",
   "execution_count": null,
   "metadata": {},
   "outputs": [],
   "source": []
  },
  {
   "cell_type": "markdown",
   "metadata": {},
   "source": [
    "### charge3 end"
   ]
  },
  {
   "cell_type": "code",
   "execution_count": 23,
   "metadata": {
    "scrolled": false
   },
   "outputs": [
    {
     "name": "stdout",
     "output_type": "stream",
     "text": [
      "<class 'pandas.core.frame.DataFrame'>\n",
      "Int64Index: 188733 entries, 0 to 188732\n",
      "Data columns (total 25 columns):\n",
      " #   Column                   Non-Null Count   Dtype  \n",
      "---  ------                   --------------   -----  \n",
      " 0   CRASH_RECORD_ID          188733 non-null  object \n",
      " 1   TRAFFIC_CONTROL_DEVICE   188733 non-null  object \n",
      " 2   DEVICE_CONDITION         188733 non-null  object \n",
      " 3   WEATHER_CONDITION        188733 non-null  object \n",
      " 4   LIGHTING_CONDITION       188733 non-null  object \n",
      " 5   LANE_CNT                 68969 non-null   float64\n",
      " 6   ROADWAY_SURFACE_COND     188733 non-null  object \n",
      " 7   ROAD_DEFECT              188733 non-null  object \n",
      " 8   NOT_RIGHT_OF_WAY_I       6792 non-null    object \n",
      " 9   PRIM_CONTRIBUTORY_CAUSE  188733 non-null  object \n",
      " 10  SEC_CONTRIBUTORY_CAUSE   188733 non-null  object \n",
      " 11  DOORING_I                388 non-null     object \n",
      " 12  WORK_ZONE_I              1105 non-null    object \n",
      " 13  WORK_ZONE_TYPE           822 non-null     object \n",
      " 14  WORKERS_PRESENT_I        103 non-null     object \n",
      " 15  CRASH_HOUR               188733 non-null  int64  \n",
      " 16  CRASH_DAY_OF_WEEK        188733 non-null  int64  \n",
      " 17  CRASH_MONTH              188733 non-null  int64  \n",
      " 18  PERSON_TYPE              188276 non-null  object \n",
      " 19  AGE                      123578 non-null  float64\n",
      " 20  DRIVERS_LICENSE_STATE    98568 non-null   object \n",
      " 21  DRIVER_ACTION            148294 non-null  object \n",
      " 22  DRIVER_VISION            148229 non-null  object \n",
      " 23  BAC_RESULT VALUE         962 non-null     float64\n",
      " 24  INJURY_CLASSIFICATION    188733 non-null  object \n",
      "dtypes: float64(3), int64(3), object(19)\n",
      "memory usage: 37.4+ MB\n"
     ]
    }
   ],
   "source": [
    "final_df = merge1.copy()\n",
    "final_df.info()"
   ]
  },
  {
   "cell_type": "code",
   "execution_count": 24,
   "metadata": {
    "scrolled": true
   },
   "outputs": [
    {
     "data": {
      "text/plain": [
       "UNABLE TO DETERMINE                                                                 64201\n",
       "FAILING TO YIELD RIGHT-OF-WAY                                                       16106\n",
       "FOLLOWING TOO CLOSELY                                                               16072\n",
       "FAILING TO REDUCE SPEED TO AVOID CRASH                                              12682\n",
       "DISREGARDING TRAFFIC SIGNALS                                                         9482\n",
       "NOT APPLICABLE                                                                       8620\n",
       "IMPROPER OVERTAKING/PASSING                                                          7836\n",
       "IMPROPER LANE USAGE                                                                  7114\n",
       "IMPROPER TURNING/NO SIGNAL                                                           6856\n",
       "IMPROPER BACKING                                                                     5310\n",
       "OPERATING VEHICLE IN ERRATIC, RECKLESS, CARELESS, NEGLIGENT OR AGGRESSIVE MANNER     4657\n",
       "DRIVING SKILLS/KNOWLEDGE/EXPERIENCE                                                  4391\n",
       "WEATHER                                                                              3761\n",
       "DISREGARDING STOP SIGN                                                               3537\n",
       "UNDER THE INFLUENCE OF ALCOHOL/DRUGS (USE WHEN ARREST IS EFFECTED)                   3353\n",
       "DRIVING ON WRONG SIDE/WRONG WAY                                                      2124\n",
       "DISTRACTION - FROM INSIDE VEHICLE                                                    1762\n",
       "PHYSICAL CONDITION OF DRIVER                                                         1661\n",
       "EXCEEDING AUTHORIZED SPEED LIMIT                                                     1436\n",
       "EQUIPMENT - VEHICLE CONDITION                                                        1248\n",
       "DISTRACTION - FROM OUTSIDE VEHICLE                                                   1027\n",
       "EXCEEDING SAFE SPEED FOR CONDITIONS                                                   944\n",
       "DISREGARDING OTHER TRAFFIC SIGNS                                                      728\n",
       "VISION OBSCURED (SIGNS, TREE LIMBS, BUILDINGS, ETC.)                                  564\n",
       "HAD BEEN DRINKING (USE WHEN ARREST IS NOT MADE)                                       527\n",
       "EVASIVE ACTION DUE TO ANIMAL, OBJECT, NONMOTORIST                                     456\n",
       "ROAD ENGINEERING/SURFACE/MARKING DEFECTS                                              392\n",
       "CELL PHONE USE OTHER THAN TEXTING                                                     391\n",
       "ROAD CONSTRUCTION/MAINTENANCE                                                         326\n",
       "DISREGARDING ROAD MARKINGS                                                            247\n",
       "ANIMAL                                                                                235\n",
       "TURNING RIGHT ON RED                                                                  233\n",
       "DISTRACTION - OTHER ELECTRONIC DEVICE (NAVIGATION DEVICE, DVD PLAYER, ETC.)           137\n",
       "TEXTING                                                                               119\n",
       "RELATED TO BUS STOP                                                                    66\n",
       "DISREGARDING YIELD SIGN                                                                57\n",
       "PASSING STOPPED SCHOOL BUS                                                             23\n",
       "BICYCLE ADVANCING LEGALLY ON RED LIGHT                                                 21\n",
       "OBSTRUCTED CROSSWALKS                                                                  17\n",
       "MOTORCYCLE ADVANCING LEGALLY ON RED LIGHT                                              14\n",
       "Name: PRIM_CONTRIBUTORY_CAUSE, dtype: int64"
      ]
     },
     "execution_count": 24,
     "metadata": {},
     "output_type": "execute_result"
    }
   ],
   "source": [
    "final_df['PRIM_CONTRIBUTORY_CAUSE'].value_counts()"
   ]
  },
  {
   "cell_type": "markdown",
   "metadata": {},
   "source": [
    "#### Exporting the `final_df` into csv file"
   ]
  },
  {
   "cell_type": "code",
   "execution_count": 25,
   "metadata": {},
   "outputs": [],
   "source": [
    "#clean_data = final_df.to_csv('clean_data.csv', index = False)"
   ]
  },
  {
   "cell_type": "code",
   "execution_count": 30,
   "metadata": {},
   "outputs": [],
   "source": [
    "from sklearn.model_selection import train_test_split\n",
    "\n",
    "#X = final_df.drop(columns=['INJURY_CLASSIFICATION'])\n",
    "X = final_df[['CRASH_HOUR', 'CRASH_MONTH']]\n",
    "y = final_df['INJURY_CLASSIFICATION'].astype(int)\n",
    "\n",
    "X_train, X_test, y_train, y_test = train_test_split(X, y, random_state=42)"
   ]
  },
  {
   "cell_type": "code",
   "execution_count": 31,
   "metadata": {
    "scrolled": true
   },
   "outputs": [
    {
     "data": {
      "text/plain": [
       "DecisionTreeRegressor(max_depth=2, random_state=42)"
      ]
     },
     "execution_count": 31,
     "metadata": {},
     "output_type": "execute_result"
    }
   ],
   "source": [
    "from sklearn.tree import DecisionTreeRegressor, plot_tree\n",
    "\n",
    "tree = DecisionTreeRegressor(random_state=42, max_depth=2)\n",
    "\n",
    "tree.fit(X_train, y_train)"
   ]
  },
  {
   "cell_type": "code",
   "execution_count": null,
   "metadata": {
    "scrolled": true
   },
   "outputs": [],
   "source": [
    "tree.score(X_train, y_train)"
   ]
  },
  {
   "cell_type": "code",
   "execution_count": null,
   "metadata": {},
   "outputs": [],
   "source": []
  },
  {
   "cell_type": "code",
   "execution_count": null,
   "metadata": {},
   "outputs": [],
   "source": [
    "tree.score(X_test, y_test)"
   ]
  },
  {
   "cell_type": "code",
   "execution_count": null,
   "metadata": {},
   "outputs": [],
   "source": [
    "import matplotlib.pyplot as plt\n",
    "\n",
    "fig, ax = plt.subplots(figsize=(10, 10))\n",
    "\n",
    "plot_tree(tree, ax=ax)"
   ]
  },
  {
   "cell_type": "code",
   "execution_count": null,
   "metadata": {},
   "outputs": [],
   "source": []
  },
  {
   "cell_type": "code",
   "execution_count": null,
   "metadata": {},
   "outputs": [],
   "source": []
  },
  {
   "cell_type": "code",
   "execution_count": null,
   "metadata": {},
   "outputs": [],
   "source": [
    "from sklearn.model_selection import train_test_split\n",
    "from sklearn.feature_selection import SelectKBest, chi2\n",
    "\n",
    "#X = final_df.drop(columns=['INJURY_CLASSIFICATION'])\n",
    "#looks like X needs to be ints\n",
    "X = final_df[['CRASH_DAY_OF_WEEK', 'CRASH_MONTH', 'CRASH_HOUR', 'LANE_CNT']]\n",
    "y = final_df['INJURY_CLASSIFICATION'].astype(int)\n",
    "\n",
    "X_train, X_test, y_train, y_test = train_test_split(X, y, random_state=42)"
   ]
  },
  {
   "cell_type": "code",
   "execution_count": null,
   "metadata": {},
   "outputs": [],
   "source": [
    "fs = SelectKBest(score_func=chi2, k='all')\n",
    "fs.fit(X_train, y_train)\n",
    "X_train_fs = fs.transform(X_train)\n",
    "X_test_fs = fs.transform(X_test)"
   ]
  },
  {
   "cell_type": "code",
   "execution_count": null,
   "metadata": {},
   "outputs": [],
   "source": [
    "# what are scores for the features\n",
    "for i in range(len(fs.scores_)):\n",
    "    print('Feature %d: %f' % (i, fs.scores_[i]))\n",
    "# plot the scores\n",
    "plt.bar([i for i in range(len(fs.scores_))], fs.scores_)\n",
    "plt.show()"
   ]
  },
  {
   "cell_type": "code",
   "execution_count": null,
   "metadata": {},
   "outputs": [],
   "source": []
  },
  {
   "cell_type": "code",
   "execution_count": 28,
   "metadata": {},
   "outputs": [],
   "source": [
    "from scipy import stats"
   ]
  },
  {
   "cell_type": "code",
   "execution_count": 29,
   "metadata": {},
   "outputs": [
    {
     "data": {
      "text/html": [
       "<div>\n",
       "<style scoped>\n",
       "    .dataframe tbody tr th:only-of-type {\n",
       "        vertical-align: middle;\n",
       "    }\n",
       "\n",
       "    .dataframe tbody tr th {\n",
       "        vertical-align: top;\n",
       "    }\n",
       "\n",
       "    .dataframe thead th {\n",
       "        text-align: right;\n",
       "    }\n",
       "</style>\n",
       "<table border=\"1\" class=\"dataframe\">\n",
       "  <thead>\n",
       "    <tr style=\"text-align: right;\">\n",
       "      <th></th>\n",
       "      <th>LANE_CNT</th>\n",
       "      <th>CRASH_HOUR</th>\n",
       "      <th>CRASH_DAY_OF_WEEK</th>\n",
       "      <th>CRASH_MONTH</th>\n",
       "      <th>AGE</th>\n",
       "      <th>BAC_RESULT VALUE</th>\n",
       "    </tr>\n",
       "  </thead>\n",
       "  <tbody>\n",
       "    <tr>\n",
       "      <th>LANE_CNT</th>\n",
       "      <td>1.000000</td>\n",
       "      <td>0.009750</td>\n",
       "      <td>0.006242</td>\n",
       "      <td>-0.003138</td>\n",
       "      <td>0.010830</td>\n",
       "      <td>0.014244</td>\n",
       "    </tr>\n",
       "    <tr>\n",
       "      <th>CRASH_HOUR</th>\n",
       "      <td>0.009750</td>\n",
       "      <td>1.000000</td>\n",
       "      <td>0.156737</td>\n",
       "      <td>0.006607</td>\n",
       "      <td>-0.000331</td>\n",
       "      <td>0.020113</td>\n",
       "    </tr>\n",
       "    <tr>\n",
       "      <th>CRASH_DAY_OF_WEEK</th>\n",
       "      <td>0.006242</td>\n",
       "      <td>0.156737</td>\n",
       "      <td>1.000000</td>\n",
       "      <td>0.003282</td>\n",
       "      <td>0.008780</td>\n",
       "      <td>-0.046812</td>\n",
       "    </tr>\n",
       "    <tr>\n",
       "      <th>CRASH_MONTH</th>\n",
       "      <td>-0.003138</td>\n",
       "      <td>0.006607</td>\n",
       "      <td>0.003282</td>\n",
       "      <td>1.000000</td>\n",
       "      <td>-0.002686</td>\n",
       "      <td>-0.015184</td>\n",
       "    </tr>\n",
       "    <tr>\n",
       "      <th>AGE</th>\n",
       "      <td>0.010830</td>\n",
       "      <td>-0.000331</td>\n",
       "      <td>0.008780</td>\n",
       "      <td>-0.002686</td>\n",
       "      <td>1.000000</td>\n",
       "      <td>0.044626</td>\n",
       "    </tr>\n",
       "    <tr>\n",
       "      <th>BAC_RESULT VALUE</th>\n",
       "      <td>0.014244</td>\n",
       "      <td>0.020113</td>\n",
       "      <td>-0.046812</td>\n",
       "      <td>-0.015184</td>\n",
       "      <td>0.044626</td>\n",
       "      <td>1.000000</td>\n",
       "    </tr>\n",
       "  </tbody>\n",
       "</table>\n",
       "</div>"
      ],
      "text/plain": [
       "                   LANE_CNT  CRASH_HOUR  CRASH_DAY_OF_WEEK  CRASH_MONTH  \\\n",
       "LANE_CNT           1.000000    0.009750           0.006242    -0.003138   \n",
       "CRASH_HOUR         0.009750    1.000000           0.156737     0.006607   \n",
       "CRASH_DAY_OF_WEEK  0.006242    0.156737           1.000000     0.003282   \n",
       "CRASH_MONTH       -0.003138    0.006607           0.003282     1.000000   \n",
       "AGE                0.010830   -0.000331           0.008780    -0.002686   \n",
       "BAC_RESULT VALUE   0.014244    0.020113          -0.046812    -0.015184   \n",
       "\n",
       "                        AGE  BAC_RESULT VALUE  \n",
       "LANE_CNT           0.010830          0.014244  \n",
       "CRASH_HOUR        -0.000331          0.020113  \n",
       "CRASH_DAY_OF_WEEK  0.008780         -0.046812  \n",
       "CRASH_MONTH       -0.002686         -0.015184  \n",
       "AGE                1.000000          0.044626  \n",
       "BAC_RESULT VALUE   0.044626          1.000000  "
      ]
     },
     "execution_count": 29,
     "metadata": {},
     "output_type": "execute_result"
    }
   ],
   "source": [
    "final_df.corr()"
   ]
  },
  {
   "cell_type": "code",
   "execution_count": null,
   "metadata": {},
   "outputs": [],
   "source": []
  },
  {
   "cell_type": "code",
   "execution_count": null,
   "metadata": {},
   "outputs": [],
   "source": []
  },
  {
   "cell_type": "code",
   "execution_count": null,
   "metadata": {},
   "outputs": [],
   "source": []
  },
  {
   "cell_type": "code",
   "execution_count": null,
   "metadata": {},
   "outputs": [],
   "source": []
  },
  {
   "cell_type": "code",
   "execution_count": null,
   "metadata": {},
   "outputs": [],
   "source": []
  },
  {
   "cell_type": "code",
   "execution_count": null,
   "metadata": {},
   "outputs": [],
   "source": []
  }
 ],
 "metadata": {
  "interpreter": {
   "hash": "c15d3b161d9e31d3c14101c293414707f40e59d6cae0bbd6b708ca3d1e942f6f"
  },
  "kernelspec": {
   "display_name": "Python (learn-env)",
   "language": "python",
   "name": "learn-env"
  },
  "language_info": {
   "codemirror_mode": {
    "name": "ipython",
    "version": 3
   },
   "file_extension": ".py",
   "mimetype": "text/x-python",
   "name": "python",
   "nbconvert_exporter": "python",
   "pygments_lexer": "ipython3",
   "version": "3.8.5"
  }
 },
 "nbformat": 4,
 "nbformat_minor": 2
}
